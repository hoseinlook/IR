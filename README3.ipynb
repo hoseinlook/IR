{
 "cells": [
  {
   "cell_type": "code",
   "execution_count": 1,
   "metadata": {},
   "outputs": [],
   "source": [
    "from time import time"
   ]
  },
  {
   "cell_type": "code",
   "execution_count": 2,
   "metadata": {},
   "outputs": [
    {
     "name": "stdout",
     "output_type": "stream",
     "text": [
      "/home/hosein/Desktop/univercity/IR_information_retrival/hws/IR_project_step_1/data\n"
     ]
    }
   ],
   "source": [
    "from groupby.load_vectors import cos_similarity , vectorized_list ,MODEL\n",
    "from groupby.clustering import KMeansIndex ,CalKMeans ,find_rss_statistics\n",
    "from groupby.classification import KNN\n",
    "import matplotlib.pyplot as plt"
   ]
  },
  {
   "cell_type": "markdown",
   "metadata": {},
   "source": [
    "### پس از نمایش معیار \n",
    "rss\n",
    "\n",
    "میفهمیم بهترین تعداد خوشه بندی ۲۰ تا است\n",
    "\n",
    "همچنین شرط خاتمه ۲۰۰ تا گام محسابه مراکز است\n",
    "\n",
    "منتها به علت زمان بر بودن این بخش از کد انرا کامنت میکنیم که دوباره ران نشود"
   ]
  },
  {
   "cell_type": "code",
   "execution_count": 3,
   "metadata": {},
   "outputs": [],
   "source": [
    "# plot rss to find best k for clustering\n",
    "\n",
    "# k_list , score_list = find_rss_statistics()\n",
    "# plt.plot(k_list ,score_list)"
   ]
  },
  {
   "cell_type": "markdown",
   "metadata": {},
   "source": [
    "ایتدا از روی ۵۰ هزار داک  کلاسبندی و خوشه بندی را  روی ۷ هزار خبری ک از قبل داشتیم اعمال میکنیم و سپس کلاس بندی و \n",
    "خوشه بندی انها را ذخیر میکنیم\n",
    "\n",
    "منتها به علت زمان بر بودن این بخش از کد انرا کامنت میکنیم که دوباره ران نشود"
   ]
  },
  {
   "cell_type": "code",
   "execution_count": 4,
   "metadata": {},
   "outputs": [],
   "source": [
    "# run knn on data\n",
    "# KNN(k=15).init()\n",
    "\n",
    "# run kmeans on 50k data and save\n",
    "# CalKMeans().start_and_save(k=20, iteration=200)\n",
    "\n",
    "# get centers from 50k data and  cluster 7k data then save it\n",
    "# KMeansIndex().init()"
   ]
  },
  {
   "cell_type": "markdown",
   "metadata": {},
   "source": [
    "حال خوشه بندی و کلاس بندی ای ک از قبل ذخیره شده را  لود میکنیم"
   ]
  },
  {
   "cell_type": "code",
   "execution_count": 5,
   "metadata": {},
   "outputs": [],
   "source": [
    "kmean_index = KMeansIndex.load()\n",
    "knn = KNN.load()"
   ]
  },
  {
   "cell_type": "markdown",
   "metadata": {},
   "source": [
    "# Q1"
   ]
  },
  {
   "cell_type": "code",
   "execution_count": 13,
   "metadata": {},
   "outputs": [],
   "source": [
    "query1 = \"مذاکرات برجام در وین توسط ایران \" # politic\n",
    "query2 = \"واکسن کرونا برای  نجات بیماران کرونایی\" #health\n",
    "query3 = \"ورزشکاران تیم استقلال و پرسپولیس در تیم ملی  فوتبال\" # sport\n",
    "query4 = \"شاعر قرن  جدید در اجتماع\" # culture\n",
    "query5 = \"وابستگی اقتصاد کشور به پول و ارز\" # economy"
   ]
  },
  {
   "cell_type": "markdown",
   "metadata": {},
   "source": [
    "## محاسبه به وسیله دسته بندی"
   ]
  },
  {
   "cell_type": "code",
   "execution_count": 40,
   "metadata": {},
   "outputs": [
    {
     "name": "stdout",
     "output_type": "stream",
     "text": [
      "fetch time 0.12359333038330078\n"
     ]
    },
    {
     "data": {
      "text/plain": [
       "['https://www.isna.ir/news/1400011708228/آغاز-مذاکرات-ایران-و-1-4-در-وین',\n",
       " 'https://www.isna.ir/news/1400012816326/آغاز-نشست-معاونان-وزیران-خارجه-ایران-و-۱-۴',\n",
       " 'https://www.farsnews.ir/news/14000705000484/عضو-کمیسیون-انرژی-مجلس-فیلم-دوربین\\u200cهای-آژانس-فقط-به-شرط-اجرای-تعهدات',\n",
       " 'https://www.farsnews.ir/news/14000628000174/اصرار-آمریکا-و-متحدانش-به-از-سر-گیری-مذاکرات-هسته\\u200cای-چرا',\n",
       " 'https://www.farsnews.ir/news/14000724000360/نامه-عضو-هیات-رئیسه-کمیسیون-اصل-90-به-قالیباف-در-مورد-عملکرد-ظریف',\n",
       " 'https://www.farsnews.ir/news/14000715000481/نبویان-آقای-ظریف-لااقل-برجام-را-یک\\u200cبار-می\\u200cخواندید-بی\\u200cاطلاعی-تیم',\n",
       " 'https://www.isna.ir/news/00061652474/پایان-نشست-ایران-و-۱-۴-ادامه-گفت-وگوها-در-روزهای-آتی-برگزاری',\n",
       " 'https://www.farsnews.ir/news/14000719000473/نامه-بسیج-دانشگاه-امام-صادق-به-وزیر-خارجه-سابق-آقای-ظریف-شما-بیشتر',\n",
       " 'https://www.isna.ir/news/1400022719424/واکاوی-احیای-برجام',\n",
       " 'https://www.isna.ir/news/1400022719424/واکاوی-احیای-برجام']"
      ]
     },
     "execution_count": 40,
     "metadata": {},
     "output_type": "execute_result"
    }
   ],
   "source": [
    "start = time()\n",
    "res =[i[\"url\"] for i in knn.query(query1,cat=\"political\" ,count =10)[0]]\n",
    "print (\"fetch time\" , time()-start)\n",
    "res"
   ]
  },
  {
   "cell_type": "code",
   "execution_count": 41,
   "metadata": {},
   "outputs": [
    {
     "name": "stdout",
     "output_type": "stream",
     "text": [
      "fetch time 0.0318906307220459\n"
     ]
    },
    {
     "data": {
      "text/plain": [
       "['https://www.isna.ir/news/1400011204506/همه-واکسن-ها-تاکنون-روسفید-بوده-اند-یک-سال-زمان-برای-واکسینه',\n",
       " 'https://www.isna.ir/news/1400011204506/همه-واکسن-ها-تاکنون-روسفید-بوده-اند-یک-سال-زمان-برای-واکسینه',\n",
       " 'https://www.isna.ir/news/1400031712208/چه-کسانی-نباید-دز-دوم-واکسن-کرونا-را-تزریق-کنند',\n",
       " 'https://www.isna.ir/news/1400070301669/اثربخشی-واکسن-کرونا-از-چه-زمانی-آغاز-می-شود-و-تا-چه-زمانی-ماندگار',\n",
       " 'https://www.isna.ir/news/1400051107534/واکسیناسیون-افراد-بالای-50-سال-در-قم-آغاز-شد',\n",
       " 'https://www.isna.ir/news/1400062418088/آیا-تزریق-واکسن-کووید-منجر-به-ابتلا-به-کرونا-می-شود',\n",
       " 'https://www.isna.ir/news/1400031309990/شرایط-تزریق-واکسن-در-مبتلایان-کرونا',\n",
       " 'https://www.isna.ir/news/1400031309990/شرایط-تزریق-واکسن-در-مبتلایان-کرونا',\n",
       " 'https://www.isna.ir/news/1400031309990/شرایط-تزریق-واکسن-در-مبتلایان-کرونا',\n",
       " 'https://www.isna.ir/news/1400033022556/تزریق-دوز-دوم-واکسن-کرونا-در-استان-مرکزی-طی-هفته-جاری']"
      ]
     },
     "execution_count": 41,
     "metadata": {},
     "output_type": "execute_result"
    }
   ],
   "source": [
    "start = time()\n",
    "res = [i[\"url\"] for i in knn.query(query2,cat=\"health\" ,count =10)[0]]\n",
    "print (\"fetch time\" , time()-start)\n",
    "res"
   ]
  },
  {
   "cell_type": "code",
   "execution_count": 42,
   "metadata": {},
   "outputs": [
    {
     "name": "stdout",
     "output_type": "stream",
     "text": [
      "fetch time 0.061647653579711914\n"
     ]
    },
    {
     "data": {
      "text/plain": [
       "['https://www.farsnews.ir/news/14000717000321/گلایه-باشگاه-پرسپولیس-از-اسکوچیچ-\\u200c-درخواست-ما-از-تیم-ملی-زیاده-خواهی',\n",
       " 'https://www.farsnews.ir/news/14000728000867/مهدوی\\u200cکیا-توافق-کردیم-3-بازیکن-از-استقلال-بگیریم',\n",
       " 'https://www.farsnews.ir/news/14000730000177/اکبرپور-گرفتن-3-امتیاز-در-بازی-اول-مهم-است-ذوب-آهن-چون-فوتبال-بازی-می',\n",
       " 'https://www.farsnews.ir/news/14000725000793/پنجعلی-تیم\\u200cهای-محلی-هم-مثل-پرسپولیس-به-سفر-نمی\\u200cروند-بدن-بازیکنان',\n",
       " 'https://www.farsnews.ir/news/14000720000706/خوردبین-تمدید-قرارداد-گل\\u200cمحمدی-و-مطهری-بهترین-اقدام-پرسپولیس-بود',\n",
       " 'https://www.isna.ir/news/1400021107784/عبداللهی-توقع-داریم-پرسپولیسی-ها-به-جای-اینکه-دنبال-مسائل-دیگری',\n",
       " 'https://www.farsnews.ir/news/14000714000704/اردوی-پرسپولیس-پیش-از-دیدار-دوستانه-با-سپاهان',\n",
       " 'https://www.farsnews.ir/news/14000722000481/جباری-درباره-تأخیر-سفر-به-عربستان-واژه\\u200cای-بالاتر-از-خجالت-باید-به-کار',\n",
       " 'https://www.farsnews.ir/news/14000726000549/در-آستانه-آغاز-لیگ-اتفاق-افتاد-غیبت-چند-روزه-مجیدی-در-تمرینات-استقلال',\n",
       " 'https://www.isna.ir/news/1400030504458/سرمربی-خوشه-طلایی-لیگ-یک-زبانزد-خاص-و-عام-است']"
      ]
     },
     "execution_count": 42,
     "metadata": {},
     "output_type": "execute_result"
    }
   ],
   "source": [
    "start = time()\n",
    "res = [i[\"url\"] for i in knn.query(query3,cat=\"sport\" ,count =10)[0]]\n",
    "print (\"fetch time\" , time()-start)\n",
    "res"
   ]
  },
  {
   "cell_type": "code",
   "execution_count": 14,
   "metadata": {},
   "outputs": [
    {
     "name": "stdout",
     "output_type": "stream",
     "text": [
      "fetch time 0.03559470176696777\n"
     ]
    },
    {
     "data": {
      "text/plain": [
       "['https://www.isna.ir/news/1400010501438/شاعر-طبیعت-عشق-و-زندگی',\n",
       " 'https://www.isna.ir/news/1400050301495/تریستان-و-ایزوت-در-کتاب-فروشی-ها',\n",
       " 'https://www.isna.ir/news/1400020503131/شاعری-معروف-فقط-با-سه-بیت',\n",
       " 'https://www.isna.ir/news/1400072014232/پیام-سفیر-ایران-در-تاجیکستان-برای-روز-حافظ',\n",
       " 'https://www.isna.ir/news/1400012111114/پیکر-سیدحامد-حسینی-به-خاک-سپرده-شد',\n",
       " 'https://www.isna.ir/news/1400060100810/کسی-فریادهای-محمدرضا-حکیمی-را-نشنید',\n",
       " 'https://www.isna.ir/news/1400050804949/باغبان-مهربان-رفت',\n",
       " 'https://www.isna.ir/news/1400042216186/فلسفه-در-دوره-باستان-منتشر-شد',\n",
       " 'https://www.isna.ir/news/00061640223/ردپای-سیزده-به-در-در-شاهنامه',\n",
       " 'https://www.isna.ir/news/1400042618921/انتشار-گزیده-شعرهای-نزار-قبانی']"
      ]
     },
     "execution_count": 14,
     "metadata": {},
     "output_type": "execute_result"
    }
   ],
   "source": [
    "start = time()\n",
    "res =[i[\"url\"] for i in knn.query(query4,cat=\"culture\" ,count =10)[0]]\n",
    "print (\"fetch time\" , time()-start)\n",
    "res"
   ]
  },
  {
   "cell_type": "code",
   "execution_count": 15,
   "metadata": {},
   "outputs": [
    {
     "name": "stdout",
     "output_type": "stream",
     "text": [
      "fetch time 0.05932021141052246\n"
     ]
    },
    {
     "data": {
      "text/plain": [
       "['https://www.farsnews.ir/news/14000721000308/پیامدهای-تثبیت-نرخ-ارز-اسمی-لزوم-ممانعت-از-افزایش-نرخ-ارز-اسمی',\n",
       " 'https://www.isna.ir/news/1400062719943/اصلی-ترین-تهدید-برای-تامین-کالاهای-اساسی-ایران-چیست',\n",
       " 'https://www.isna.ir/news/1400031209648/سرنوشت-نرخ-در-هفته-های-پایانی-دولت',\n",
       " 'https://www.farsnews.ir/news/14000710000833/بخش-قابل-توجهی-از-دولتمردان-روحانی-از-تُجار-بزرگ-بودند-رئیسی-اصلاحات',\n",
       " 'https://www.farsnews.ir/news/14000714000482/سیاست\\u200cهایی-مثل-دلار-4200-تومانی-شکست-خورده-است-مسیر-غلط-سال-گذشته',\n",
       " 'https://www.farsnews.ir/news/14000730000142/تداوم-ارز-4200-تومانی-موجب-رانت-و-قاچاق-در-کشور-شد-بررسی-راه\\u200cهای',\n",
       " 'https://www.isna.ir/news/1400052819735/رشد-۱۰-درصدی-اقتصاد-ایران-در-دولت-رییسی',\n",
       " 'https://www.isna.ir/news/1400052819735/رشد-۱۰-درصدی-اقتصاد-ایران-در-دولت-رییسی',\n",
       " 'https://www.farsnews.ir/news/14000726000910/گزارش-مجلس-از-عملکرد-بخش-خارجی-اقتصاد-در-سال-399-کاهش-3-درصدی-تجارت',\n",
       " 'https://www.isna.ir/news/1400070905774/چرا-حال-اقتصاد-ایران-۱۰-سال-است-که-خوب-نمی-شود']"
      ]
     },
     "execution_count": 15,
     "metadata": {},
     "output_type": "execute_result"
    }
   ],
   "source": [
    "start = time()\n",
    "res =[i[\"url\"] for i in knn.query(query5,cat=\"economy\" ,count =10)[0]]\n",
    "print (\"fetch time\" , time()-start)\n",
    "res"
   ]
  },
  {
   "cell_type": "markdown",
   "metadata": {},
   "source": [
    "##  محاسبه به وسیله خوشه بندی\n"
   ]
  },
  {
   "cell_type": "code",
   "execution_count": 43,
   "metadata": {},
   "outputs": [
    {
     "name": "stdout",
     "output_type": "stream",
     "text": [
      "fetch time 0.028872013092041016\n"
     ]
    },
    {
     "data": {
      "text/plain": [
       "['https://www.isna.ir/news/1400011708228/آغاز-مذاکرات-ایران-و-1-4-در-وین',\n",
       " 'https://www.isna.ir/news/1400012816326/آغاز-نشست-معاونان-وزیران-خارجه-ایران-و-۱-۴',\n",
       " 'https://www.farsnews.ir/news/14000705000484/عضو-کمیسیون-انرژی-مجلس-فیلم-دوربین\\u200cهای-آژانس-فقط-به-شرط-اجرای-تعهدات',\n",
       " 'https://www.farsnews.ir/news/14000628000174/اصرار-آمریکا-و-متحدانش-به-از-سر-گیری-مذاکرات-هسته\\u200cای-چرا',\n",
       " 'https://www.farsnews.ir/news/14000724000360/نامه-عضو-هیات-رئیسه-کمیسیون-اصل-90-به-قالیباف-در-مورد-عملکرد-ظریف',\n",
       " 'https://www.farsnews.ir/news/14000715000481/نبویان-آقای-ظریف-لااقل-برجام-را-یک\\u200cبار-می\\u200cخواندید-بی\\u200cاطلاعی-تیم',\n",
       " 'https://www.isna.ir/news/00061652474/پایان-نشست-ایران-و-۱-۴-ادامه-گفت-وگوها-در-روزهای-آتی-برگزاری',\n",
       " 'https://www.farsnews.ir/news/14000719000473/نامه-بسیج-دانشگاه-امام-صادق-به-وزیر-خارجه-سابق-آقای-ظریف-شما-بیشتر',\n",
       " 'https://www.isna.ir/news/1400022719424/واکاوی-احیای-برجام',\n",
       " 'https://www.isna.ir/news/1400022719424/واکاوی-احیای-برجام']"
      ]
     },
     "execution_count": 43,
     "metadata": {},
     "output_type": "execute_result"
    }
   ],
   "source": [
    "start = time()\n",
    "res = [i[\"url\"] for i in kmean_index.query(query1 ,count =10)[0]]\n",
    "print (\"fetch time\" , time()-start)\n",
    "res"
   ]
  },
  {
   "cell_type": "code",
   "execution_count": 44,
   "metadata": {},
   "outputs": [
    {
     "name": "stdout",
     "output_type": "stream",
     "text": [
      "fetch time 0.04793953895568848\n"
     ]
    },
    {
     "data": {
      "text/plain": [
       "['https://www.isna.ir/news/1400051107534/واکسیناسیون-افراد-بالای-50-سال-در-قم-آغاز-شد',\n",
       " 'https://www.isna.ir/news/1400033022556/تزریق-دوز-دوم-واکسن-کرونا-در-استان-مرکزی-طی-هفته-جاری',\n",
       " 'https://www.isna.ir/news/1400072517310/تداوم-واردات-واکسن-از-سوی-هلال-احمر-۶-میلیون-دز-سینوفارم-وارد',\n",
       " 'https://www.isna.ir/news/1400011003724/هر-گونه-جشن-عروسی-مراسم-فاتحه-و-دورهمی-باید-سریعا-ممنوع-شود',\n",
       " 'https://www.isna.ir/news/1400011003724/هر-گونه-جشن-عروسی-مراسم-فاتحه-و-دورهمی-باید-سریعا-ممنوع-شود',\n",
       " 'https://www.isna.ir/news/1400021006891/رشد-آمار-فوتی-ها-در-استان-بوشهر-برای-مصون-ماندن-از-کرونا-چه',\n",
       " 'https://www.isna.ir/news/1400031108340/گونه-های-جدید-کرونا-بوشهر-را-تهدید-می-کند',\n",
       " 'https://www.isna.ir/news/1400042518038/آخرین-وضعیت-پانته-آ-بهرام-بعد-از-ابتلا-به-کرونا',\n",
       " 'https://www.isna.ir/news/00061635955/عروسی-کرونایی-تبدیل-به-عزا-شد-عروس-و-داماد-بستری-هستند',\n",
       " 'https://www.isna.ir/news/00061635955/عروسی-کرونایی-تبدیل-به-عزا-شد-عروس-و-داماد-بستری-هستند']"
      ]
     },
     "execution_count": 44,
     "metadata": {},
     "output_type": "execute_result"
    }
   ],
   "source": [
    "start = time()\n",
    "res = [i[\"url\"] for i in kmean_index.query(query2 ,count =10)[0]]\n",
    "print (\"fetch time\" , time()-start)\n",
    "res"
   ]
  },
  {
   "cell_type": "code",
   "execution_count": 45,
   "metadata": {},
   "outputs": [
    {
     "name": "stdout",
     "output_type": "stream",
     "text": [
      "fetch time 0.03691697120666504\n"
     ]
    },
    {
     "data": {
      "text/plain": [
       "['https://www.farsnews.ir/news/14000717000321/گلایه-باشگاه-پرسپولیس-از-اسکوچیچ-\\u200c-درخواست-ما-از-تیم-ملی-زیاده-خواهی',\n",
       " 'https://www.farsnews.ir/news/14000728000867/مهدوی\\u200cکیا-توافق-کردیم-3-بازیکن-از-استقلال-بگیریم',\n",
       " 'https://www.farsnews.ir/news/14000730000177/اکبرپور-گرفتن-3-امتیاز-در-بازی-اول-مهم-است-ذوب-آهن-چون-فوتبال-بازی-می',\n",
       " 'https://www.farsnews.ir/news/14000725000793/پنجعلی-تیم\\u200cهای-محلی-هم-مثل-پرسپولیس-به-سفر-نمی\\u200cروند-بدن-بازیکنان',\n",
       " 'https://www.farsnews.ir/news/14000720000706/خوردبین-تمدید-قرارداد-گل\\u200cمحمدی-و-مطهری-بهترین-اقدام-پرسپولیس-بود',\n",
       " 'https://www.isna.ir/news/1400021107784/عبداللهی-توقع-داریم-پرسپولیسی-ها-به-جای-اینکه-دنبال-مسائل-دیگری',\n",
       " 'https://www.farsnews.ir/news/14000714000704/اردوی-پرسپولیس-پیش-از-دیدار-دوستانه-با-سپاهان',\n",
       " 'https://www.farsnews.ir/news/14000722000481/جباری-درباره-تأخیر-سفر-به-عربستان-واژه\\u200cای-بالاتر-از-خجالت-باید-به-کار',\n",
       " 'https://www.isna.ir/news/1400030504458/سرمربی-خوشه-طلایی-لیگ-یک-زبانزد-خاص-و-عام-است',\n",
       " 'https://www.farsnews.ir/news/14000717000491/تمرینات-استقلال-موقتا-به-مجموعه-انقلاب-منتقل-می-شود-حضور-بازیکن']"
      ]
     },
     "execution_count": 45,
     "metadata": {},
     "output_type": "execute_result"
    }
   ],
   "source": [
    "start = time()\n",
    "res = [i[\"url\"] for i in kmean_index.query(query3,count =10)[0]]\n",
    "print (\"fetch time\" , time()-start)\n",
    "res"
   ]
  },
  {
   "cell_type": "code",
   "execution_count": 16,
   "metadata": {},
   "outputs": [
    {
     "name": "stdout",
     "output_type": "stream",
     "text": [
      "fetch time 0.08957338333129883\n"
     ]
    },
    {
     "data": {
      "text/plain": [
       "['https://www.isna.ir/news/1400010501438/شاعر-طبیعت-عشق-و-زندگی',\n",
       " 'https://www.isna.ir/news/1400050301495/تریستان-و-ایزوت-در-کتاب-فروشی-ها',\n",
       " 'https://www.isna.ir/news/1400020503131/شاعری-معروف-فقط-با-سه-بیت',\n",
       " 'https://www.isna.ir/news/1400050804949/باغبان-مهربان-رفت',\n",
       " 'https://www.isna.ir/news/1400042216186/فلسفه-در-دوره-باستان-منتشر-شد',\n",
       " 'https://www.isna.ir/news/00061640223/ردپای-سیزده-به-در-در-شاهنامه',\n",
       " 'https://www.isna.ir/news/1400042618921/انتشار-گزیده-شعرهای-نزار-قبانی',\n",
       " 'https://www.isna.ir/news/1400010602039/قرنها-بگذشت-به-روایت-شمیم-بهار',\n",
       " 'https://www.isna.ir/news/1400062720013/بزرگ-ترین-دستاورد-شهریار-به-روایت-شفیعی-کدکنی',\n",
       " 'https://www.isna.ir/news/1400011909732/بیکران-تنهایی-منتشر-شد']"
      ]
     },
     "execution_count": 16,
     "metadata": {},
     "output_type": "execute_result"
    }
   ],
   "source": [
    "start = time()\n",
    "res = [i[\"url\"] for i in kmean_index.query(query4,count =10)[0]]\n",
    "print (\"fetch time\" , time()-start)\n",
    "res"
   ]
  },
  {
   "cell_type": "code",
   "execution_count": 17,
   "metadata": {},
   "outputs": [
    {
     "name": "stdout",
     "output_type": "stream",
     "text": [
      "fetch time 0.022917747497558594\n"
     ]
    },
    {
     "data": {
      "text/plain": [
       "['https://www.farsnews.ir/news/14000721000308/پیامدهای-تثبیت-نرخ-ارز-اسمی-لزوم-ممانعت-از-افزایش-نرخ-ارز-اسمی',\n",
       " 'https://www.isna.ir/news/1400062719943/اصلی-ترین-تهدید-برای-تامین-کالاهای-اساسی-ایران-چیست',\n",
       " 'https://www.isna.ir/news/1400031209648/سرنوشت-نرخ-در-هفته-های-پایانی-دولت',\n",
       " 'https://www.farsnews.ir/news/14000710000833/بخش-قابل-توجهی-از-دولتمردان-روحانی-از-تُجار-بزرگ-بودند-رئیسی-اصلاحات',\n",
       " 'https://www.farsnews.ir/news/14000714000482/سیاست\\u200cهایی-مثل-دلار-4200-تومانی-شکست-خورده-است-مسیر-غلط-سال-گذشته',\n",
       " 'https://www.farsnews.ir/news/14000730000142/تداوم-ارز-4200-تومانی-موجب-رانت-و-قاچاق-در-کشور-شد-بررسی-راه\\u200cهای',\n",
       " 'https://www.isna.ir/news/1400052819735/رشد-۱۰-درصدی-اقتصاد-ایران-در-دولت-رییسی',\n",
       " 'https://www.isna.ir/news/1400052819735/رشد-۱۰-درصدی-اقتصاد-ایران-در-دولت-رییسی',\n",
       " 'https://www.farsnews.ir/news/14000726000910/گزارش-مجلس-از-عملکرد-بخش-خارجی-اقتصاد-در-سال-399-کاهش-3-درصدی-تجارت',\n",
       " 'https://www.isna.ir/news/1400070905774/چرا-حال-اقتصاد-ایران-۱۰-سال-است-که-خوب-نمی-شود']"
      ]
     },
     "execution_count": 17,
     "metadata": {},
     "output_type": "execute_result"
    }
   ],
   "source": [
    "start = time()\n",
    "res = [i[\"url\"] for i in kmean_index.query(query5,count =10)[0]]\n",
    "print (\"fetch time\" , time()-start)\n",
    "res"
   ]
  },
  {
   "cell_type": "code",
   "execution_count": null,
   "metadata": {},
   "outputs": [],
   "source": []
  },
  {
   "cell_type": "code",
   "execution_count": null,
   "metadata": {},
   "outputs": [],
   "source": []
  },
  {
   "cell_type": "markdown",
   "metadata": {},
   "source": [
    "همانطور که میبینیم هر دو روش کلاستر و دسته بندی دقت و سرعت قابل قیولی دارند زیرا در خوشه بندی مقدار کا برابر با ۲۰ انتخاب \n",
    "شده است\n",
    "همچنین برای دسته بندی این مقدار ۱۵ انتخاب شده که باعث دقت بیشتر شده است"
   ]
  },
  {
   "cell_type": "markdown",
   "metadata": {},
   "source": [
    "سرعت خوشه بندی اندکی بیشتر است زیرا  تعداد گروه بندی بیشتری نسبت به روش دسته بندی دارد پس با تعداد مقاسه کمتری میتوانیم جواب های مرتبط را بدست بیاوریم "
   ]
  },
  {
   "cell_type": "markdown",
   "metadata": {},
   "source": [
    "مثل سوال اول سرعت و دقت بالاست و اما دلیل شباهت زیاد نتایج پرسمان های طولانی است که چون بردار ها نیز بر اساس\n",
    "\n",
    "word2vec\n",
    "\n",
    "بوده است  پرسمان طولانی باعث دقیق تز شدن بردار پرسمان هست پس هم در دسته بندی هم در خوشه بندی جواب دقیق تری پیدا شده است و شباهت بالا هر دوی اینا دلیل این امر است و سرعت خوشه بندی به علت مقایسه کمتر   بیشتر است"
   ]
  },
  {
   "cell_type": "markdown",
   "metadata": {},
   "source": [
    "# استقلال با کتگوری های مختلف"
   ]
  },
  {
   "cell_type": "code",
   "execution_count": 52,
   "metadata": {},
   "outputs": [
    {
     "name": "stdout",
     "output_type": "stream",
     "text": [
      "fetch time 0.03573775291442871\n"
     ]
    },
    {
     "data": {
      "text/plain": [
       "['https://www.isna.ir/news/1400031813185/آخرین-وضعیت-واگذاری-سرخابی-ها-اعلام-شد',\n",
       " 'https://www.isna.ir/news/1400031813185/آخرین-وضعیت-واگذاری-سرخابی-ها-اعلام-شد',\n",
       " 'https://www.farsnews.ir/news/14000719000309/باج-بن-سلمان-به-انگلیس-و-قطر-پروژه-فوتبالی-آل-سعود-چگونه-رقم-خورد',\n",
       " 'https://www.farsnews.ir/news/14000718000881/آغاز-رسمی-مزایده-انتخاب-کارگزار-اسپانسر-باشگاه-پرسپولیس',\n",
       " 'https://www.farsnews.ir/news/14000801000477/توضیح-باشگاه-پرسپولیس-درمورد-همکاری-با-نرم\\u200cافزارها-و-سامانه\\u200cها',\n",
       " 'https://www.isna.ir/news/1400061713125/چرا-گوگل-طاقچه-را-حذف-کرد',\n",
       " 'https://www.isna.ir/news/1400061713125/چرا-گوگل-طاقچه-را-حذف-کرد',\n",
       " 'https://www.isna.ir/news/1400061713125/چرا-گوگل-طاقچه-را-حذف-کرد',\n",
       " 'https://www.farsnews.ir/news/14000710000775/ساعدی-قطع-واردات-لوازم-خانگی-از-کره-جنوبی-به-دنبال-رفتار-نامناسب',\n",
       " 'https://www.isna.ir/news/1400050402491/قطعی-برق-دلیل-تجمع-خیابان-جمهوری-بود-اکنون-شرایط-عادی-است']"
      ]
     },
     "execution_count": 52,
     "metadata": {},
     "output_type": "execute_result"
    }
   ],
   "source": [
    "start = time()\n",
    "res =[i[\"url\"] for i in knn.query(\"استقلال\",cat=\"economy\" ,count =10)[0]]\n",
    "print (\"fetch time\" , time()-start)\n",
    "res"
   ]
  },
  {
   "cell_type": "code",
   "execution_count": 53,
   "metadata": {},
   "outputs": [
    {
     "name": "stdout",
     "output_type": "stream",
     "text": [
      "fetch time 0.056273460388183594\n"
     ]
    },
    {
     "data": {
      "text/plain": [
       "['https://www.farsnews.ir/news/14000730000177/اکبرپور-گرفتن-3-امتیاز-در-بازی-اول-مهم-است-ذوب-آهن-چون-فوتبال-بازی-می',\n",
       " 'https://www.farsnews.ir/news/14000723000548/یامگا-هم-تیمی-های-ایرانی-ام-از-استقلال-خیلی-تعریف-کردند-به-بزرگترین',\n",
       " 'https://www.isna.ir/news/1400021107784/عبداللهی-توقع-داریم-پرسپولیسی-ها-به-جای-اینکه-دنبال-مسائل-دیگری',\n",
       " 'https://www.isna.ir/news/1400042719881/از-تعطیلی-تمرین-استقلال-تا-شعار-هواداران-علیه-مدیریت',\n",
       " 'https://www.farsnews.ir/news/14000714000691/قرارداد-بازیکن-استقلال-فسخ-شد',\n",
       " 'https://www.farsnews.ir/news/14000720000706/خوردبین-تمدید-قرارداد-گل\\u200cمحمدی-و-مطهری-بهترین-اقدام-پرسپولیس-بود',\n",
       " 'https://www.farsnews.ir/news/14000724000422/خادم\\u200cپور-آجورلو-در-حق-من-پدری-کرد-از-کمالوند-نکات-زیادی-در-استقلال',\n",
       " 'https://www.farsnews.ir/news/14000718000807/چشمی-سال-سختی-داریم-امیدوارم-با-قهرمانی-بتوانیم-هواداران-استقلال-را',\n",
       " 'https://www.farsnews.ir/news/14000718000668/مهاجم-تراکتور-جدا-شد',\n",
       " 'https://www.isna.ir/news/1400021309291/تساوی-مدعی-لیگ-یک-مقابل-استقلال-ملاثانی']"
      ]
     },
     "execution_count": 53,
     "metadata": {},
     "output_type": "execute_result"
    }
   ],
   "source": [
    "start = time()\n",
    "res =[i[\"url\"] for i in knn.query(\"استقلال\",cat=\"sport\" ,count =10)[0]]\n",
    "print (\"fetch time\" , time()-start)\n",
    "res"
   ]
  },
  {
   "cell_type": "markdown",
   "metadata": {},
   "source": [
    "از انجایی که به کلمه استقلال از دو وجه ورزشی و اقتصادی میتوان نگاه کرد و این قضیه در  \n",
    "\n",
    "word2vec\n",
    "\n",
    "بسیار  خود را نشان داده است زیرا بر اساس محتوای کلمه استقلال در جملات بردار استقلال را ساخته است\n",
    "\n",
    "پس با سرچ کردن این کلمه در کتگوری های مختلف جواب های مختلف  از وجوه مختلف معنایی کلمه استقلال خواهیم داشت \n",
    "برای مثال در ورزش استقلال یاداور تیم استقلال و فوتبال است \n",
    "اما در اقتصاد به معنای  به استقلال و خودکفایی رسیدن  است"
   ]
  },
  {
   "cell_type": "markdown",
   "metadata": {},
   "source": [
    "# Q2"
   ]
  },
  {
   "cell_type": "markdown",
   "metadata": {},
   "source": [
    "#### اگر برای این ۵ کوئری از روش های قبلی فاز اول استفاده کنیم به جواب های زیر میرسیم "
   ]
  },
  {
   "cell_type": "code",
   "execution_count": 76,
   "metadata": {},
   "outputs": [],
   "source": [
    "from main import load_or_create_the_inverted_index ,ChampionsListQuery ,ORIGIN_DATA ,TFIndex ,KChampionsList"
   ]
  },
  {
   "cell_type": "code",
   "execution_count": 77,
   "metadata": {},
   "outputs": [
    {
     "name": "stdout",
     "output_type": "stream",
     "text": [
      "loading index from file\n"
     ]
    }
   ],
   "source": [
    "load_or_create_the_inverted_index()\n",
    "TFIndex.initialize()\n",
    "KChampionsList().initialize()"
   ]
  },
  {
   "cell_type": "code",
   "execution_count": 78,
   "metadata": {},
   "outputs": [
    {
     "name": "stdout",
     "output_type": "stream",
     "text": [
      "fetch time 0.21985912322998047\n"
     ]
    },
    {
     "data": {
      "text/plain": [
       "['https://www.isna.ir/news/1400032216018/نشست-کمیسیون-مشترک-برجام-آغاز-شد',\n",
       " 'https://www.isna.ir/news/1400032216047/نشست-کمیسیون-مشترک-برجام-پایان-یافت-آغاز-رایزنی-های-فنی',\n",
       " 'https://www.isna.ir/news/1400011607402/عراقچی-وارد-وین-شد',\n",
       " 'https://www.isna.ir/news/1400011405606/فردا-بررسی-مذاکرات-برجامی-در-کمیسیون-امنیت-ملی',\n",
       " 'https://www.isna.ir/news/1400022216035/ظریف-به-اروپا-می-رود',\n",
       " 'https://www.isna.ir/news/1400020604170/نشست-کمیسیون-مشترک-برجام-سه-شنبه-در-وین-برگزار-می-شود',\n",
       " 'https://www.isna.ir/news/1400021913078/واعظی-مذاکرات-وین-پیشرفت-های-مناسبی-داشته-است',\n",
       " 'https://www.isna.ir/news/1400012413832/نشست-مشترک-ایران-با-۱-۴-با-یک-روز-تاخیر-انجام-می-شود',\n",
       " 'https://www.isna.ir/news/1400022719424/واکاوی-احیای-برجام',\n",
       " 'https://www.isna.ir/news/1400022719424/واکاوی-احیای-برجام']"
      ]
     },
     "execution_count": 78,
     "metadata": {},
     "output_type": "execute_result"
    }
   ],
   "source": [
    "start = time()\n",
    "id_list= ChampionsListQuery(query=query1).get_result(10)\n",
    "res = [ORIGIN_DATA[i]['url'] for i in id_list]\n",
    "print(\"fetch time\" ,time()-start)\n",
    "res\n"
   ]
  },
  {
   "cell_type": "code",
   "execution_count": 79,
   "metadata": {},
   "outputs": [
    {
     "name": "stdout",
     "output_type": "stream",
     "text": [
      "fetch time 0.5045719146728516\n"
     ]
    },
    {
     "data": {
      "text/plain": [
       "['https://www.isna.ir/news/1400071208334/تزریق-بیش-از-یک-میلیون-و-۸۲-هزار-دز-واکسن-در-کشور-طی-۲۴-ساعت',\n",
       " 'https://www.isna.ir/news/1400071208334/تزریق-بیش-از-یک-میلیون-و-۸۲-هزار-دز-واکسن-در-کشور-طی-۲۴-ساعت',\n",
       " 'https://www.isna.ir/news/1400070603765/تزریق-۷۸۱-هزار-و-۹۲۸-دز-واکسن-کرونا-در-کشور-طی-24-ساعت-گذشته',\n",
       " 'https://www.isna.ir/news/1400061813558/تزریق-بیش-از-۹۵۸هزار-دز-واکسن-کرونا-در-کشور-طی-۲۴-ساعت-گذشته',\n",
       " 'https://www.isna.ir/news/1400062216374/واکسیناسیون-کرونا-بر-مدار-سرعت-تزریق-یک-میلیون-و-۵۹۰-هزار-دز',\n",
       " 'https://www.isna.ir/news/1400011606749/اعلام-وضعیت-قرمز-در-شهرستان-های-دشتستان-و-دیلم',\n",
       " 'https://www.isna.ir/news/1400031712208/چه-کسانی-نباید-دز-دوم-واکسن-کرونا-را-تزریق-کنند',\n",
       " 'https://www.isna.ir/news/1400051309257/آمار-تولید-تحویل-و-تزریق-واکسن-کووایران-برکت-تا-امروز',\n",
       " 'https://www.isna.ir/news/1400051309257/آمار-تولید-تحویل-و-تزریق-واکسن-کووایران-برکت-تا-امروز',\n",
       " 'https://www.isna.ir/news/1400011003724/هر-گونه-جشن-عروسی-مراسم-فاتحه-و-دورهمی-باید-سریعا-ممنوع-شود']"
      ]
     },
     "execution_count": 79,
     "metadata": {},
     "output_type": "execute_result"
    }
   ],
   "source": [
    "start = time()\n",
    "id_list= ChampionsListQuery(query=query2).get_result(10)\n",
    "res = [ORIGIN_DATA[i]['url'] for i in id_list]\n",
    "print(\"fetch time\" ,time()-start)\n",
    "res"
   ]
  },
  {
   "cell_type": "code",
   "execution_count": 80,
   "metadata": {},
   "outputs": [
    {
     "name": "stdout",
     "output_type": "stream",
     "text": [
      "fetch time 0.22283720970153809\n"
     ]
    },
    {
     "data": {
      "text/plain": [
       "['https://www.farsnews.ir/news/14000801000643/هفته-دوم-لیگ-دسته-اول|-تساوی-استقلال-خوزستان-و-بادران',\n",
       " 'https://www.farsnews.ir/news/14000721000400/محل-تمرین-امروز-استقلال-مشخص-شد',\n",
       " 'https://www.isna.ir/news/1400020705017/۵-درصد-از-قرارداد-اعضای-تیم-پرسپولیس-پرداخت-شد',\n",
       " 'https://www.isna.ir/news/1400010401417/حسن-جعفری-به-مس-رفسنجان-پیوست',\n",
       " 'https://www.farsnews.ir/news/14000711000756/دیدار-استقلال-و-پیکان-پشت-درهای-بسته',\n",
       " 'https://www.isna.ir/news/1400062619389/سهراب-بختیاری-زاده-سرمربی-استقلال-خوزستان-شد',\n",
       " 'https://www.isna.ir/news/1400021107612/ابتلای-دو-بازیکن-تیم-فوتبال-پنج-نفره-به-کرونا',\n",
       " 'https://www.farsnews.ir/news/14000722000343/مهدوی-کیا-یک-بازیکن-را-به-تیم-امید-دعوت-کرد',\n",
       " 'https://www.farsnews.ir/news/14000715000549/انتخابی-جام-جهانی-2022|-توقف-عراق-مقابل-لبنان',\n",
       " 'https://www.farsnews.ir/news/14000724000986/آمار-بازی-پرسپولیس-الهلال-تیم-سعودی-کاملا-برتر-از-شاگردان-گل-محمدی']"
      ]
     },
     "execution_count": 80,
     "metadata": {},
     "output_type": "execute_result"
    }
   ],
   "source": [
    "start = time()\n",
    "id_list= ChampionsListQuery(query=query3).get_result(10)\n",
    "res = [ORIGIN_DATA[i]['url'] for i in id_list]\n",
    "print(\"fetch time\" ,time()-start)\n",
    "res"
   ]
  },
  {
   "cell_type": "code",
   "execution_count": 81,
   "metadata": {},
   "outputs": [
    {
     "name": "stdout",
     "output_type": "stream",
     "text": [
      "fetch time 0.22860074043273926\n"
     ]
    },
    {
     "data": {
      "text/plain": [
       "['https://www.farsnews.ir/news/14000712000420/راهکار-جدید-پرسپولیس-برای-پرداخت-طلب-رادوشوویچ',\n",
       " 'https://www.isna.ir/news/00061759320/وزیر-تعاون-کار-و-رفاه-اجتماعی-در-رادیو',\n",
       " 'https://www.farsnews.ir/news/14000707000590/دستگیری-سوداگران-رمز-ارز-توسط-وزارت-اطلاعات',\n",
       " 'https://www.isna.ir/news/1400020604176/نوش-دارو-پس-از-مرگ-سهراب-پول-به-نفت-آبادان-رسید',\n",
       " 'https://www.isna.ir/news/1400012816297/همه-اقتصادها-سقوط-کردند-جز-ایران',\n",
       " 'https://www.isna.ir/news/1400062418083/وزیر-نفت-به-رادیو-اقتصاد-می-رود',\n",
       " 'https://www.farsnews.ir/news/14000801000581/شوک-دوباره-به-پرسپولیس-بدهی-300-میلیاردی-سرخ\\u200cها-به-سازمان-امور-مالیاتی',\n",
       " 'https://www.farsnews.ir/news/14000801000771/امیرآبادی-باید-بر-زنجیره-توزیع-کالا-در-کشور-نظارت-دقیق-صورت-گیرد',\n",
       " 'https://www.isna.ir/news/1400042115076/یارانه-لبنیاتی-ایرانی-ها-در-جیب-مافیا-و-کشورهای-همسایه',\n",
       " 'https://www.isna.ir/news/1400051913907/انتشار-گره-خورده-ام-به-نام-تو']"
      ]
     },
     "execution_count": 81,
     "metadata": {},
     "output_type": "execute_result"
    }
   ],
   "source": [
    "\n",
    "start = time()\n",
    "id_list= ChampionsListQuery(query=query5).get_result(10)\n",
    "res = [ORIGIN_DATA[i]['url'] for i in id_list]\n",
    "print(\"fetch time\" ,time()-start)\n",
    "res"
   ]
  },
  {
   "cell_type": "markdown",
   "metadata": {},
   "source": [
    "# -----------------------------------------------------------------\n",
    "همانطور ک میبینیم برای مقایسه\n",
    "\n",
    "\n",
    "kChampionList\n",
    "\n",
    "رو انتخاب کردیم ک بر اساس \n",
    "\n",
    "tfidf\n",
    "\n",
    "است پس داک هایی ک دقیقا  ترم های پرسمان را داشته باشند وزن دهی میکند  ولی ریکال و بازیابی کمتری دارد زیرا ممکن است محتوایی باشد ک از نظر محتوایی مرتبط باشد ولی هیچ یک از کلمات پرسمان را نداشته باشد برای همین اندکی جواب ها مختلف است\n",
    "از طرفی دیگر ما در کلاس بندی میتوانیم بر اساس موضوع  بازیابی کنیم مثلا کلمه استقلال ک در بالا گفته شد هم میتوان از نظر فرهنگی و اقتصادی ان را سرچ کرد هم ورزشی\n",
    "ک  نوعی سرچ بر اساس محتوا هستند  درصورتی ک در روش های قبلی ک مبتنی بر ترم بودند این نشدنی بود\n",
    "\n",
    " چون  برای خوشه بندی و کلاس بندی از مدل های\n",
    "\n",
    "word2vec\n",
    "\n",
    "استفاده کرده ایم  محتوای برگردانده شده از نظر محتوایی  شبیه  هستند\n",
    "همچنین در خوشه بندی و کلاس بندی نسبت به روش های قبلی recall بیشتری داریم زیرا در هر خوشه ما از نظر محتوایی داک های شبیه را تقسیم بندی کرده ایم پس داکهای شبیه پرسمان حتی با اینکه ممکن است ترم های پرسمان را نداشته باشند را میتوانیم  بازیابی کنیم و این خوب است\n",
    "از نظر سرعت هم خوشه بندی  و کلاس بندی  سریع تر  هستند ( البته در کد من چون بهینه تر زده شده )"
   ]
  },
  {
   "cell_type": "markdown",
   "metadata": {},
   "source": [
    "# پرسمانی کوتاه تر"
   ]
  },
  {
   "cell_type": "code",
   "execution_count": 72,
   "metadata": {},
   "outputs": [],
   "source": [
    "query6 =\"  دانشگاه تهران\" "
   ]
  },
  {
   "cell_type": "code",
   "execution_count": 73,
   "metadata": {},
   "outputs": [
    {
     "name": "stdout",
     "output_type": "stream",
     "text": [
      "fetch time 0.044615983963012695\n"
     ]
    },
    {
     "data": {
      "text/plain": [
       "['https://www.isna.ir/news/1400041612056/معرفی-اعضای-جدید-انجمن-نقد-ادبی-ایران',\n",
       " 'https://www.isna.ir/news/1400041612056/معرفی-اعضای-جدید-انجمن-نقد-ادبی-ایران',\n",
       " 'https://www.isna.ir/news/00061732347/یادبودی-برای-میرعابدین-کابلی',\n",
       " 'https://www.isna.ir/news/1400040503240/مراسمی-برای-بزرگداشت-علی-بلوکباشی',\n",
       " 'https://www.isna.ir/news/1400022618442/ایران-شناسی-به-مثابه-رشته-دانشگاهی-در-ایران',\n",
       " 'https://www.isna.ir/news/1400060805878/یادبودهایی-برای-کامران-احمدگلی-و-غلامعلی-فلاح',\n",
       " 'https://www.isna.ir/news/1400072014235/برگزیدگان-جشنواره-ملی-شعر-دانشجویی-معرفی-شدند',\n",
       " 'https://www.isna.ir/news/1400060806074/پروفسور-کشتی-ایران-درگذشت-از-ریاست-فدراسیون-تا-تحصیل-در-دانشگاه-های',\n",
       " 'https://www.isna.ir/news/1400030302441/تدوین-دانش-نامه-ایران-شناسی-به-زبان-روسی',\n",
       " 'https://www.isna.ir/news/1400050200888/درگذشت-مؤلف-کتب-علوم-بر-اثر-ابتلا-به-کووید-۱۹']"
      ]
     },
     "execution_count": 73,
     "metadata": {},
     "output_type": "execute_result"
    }
   ],
   "source": [
    "start = time()\n",
    "res =[i[\"url\"] for i in knn.query(query6,cat=\"culture\" ,count =10)[0]]\n",
    "print (\"fetch time\" , time()-start)\n",
    "res"
   ]
  },
  {
   "cell_type": "code",
   "execution_count": 85,
   "metadata": {},
   "outputs": [
    {
     "data": {
      "text/plain": [
       "'one more retrival with diffrent category'"
      ]
     },
     "execution_count": 85,
     "metadata": {},
     "output_type": "execute_result"
    }
   ],
   "source": [
    "\"one more retrival with diffrent category\""
   ]
  },
  {
   "cell_type": "code",
   "execution_count": 84,
   "metadata": {},
   "outputs": [
    {
     "name": "stdout",
     "output_type": "stream",
     "text": [
      "fetch time 0.025678634643554688\n"
     ]
    },
    {
     "data": {
      "text/plain": [
       "['https://www.farsnews.ir/news/14000711000856/سیدرضا-مرتضوی-و-مهدی-دوستی-استانداران-اصفهان-و-هرمزگان-شدند',\n",
       " 'https://www.farsnews.ir/news/14000631000448/تعیین-دو-استاندار-بوشهر-و-کهگیلویه-و-بویراحمد',\n",
       " 'https://www.isna.ir/news/1400061813301/انعقاد-تفاهم-نامه-همکاری-بین-دانشگاه-علم-و-فرهنگ-و-مجمع-شیعه',\n",
       " 'https://www.isna.ir/news/1400032215606/راه-اندازی-نخستین-آزمایشگاه-تست-انژکتور-خودروهای-بنزینی',\n",
       " 'https://www.isna.ir/news/1400061712708/حسینی-نیا-رییس-جدید-سازمان-آموزش-فنی-و-حرفه-ای-شد',\n",
       " 'https://www.isna.ir/news/1400061813543/ضرورت-به-کارگیری-رویکرد-علمی-و-طب-مبتنی-بر-شواهد-در-تصمیم-گیری-های',\n",
       " 'https://www.isna.ir/news/1400061813543/ضرورت-به-کارگیری-رویکرد-علمی-و-طب-مبتنی-بر-شواهد-در-تصمیم-گیری-های',\n",
       " 'https://www.isna.ir/news/1400061813543/ضرورت-به-کارگیری-رویکرد-علمی-و-طب-مبتنی-بر-شواهد-در-تصمیم-گیری-های',\n",
       " 'https://www.isna.ir/news/1400021913026/راه-اندازی-نخستین-مرکز-واکسیناسیون-خودرویی-در-تهران',\n",
       " 'https://www.farsnews.ir/news/14000728000478/بازدید-اساتید-بسیجی-از-خودروسازی-خزر-آمادگی-اساتید-برای-راه\\u200cاندازی']"
      ]
     },
     "execution_count": 84,
     "metadata": {},
     "output_type": "execute_result"
    }
   ],
   "source": [
    "start = time()\n",
    "res =[i[\"url\"] for i in knn.query(query6,cat=\"economy\" ,count =10)[0]]\n",
    "print (\"fetch time\" , time()-start)\n",
    "res"
   ]
  },
  {
   "cell_type": "code",
   "execution_count": 82,
   "metadata": {},
   "outputs": [
    {
     "name": "stdout",
     "output_type": "stream",
     "text": [
      "fetch time 0.22702741622924805\n"
     ]
    },
    {
     "data": {
      "text/plain": [
       "['https://www.farsnews.ir/news/14000719000236/آغاز-مراسم-سال-تحصیلی-جدید-دانشگاه\\u200cها-با-حضور-رییس-جمهور',\n",
       " 'https://www.farsnews.ir/news/14000614000859/فرهاد-رهبر-به-سمت-دستیار-اقتصادی-رئیس-جمهور-منصوب-شد',\n",
       " 'https://www.isna.ir/news/1400070200877/برنامه-مرحله-یک-چهارم-نهایی-جام-جهانی-فوتسال',\n",
       " 'https://www.isna.ir/news/1400071510191/برتری-نفت-مسجدسلیمان-مقابل-شهرخودرو',\n",
       " 'https://www.isna.ir/news/1400062921990/برنامه-بازی-های-مرحله-یک-هشتم-نهایی-جام-جهانی-فوتسال',\n",
       " 'https://www.farsnews.ir/news/14000625000022/شورای-مرکزی-جدید-اتحادیه-مجمع-اسلامی-دانشجویان-دانشگاه-آزاد-مشخص-شد',\n",
       " 'https://www.farsnews.ir/news/14000614000224/نشسست-سالانه-اتحادیه-مجمع-اسلامی-دانشجویان-دانشگاه-آزاد-فردا-برگزار',\n",
       " 'https://www.farsnews.ir/news/14000620000290/جنگ\\u200cهای-۲۰-سال-گذشته-آمریکا-چقدر-کشته-آواره-و-هزینه-در-جهان-داشته-است',\n",
       " 'https://www.farsnews.ir/news/14000720000420/پژوهشکده\\u200cها-باید-به-دستگاه\\u200cهای-مختلف-کشور-کمک-کنند',\n",
       " 'https://www.isna.ir/news/00061720570/پاداش-۵۰-میلیون-تومانی-شهرداری-به-المپین-های-تهرانی']"
      ]
     },
     "execution_count": 82,
     "metadata": {},
     "output_type": "execute_result"
    }
   ],
   "source": [
    "\n",
    "start = time()\n",
    "id_list= ChampionsListQuery(query=query6).get_result(10)\n",
    "res = [ORIGIN_DATA[i]['url'] for i in id_list]\n",
    "print(\"fetch time\" ,time()-start)\n",
    "res"
   ]
  },
  {
   "cell_type": "code",
   "execution_count": null,
   "metadata": {},
   "outputs": [],
   "source": []
  },
  {
   "cell_type": "code",
   "execution_count": null,
   "metadata": {},
   "outputs": [],
   "source": []
  }
 ],
 "metadata": {
  "kernelspec": {
   "display_name": "venv",
   "language": "python",
   "name": "venv"
  },
  "language_info": {
   "codemirror_mode": {
    "name": "ipython",
    "version": 3
   },
   "file_extension": ".py",
   "mimetype": "text/x-python",
   "name": "python",
   "nbconvert_exporter": "python",
   "pygments_lexer": "ipython3",
   "version": "3.8.5"
  }
 },
 "nbformat": 4,
 "nbformat_minor": 4
}
