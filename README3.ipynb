{
 "cells": [
  {
   "cell_type": "code",
   "execution_count": 30,
   "metadata": {},
   "outputs": [],
   "source": [
    "from time import time"
   ]
  },
  {
   "cell_type": "code",
   "execution_count": 8,
   "metadata": {},
   "outputs": [],
   "source": [
    "from groupby.load_vectors import cos_similarity , vectorized_list ,MODEL\n",
    "from groupby.clustering import KMeansIndex ,CalKMeans ,find_rss_statistics\n",
    "from groupby.classification import KNN\n",
    "import matplotlib.pyplot as plt"
   ]
  },
  {
   "cell_type": "markdown",
   "metadata": {},
   "source": [
    "### پس از نمایش معیار \n",
    "rss\n",
    "\n",
    "میفهمیم بهترین تعداد خوشه بندی ۱۵ تا است\n",
    "منتها به علت زمان بر بودن این بخش از کد انرا کامنت میکنیم که دوباره ران نشود"
   ]
  },
  {
   "cell_type": "code",
   "execution_count": null,
   "metadata": {},
   "outputs": [],
   "source": [
    "# plot rss to find best k for clustering\n",
    "\n",
    "# k_list , score_list = find_rss_statistics()\n",
    "# plt.plot(k_list ,score_list)"
   ]
  },
  {
   "cell_type": "markdown",
   "metadata": {},
   "source": [
    "ایتدا از روی ۵۰ هزار داک  کلاسبندی و خوشه بندی را  روی ۷ هزار خبری ک از قبل داشتیم اعمال میکنیم و سپس کلاس بندی و \n",
    "خوشه بندی انها را ذخیر میکنیم\n",
    "\n",
    "منتها به علت زمان بر بودن این بخش از کد انرا کامنت میکنیم که دوباره ران نشود"
   ]
  },
  {
   "cell_type": "code",
   "execution_count": 4,
   "metadata": {},
   "outputs": [],
   "source": [
    "# run knn on data\n",
    "# KNN(k=15).init()\n",
    "\n",
    "# run kmeans on 50k data and save\n",
    "# CalKMeans().start_and_save()\n",
    "\n",
    "# get centers from 50k data and  cluster 7k data then save it\n",
    "# KMeansIndex().init()"
   ]
  },
  {
   "cell_type": "markdown",
   "metadata": {},
   "source": [
    "حال خوشه بندی و کلاس بندی ای ک از قبل ذخیره شده را  لود میکنیم"
   ]
  },
  {
   "cell_type": "code",
   "execution_count": 10,
   "metadata": {},
   "outputs": [],
   "source": [
    "kmean_index = KMeansIndex.load()\n",
    "knn = KNN.load()"
   ]
  },
  {
   "cell_type": "code",
   "execution_count": 20,
   "metadata": {},
   "outputs": [],
   "source": [
    "query1 = \"مذاکرات برجام در وین توسط ایران \"\n",
    "query2 = \"واکسن کرونا برای  نجات بیماران کرونایی\"\n",
    "query3 = \"ورزشکاران تیم استقلال و پرسپولیس در تیم ملی  فوتبال\""
   ]
  },
  {
   "cell_type": "markdown",
   "metadata": {},
   "source": [
    "# محسابه به وسیله دسته بندی"
   ]
  },
  {
   "cell_type": "code",
   "execution_count": 37,
   "metadata": {},
   "outputs": [
    {
     "name": "stdout",
     "output_type": "stream",
     "text": [
      "fetch time 0.04683518409729004\n"
     ]
    },
    {
     "data": {
      "text/plain": [
       "['https://www.isna.ir/news/1400011708228/آغاز-مذاکرات-ایران-و-1-4-در-وین',\n",
       " 'https://www.isna.ir/news/1400012816326/آغاز-نشست-معاونان-وزیران-خارجه-ایران-و-۱-۴',\n",
       " 'https://www.farsnews.ir/news/14000705000484/عضو-کمیسیون-انرژی-مجلس-فیلم-دوربین\\u200cهای-آژانس-فقط-به-شرط-اجرای-تعهدات',\n",
       " 'https://www.farsnews.ir/news/14000628000174/اصرار-آمریکا-و-متحدانش-به-از-سر-گیری-مذاکرات-هسته\\u200cای-چرا',\n",
       " 'https://www.farsnews.ir/news/14000724000360/نامه-عضو-هیات-رئیسه-کمیسیون-اصل-90-به-قالیباف-در-مورد-عملکرد-ظریف',\n",
       " 'https://www.farsnews.ir/news/14000715000481/نبویان-آقای-ظریف-لااقل-برجام-را-یک\\u200cبار-می\\u200cخواندید-بی\\u200cاطلاعی-تیم',\n",
       " 'https://www.isna.ir/news/00061652474/پایان-نشست-ایران-و-۱-۴-ادامه-گفت-وگوها-در-روزهای-آتی-برگزاری',\n",
       " 'https://www.farsnews.ir/news/14000719000473/نامه-بسیج-دانشگاه-امام-صادق-به-وزیر-خارجه-سابق-آقای-ظریف-شما-بیشتر',\n",
       " 'https://www.isna.ir/news/1400022719424/واکاوی-احیای-برجام',\n",
       " 'https://www.isna.ir/news/1400022719424/واکاوی-احیای-برجام']"
      ]
     },
     "execution_count": 37,
     "metadata": {},
     "output_type": "execute_result"
    }
   ],
   "source": [
    "start = time()\n",
    "res =[i[\"url\"] for i in knn.query(query1,cat=\"political\" ,count =10)[0]]\n",
    "print (\"fetch time\" , time()-start)\n",
    "res"
   ]
  },
  {
   "cell_type": "code",
   "execution_count": 38,
   "metadata": {},
   "outputs": [
    {
     "name": "stdout",
     "output_type": "stream",
     "text": [
      "fetch time 0.011609554290771484\n"
     ]
    },
    {
     "data": {
      "text/plain": [
       "['https://www.isna.ir/news/1400011204506/همه-واکسن-ها-تاکنون-روسفید-بوده-اند-یک-سال-زمان-برای-واکسینه',\n",
       " 'https://www.isna.ir/news/1400011204506/همه-واکسن-ها-تاکنون-روسفید-بوده-اند-یک-سال-زمان-برای-واکسینه',\n",
       " 'https://www.isna.ir/news/1400031712208/چه-کسانی-نباید-دز-دوم-واکسن-کرونا-را-تزریق-کنند',\n",
       " 'https://www.isna.ir/news/1400070301669/اثربخشی-واکسن-کرونا-از-چه-زمانی-آغاز-می-شود-و-تا-چه-زمانی-ماندگار',\n",
       " 'https://www.isna.ir/news/1400051107534/واکسیناسیون-افراد-بالای-50-سال-در-قم-آغاز-شد',\n",
       " 'https://www.isna.ir/news/1400062418088/آیا-تزریق-واکسن-کووید-منجر-به-ابتلا-به-کرونا-می-شود',\n",
       " 'https://www.isna.ir/news/1400031309990/شرایط-تزریق-واکسن-در-مبتلایان-کرونا',\n",
       " 'https://www.isna.ir/news/1400031309990/شرایط-تزریق-واکسن-در-مبتلایان-کرونا',\n",
       " 'https://www.isna.ir/news/1400031309990/شرایط-تزریق-واکسن-در-مبتلایان-کرونا',\n",
       " 'https://www.isna.ir/news/1400033022556/تزریق-دوز-دوم-واکسن-کرونا-در-استان-مرکزی-طی-هفته-جاری']"
      ]
     },
     "execution_count": 38,
     "metadata": {},
     "output_type": "execute_result"
    }
   ],
   "source": [
    "start = time()\n",
    "res = [i[\"url\"] for i in knn.query(query2,cat=\"health\" ,count =10)[0]]\n",
    "print (\"fetch time\" , time()-start)\n",
    "res"
   ]
  },
  {
   "cell_type": "code",
   "execution_count": 39,
   "metadata": {},
   "outputs": [
    {
     "name": "stdout",
     "output_type": "stream",
     "text": [
      "fetch time 0.020435810089111328\n"
     ]
    },
    {
     "data": {
      "text/plain": [
       "['https://www.farsnews.ir/news/14000717000321/گلایه-باشگاه-پرسپولیس-از-اسکوچیچ-\\u200c-درخواست-ما-از-تیم-ملی-زیاده-خواهی',\n",
       " 'https://www.farsnews.ir/news/14000728000867/مهدوی\\u200cکیا-توافق-کردیم-3-بازیکن-از-استقلال-بگیریم',\n",
       " 'https://www.farsnews.ir/news/14000730000177/اکبرپور-گرفتن-3-امتیاز-در-بازی-اول-مهم-است-ذوب-آهن-چون-فوتبال-بازی-می',\n",
       " 'https://www.farsnews.ir/news/14000725000793/پنجعلی-تیم\\u200cهای-محلی-هم-مثل-پرسپولیس-به-سفر-نمی\\u200cروند-بدن-بازیکنان',\n",
       " 'https://www.farsnews.ir/news/14000720000706/خوردبین-تمدید-قرارداد-گل\\u200cمحمدی-و-مطهری-بهترین-اقدام-پرسپولیس-بود',\n",
       " 'https://www.isna.ir/news/1400021107784/عبداللهی-توقع-داریم-پرسپولیسی-ها-به-جای-اینکه-دنبال-مسائل-دیگری',\n",
       " 'https://www.farsnews.ir/news/14000714000704/اردوی-پرسپولیس-پیش-از-دیدار-دوستانه-با-سپاهان',\n",
       " 'https://www.farsnews.ir/news/14000722000481/جباری-درباره-تأخیر-سفر-به-عربستان-واژه\\u200cای-بالاتر-از-خجالت-باید-به-کار',\n",
       " 'https://www.farsnews.ir/news/14000726000549/در-آستانه-آغاز-لیگ-اتفاق-افتاد-غیبت-چند-روزه-مجیدی-در-تمرینات-استقلال',\n",
       " 'https://www.isna.ir/news/1400030504458/سرمربی-خوشه-طلایی-لیگ-یک-زبانزد-خاص-و-عام-است']"
      ]
     },
     "execution_count": 39,
     "metadata": {},
     "output_type": "execute_result"
    }
   ],
   "source": [
    "start = time()\n",
    "res = [i[\"url\"] for i in knn.query(query3,cat=\"sport\" ,count =10)[0]]\n",
    "print (\"fetch time\" , time()-start)\n",
    "res"
   ]
  },
  {
   "cell_type": "markdown",
   "metadata": {},
   "source": [
    "# محسابه به وسیله خوشه بندی\n"
   ]
  },
  {
   "cell_type": "code",
   "execution_count": 40,
   "metadata": {},
   "outputs": [
    {
     "name": "stdout",
     "output_type": "stream",
     "text": [
      "fetch time 0.010955095291137695\n"
     ]
    },
    {
     "data": {
      "text/plain": [
       "['https://www.isna.ir/news/1400011708228/آغاز-مذاکرات-ایران-و-1-4-در-وین',\n",
       " 'https://www.isna.ir/news/1400012816326/آغاز-نشست-معاونان-وزیران-خارجه-ایران-و-۱-۴',\n",
       " 'https://www.farsnews.ir/news/14000705000484/عضو-کمیسیون-انرژی-مجلس-فیلم-دوربین\\u200cهای-آژانس-فقط-به-شرط-اجرای-تعهدات',\n",
       " 'https://www.farsnews.ir/news/14000628000174/اصرار-آمریکا-و-متحدانش-به-از-سر-گیری-مذاکرات-هسته\\u200cای-چرا',\n",
       " 'https://www.farsnews.ir/news/14000724000360/نامه-عضو-هیات-رئیسه-کمیسیون-اصل-90-به-قالیباف-در-مورد-عملکرد-ظریف',\n",
       " 'https://www.farsnews.ir/news/14000715000481/نبویان-آقای-ظریف-لااقل-برجام-را-یک\\u200cبار-می\\u200cخواندید-بی\\u200cاطلاعی-تیم',\n",
       " 'https://www.isna.ir/news/00061652474/پایان-نشست-ایران-و-۱-۴-ادامه-گفت-وگوها-در-روزهای-آتی-برگزاری',\n",
       " 'https://www.farsnews.ir/news/14000719000473/نامه-بسیج-دانشگاه-امام-صادق-به-وزیر-خارجه-سابق-آقای-ظریف-شما-بیشتر',\n",
       " 'https://www.isna.ir/news/1400022719424/واکاوی-احیای-برجام',\n",
       " 'https://www.isna.ir/news/1400022719424/واکاوی-احیای-برجام']"
      ]
     },
     "execution_count": 40,
     "metadata": {},
     "output_type": "execute_result"
    }
   ],
   "source": [
    "start = time()\n",
    "res = [i[\"url\"] for i in kmean_index.query(query1 ,count =10)[0]]\n",
    "print (\"fetch time\" , time()-start)\n",
    "res"
   ]
  },
  {
   "cell_type": "code",
   "execution_count": 41,
   "metadata": {},
   "outputs": [
    {
     "name": "stdout",
     "output_type": "stream",
     "text": [
      "fetch time 0.008278131484985352\n"
     ]
    },
    {
     "data": {
      "text/plain": [
       "['https://www.isna.ir/news/1400051107534/واکسیناسیون-افراد-بالای-50-سال-در-قم-آغاز-شد',\n",
       " 'https://www.isna.ir/news/1400033022556/تزریق-دوز-دوم-واکسن-کرونا-در-استان-مرکزی-طی-هفته-جاری',\n",
       " 'https://www.isna.ir/news/1400072517310/تداوم-واردات-واکسن-از-سوی-هلال-احمر-۶-میلیون-دز-سینوفارم-وارد',\n",
       " 'https://www.isna.ir/news/1400011003724/هر-گونه-جشن-عروسی-مراسم-فاتحه-و-دورهمی-باید-سریعا-ممنوع-شود',\n",
       " 'https://www.isna.ir/news/1400011003724/هر-گونه-جشن-عروسی-مراسم-فاتحه-و-دورهمی-باید-سریعا-ممنوع-شود',\n",
       " 'https://www.isna.ir/news/1400021006891/رشد-آمار-فوتی-ها-در-استان-بوشهر-برای-مصون-ماندن-از-کرونا-چه',\n",
       " 'https://www.isna.ir/news/1400031108340/گونه-های-جدید-کرونا-بوشهر-را-تهدید-می-کند',\n",
       " 'https://www.isna.ir/news/1400042518038/آخرین-وضعیت-پانته-آ-بهرام-بعد-از-ابتلا-به-کرونا',\n",
       " 'https://www.isna.ir/news/00061635955/عروسی-کرونایی-تبدیل-به-عزا-شد-عروس-و-داماد-بستری-هستند',\n",
       " 'https://www.isna.ir/news/00061635955/عروسی-کرونایی-تبدیل-به-عزا-شد-عروس-و-داماد-بستری-هستند']"
      ]
     },
     "execution_count": 41,
     "metadata": {},
     "output_type": "execute_result"
    }
   ],
   "source": [
    "start = time()\n",
    "res = [i[\"url\"] for i in kmean_index.query(query2 ,count =10)[0]]\n",
    "print (\"fetch time\" , time()-start)\n",
    "res"
   ]
  },
  {
   "cell_type": "code",
   "execution_count": 42,
   "metadata": {},
   "outputs": [
    {
     "name": "stdout",
     "output_type": "stream",
     "text": [
      "fetch time 0.012767791748046875\n"
     ]
    },
    {
     "data": {
      "text/plain": [
       "['https://www.farsnews.ir/news/14000717000321/گلایه-باشگاه-پرسپولیس-از-اسکوچیچ-\\u200c-درخواست-ما-از-تیم-ملی-زیاده-خواهی',\n",
       " 'https://www.farsnews.ir/news/14000728000867/مهدوی\\u200cکیا-توافق-کردیم-3-بازیکن-از-استقلال-بگیریم',\n",
       " 'https://www.farsnews.ir/news/14000730000177/اکبرپور-گرفتن-3-امتیاز-در-بازی-اول-مهم-است-ذوب-آهن-چون-فوتبال-بازی-می',\n",
       " 'https://www.farsnews.ir/news/14000725000793/پنجعلی-تیم\\u200cهای-محلی-هم-مثل-پرسپولیس-به-سفر-نمی\\u200cروند-بدن-بازیکنان',\n",
       " 'https://www.farsnews.ir/news/14000720000706/خوردبین-تمدید-قرارداد-گل\\u200cمحمدی-و-مطهری-بهترین-اقدام-پرسپولیس-بود',\n",
       " 'https://www.isna.ir/news/1400021107784/عبداللهی-توقع-داریم-پرسپولیسی-ها-به-جای-اینکه-دنبال-مسائل-دیگری',\n",
       " 'https://www.farsnews.ir/news/14000714000704/اردوی-پرسپولیس-پیش-از-دیدار-دوستانه-با-سپاهان',\n",
       " 'https://www.farsnews.ir/news/14000722000481/جباری-درباره-تأخیر-سفر-به-عربستان-واژه\\u200cای-بالاتر-از-خجالت-باید-به-کار',\n",
       " 'https://www.isna.ir/news/1400030504458/سرمربی-خوشه-طلایی-لیگ-یک-زبانزد-خاص-و-عام-است',\n",
       " 'https://www.farsnews.ir/news/14000717000491/تمرینات-استقلال-موقتا-به-مجموعه-انقلاب-منتقل-می-شود-حضور-بازیکن']"
      ]
     },
     "execution_count": 42,
     "metadata": {},
     "output_type": "execute_result"
    }
   ],
   "source": [
    "start = time()\n",
    "res = [i[\"url\"] for i in kmean_index.query(query3,count =10)[0]]\n",
    "print (\"fetch time\" , time()-start)\n",
    "res"
   ]
  },
  {
   "cell_type": "markdown",
   "metadata": {},
   "source": [
    "همانطور که میبینیم هر دو روش کلاستر و دسته بندی دقت و سرعت خوبی دارند زیرا در خوشه بندی مقدار کا برابر با ۲۰ انتخاب \n",
    "شده است\n",
    "همچنین برای دسته بندی این مقدار ۱۵ انتخاب شده که باعث دقت بیشتر شده است"
   ]
  },
  {
   "cell_type": "markdown",
   "metadata": {},
   "source": [
    "سرعت خوشه بندی اندکی بیشتر است زیرا  تعداد گروه بندی بیشتری نسبت به روش دسته بندی دارد پس با تعداد مقاسه کمتری میتوانیم جواب های مرتبط را بدست بیاوریم "
   ]
  },
  {
   "cell_type": "code",
   "execution_count": null,
   "metadata": {},
   "outputs": [],
   "source": []
  }
 ],
 "metadata": {
  "kernelspec": {
   "display_name": "venv",
   "language": "python",
   "name": "venv"
  },
  "language_info": {
   "codemirror_mode": {
    "name": "ipython",
    "version": 3
   },
   "file_extension": ".py",
   "mimetype": "text/x-python",
   "name": "python",
   "nbconvert_exporter": "python",
   "pygments_lexer": "ipython3",
   "version": "3.8.10"
  }
 },
 "nbformat": 4,
 "nbformat_minor": 4
}
