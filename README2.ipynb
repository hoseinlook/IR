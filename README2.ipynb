{
 "cells": [
  {
   "cell_type": "code",
   "execution_count": 1,
   "metadata": {},
   "outputs": [],
   "source": [
    "from main import load_or_create_the_inverted_index ,ORIGIN_DATA ,InvertedIndex,Statistic ,TFIndex ,IndexEliminateQuery\n",
    "from main import KChampionsList ,ChampionsListQuery\n",
    "from query import Query ,W2VecModelQuery\n",
    "from index import DocEmbedding\n",
    "from model import W2VecModel"
   ]
  },
  {
   "cell_type": "code",
   "execution_count": 2,
   "metadata": {},
   "outputs": [
    {
     "name": "stdout",
     "output_type": "stream",
     "text": [
      "loading index from file\n",
      "files was loaded\n"
     ]
    }
   ],
   "source": [
    "load_or_create_the_inverted_index()\n",
    "\n",
    "print('files was loaded')"
   ]
  },
  {
   "cell_type": "code",
   "execution_count": 3,
   "metadata": {},
   "outputs": [],
   "source": [
    "TFIndex.initialize()\n",
    "KChampionsList(k=10).initialize()"
   ]
  },
  {
   "cell_type": "code",
   "execution_count": 4,
   "metadata": {},
   "outputs": [],
   "source": [
    "my_model = W2VecModel()\n",
    "parsivar_model = W2VecModel()\n",
    "# my_model.train_model()\n",
    "# my_model.save_model()\n",
    "my_model.load_model(W2VecModel.SAVE_MODEL_PATH)\n",
    "parsivar_model.load_model(W2VecModel.PARSIVAR_MODEL_PATH)\n"
   ]
  },
  {
   "cell_type": "code",
   "execution_count": 5,
   "metadata": {},
   "outputs": [],
   "source": [
    "my_doc_embedding = DocEmbedding(my_model.get_model())\n",
    "my_doc_embedding.initialize()\n",
    "\n",
    "\n",
    "parsivar_doc_embedding = DocEmbedding(parsivar_model.get_model())\n",
    "parsivar_doc_embedding.initialize()\n"
   ]
  },
  {
   "cell_type": "code",
   "execution_count": 6,
   "metadata": {},
   "outputs": [
    {
     "name": "stdout",
     "output_type": "stream",
     "text": [
      "[5652, 5821, 5828, 5646, 5654, 6044, 5990, 6023, 5973, 5980]\n",
      "[5652, 6036, 5646, 5654, 5629, 5636, 5644, 6130, 6140, 6001]\n"
     ]
    }
   ],
   "source": [
    "print(W2VecModelQuery(my_doc_embedding , \"واکسن\").get_result())\n",
    "print(W2VecModelQuery(parsivar_doc_embedding , \"واکسن\").get_result())\n",
    "\n"
   ]
  },
  {
   "cell_type": "markdown",
   "metadata": {},
   "source": [
    "# مثال هایی از \n",
    "## IndexEliminateQuery\n",
    "## ChampionsListQuery"
   ]
  },
  {
   "cell_type": "code",
   "execution_count": 84,
   "metadata": {},
   "outputs": [
    {
     "name": "stdout",
     "output_type": "stream",
     "text": [
      "[7520, 2792, 2793, 7236, 5021, 5022, 7004, 6399, 7257, 1959]\n"
     ]
    },
    {
     "data": {
      "text/plain": [
       "[7520, 2792, 2793, 7236, 5021, 5022, 7004, 6399, 7257, 1959]"
      ]
     },
     "execution_count": 84,
     "metadata": {},
     "output_type": "execute_result"
    }
   ],
   "source": [
    "print(IndexEliminateQuery(\"امیرکبیر\").get_result()[:10])\n",
    "ChampionsListQuery(\"امیرکبیر\").get_result(10)"
   ]
  },
  {
   "cell_type": "code",
   "execution_count": 85,
   "metadata": {},
   "outputs": [
    {
     "data": {
      "text/plain": [
       "'به گزارش ایسنا، شورای ارزشیابی هنرمندان، نویسندگان و شاعران کشور در جلسه ۴۸۲\\nخود که در تاریخ ۱۴۰۰/۵/۱۳ تشکیل شد به آثار سعید بیابانکی گواهینامه درجه یک\\nاعطا کرد.\\n\\nدر معرفی این شاعر عنوان شده است: سعید بیابانکی متولد چهارم مهرماه ۱۳۴۷ و\\nزادگاه او خمینی\\u200cشهر (سده) از توابع استان اصفهان است. او فارغ\\u200cالتحصیل مهندسی\\nکامپیوتر از دانشگاه اصفهان بوده است و بالغ بر سه دهه در حوزه شعر و ادبیات\\nفعالیت جدی دارد. پیش\\u200cتر هم دانشگاه اصفهان به این دانش\\u200cآموخته خود نشان درجه یک\\nطلایی اعطا کرده بود. بیابانکی برگزیده دوره دوم جشنواره شعر فجر بوده و هشت سال\\nهم در شورای شعر وزارت فرهنگ و ارشاد اسلامی عضویت داشته است.  \\n«ردپایی بر برف» (سوره مهر)، «نیمی از خورشید» (همسایه)، «سنگچین» (سوره مهر)،\\n«نه ترنجی نه اناری» (نقش مانا)، «نامه\\u200cهای کوفی» (سوره مهر)، «جامه\\u200cدران» (فصل\\nپنجم)، «یلدا» (سوره مهر)، «لبخندهای مستند» (سوره مهر)، «هی شعر تر انگیزد»\\n(سپیده\\u200cباوران)، «سکته ملیح» (شهرستان ادب)، «چقدر پنجره» (شهرستان ادب)،\\n«ضدحالات» (مروارید)، «پنج داستان از شاهنامه» (سوره مهر)، «سجده بر محراب»\\n(امیرکبیر)، «هزار دست دعا» (امیرکبیر) و «تن پوش بی\\u200cآستین» (امیرکبیر) از جمله\\nآثار او هستند.\\n\\nسعید بیابانکی در حوزه کارشناسی ادبی هم در صدا و سیما برنامه نقد شعر را سال\\u200cهای\\n۹۴ و ۹۵ در شبکه چهار و راه شب رادیو ایران را از سال ۱۳۹۸ در کارنامه خود دارد.\\nهمچین یک دوره دبیر علمی جشنواره شعر فجر و دو دوره دبیر علمی جشنواره شعر و\\nداستان جوان سوره بوده است.\\n\\n![](https://cdn.isna.ir/d/2021/10/16/3/62059682.jpg)\\n\\nانتهای پیام\\n\\n'"
      ]
     },
     "execution_count": 85,
     "metadata": {},
     "output_type": "execute_result"
    }
   ],
   "source": [
    "ORIGIN_DATA[7520][\"content\"]"
   ]
  },
  {
   "cell_type": "code",
   "execution_count": 14,
   "metadata": {},
   "outputs": [
    {
     "data": {
      "text/plain": [
       "0.15796714312752067"
      ]
     },
     "execution_count": 14,
     "metadata": {},
     "output_type": "execute_result"
    }
   ],
   "source": [
    "TFIndex.get_weight(7520,\"امیرکبیر\")"
   ]
  },
  {
   "cell_type": "code",
   "execution_count": 20,
   "metadata": {},
   "outputs": [],
   "source": [
    "def find_precision_k(real_result , machine_result , k=5):\n",
    "    sum_trues = 0\n",
    "    for res in machine_result[:k]:\n",
    "        if res in real_result:\n",
    "            sum_trues+=1\n",
    "    \n",
    "    return sum_trues/k"
   ]
  },
  {
   "cell_type": "code",
   "execution_count": 101,
   "metadata": {},
   "outputs": [],
   "source": [
    "def find_avarege_precision(real_result , machine_result , k=5):\n",
    "    count_trues = 0\n",
    "    for res in machine_result[:k]:\n",
    "        if res in real_result:\n",
    "            count_trues+=1\n",
    "    \n",
    "    sum_pre=0\n",
    "    for i in range(1,k+1):\n",
    "        if machine_result[i-1] in real_result:  \n",
    "            sum_pre += find_precision_k(real_result,machine_result , i)\n",
    "            \n",
    "    \n",
    "    \n",
    "    return sum_pre/count_trues if count_trues !=0 else 0"
   ]
  },
  {
   "cell_type": "code",
   "execution_count": 56,
   "metadata": {},
   "outputs": [],
   "source": [
    "# 1/k\n",
    "def find_reciprocal_rank(real_result , machine_result):\n",
    "    for i,item in enumerate(machine_result):\n",
    "        if item in real_result:\n",
    "            return 1/(i+1)\n",
    "    \n",
    "    return 0\n",
    "        "
   ]
  },
  {
   "cell_type": "code",
   "execution_count": 57,
   "metadata": {},
   "outputs": [
    {
     "data": {
      "text/plain": [
       "0.5"
      ]
     },
     "execution_count": 57,
     "metadata": {},
     "output_type": "execute_result"
    }
   ],
   "source": [
    "find_precision_k([1,2,3,4,5,6],[2,4,7,10],k=4)"
   ]
  },
  {
   "cell_type": "code",
   "execution_count": 58,
   "metadata": {},
   "outputs": [
    {
     "data": {
      "text/plain": [
       "0.7555555555555555"
      ]
     },
     "execution_count": 58,
     "metadata": {},
     "output_type": "execute_result"
    }
   ],
   "source": [
    "find_avarege_precision([1,2,3,4,5],[1,10,2,11,3],k=5)"
   ]
  },
  {
   "cell_type": "code",
   "execution_count": 59,
   "metadata": {},
   "outputs": [
    {
     "data": {
      "text/plain": [
       "1.0"
      ]
     },
     "execution_count": 59,
     "metadata": {},
     "output_type": "execute_result"
    }
   ],
   "source": [
    "find_reciprocal_rank([1,2,3,4,5],[1,10,2,11,3])"
   ]
  },
  {
   "cell_type": "markdown",
   "metadata": {},
   "source": [
    "## برای اینکه بتوانیم معیار های خواسته شده را محاسبه کنیم از متد زیر که جواب های مناسب را برمیگرداند و در فاز اول پروژه بود استفاده میکنیم"
   ]
  },
  {
   "cell_type": "code",
   "execution_count": 16,
   "metadata": {},
   "outputs": [
    {
     "name": "stdout",
     "output_type": "stream",
     "text": [
      "for example\n",
      "[6336, 5569, 5825, 4931, 5857, 5831, 5833, 5685, 5845, 5823, 5569, 5825, 4931, 5857, 5685, 5845, 5833]\n"
     ]
    }
   ],
   "source": [
    "print(\"for example\")\n",
    "print(Query(query_text=\"واکسن آسترازنکا\").separated_intersection_search())"
   ]
  },
  {
   "cell_type": "code",
   "execution_count": null,
   "metadata": {},
   "outputs": [],
   "source": [
    "ORIGIN_DATA[5833]"
   ]
  },
  {
   "cell_type": "markdown",
   "metadata": {},
   "source": [
    "# گزارش های\n",
    "## 3-5-2 and 4-2"
   ]
  },
  {
   "cell_type": "markdown",
   "metadata": {},
   "source": [
    "# الف\n",
    "###  یک پرسمان ساده تک کلمه ای"
   ]
  },
  {
   "cell_type": "markdown",
   "metadata": {},
   "source": [
    "نممونه ها:\n",
    ", ایران \n",
    ", تهران \n",
    ", کشور \n",
    ", دانشگاه"
   ]
  },
  {
   "cell_type": "code",
   "execution_count": 63,
   "metadata": {},
   "outputs": [],
   "source": [
    "queries = [\"ایران\" ,\"تهران\" , \"کشور\" , \"دانشگاه\"]\n",
    "K=5"
   ]
  },
  {
   "cell_type": "code",
   "execution_count": 69,
   "metadata": {},
   "outputs": [
    {
     "name": "stdout",
     "output_type": "stream",
     "text": [
      "TFIDF \n",
      "\n",
      "\n",
      "ایران  precision@1 =  1.0\n",
      "ایران  precision@5 =  1.0\n",
      "تهران  precision@1 =  1.0\n",
      "تهران  precision@5 =  1.0\n",
      "کشور  precision@1 =  1.0\n",
      "کشور  precision@5 =  1.0\n",
      "دانشگاه  precision@1 =  1.0\n",
      "دانشگاه  precision@5 =  1.0\n",
      "MAP =  1.0\n",
      "MRR =  1.0\n"
     ]
    }
   ],
   "source": [
    "print(\"TFIDF \\n\\n\")\n",
    "sum_avarege_precision=0\n",
    "sum_reciprocal_rank =0 \n",
    "for q in queries:\n",
    "    real_result = Query(query_text=q).separated_intersection_search()\n",
    "    machine_result = IndexEliminateQuery(q).get_result()\n",
    "    sum_avarege_precision += find_avarege_precision(real_result=real_result , machine_result=machine_result ,k=K)\n",
    "    sum_reciprocal_rank += find_reciprocal_rank(real_result=real_result , machine_result=machine_result)\n",
    "    print(q,f\" precision@1 = \" ,find_precision_k(real_result=real_result , machine_result=machine_result ,k=1))\n",
    "    print(q,f\" precision@5 = \" ,find_precision_k(real_result=real_result , machine_result=machine_result ,k=5))\n",
    "    \n",
    "\n",
    "print(f\"MAP = \" ,sum_avarege_precision/4)\n",
    "print(f\"MRR = \" ,sum_reciprocal_rank/4)"
   ]
  },
  {
   "cell_type": "code",
   "execution_count": 78,
   "metadata": {},
   "outputs": [
    {
     "name": "stdout",
     "output_type": "stream",
     "text": [
      "ج ۵تا جواب برای پرسمان اول \n"
     ]
    },
    {
     "data": {
      "text/plain": [
       "[4581, 4376, 4536, 919, 989]"
      ]
     },
     "execution_count": 78,
     "metadata": {},
     "output_type": "execute_result"
    }
   ],
   "source": [
    "print(\"ج ۵تا جواب برای پرسمان اول \")\n",
    "IndexEliminateQuery(queries[0]).get_result()[:5]\n",
    "# print('\\n\\n'.join([ ORIGIN_DATA[i]['content'] for i in IndexEliminateQuery(queries[0]).get_result()[:5]]))"
   ]
  },
  {
   "cell_type": "markdown",
   "metadata": {},
   "source": [
    "\n",
    "1- \n",
    "به گزارش ایسنا، براساس اعلام مجمع جهانی بیداری اسلامی، این اجلاس طی هفته جاری\n",
    "با میزبانی <font color=blue|red|green|pink|yellow>ایران</font> برگزار می شود.  \n",
    "برخی از مقامات افغانستان و شخصیت های کشورمان نیز در این اجلاس شرکت می‌کنند.  \n",
    "\n",
    "\n",
    "\n",
    "2-\n",
    "به گزارش ایسنا، جلسه مجمع عمومی فراکسیون انقلاب اسلامی بعدازظهر فردا (سه‌شنبه)\n",
    "برای بررسی سند ۲۵ساله ایران و چین و با حضور صفری، سفیر سابق <font color=blue|red|green|pink|yellow>ایران</font> در چین و حجت\n",
    "الاسلام‌ ذوالنوری رئیس کمیسیون امنیت ملی و سیاست خارجی تشکیل خواهد شد.\n",
    "\n",
    "\n",
    "\n",
    "3-\n",
    "به گزارش ایسنا، رییس هیات <font color=blue|red|green|pink|yellow>ایران</font> در این دور از مذاکرات به مانند دوره های قبلی\n",
    "بر عهده سید عباس عراقچی معاون سیاسی وزیر امور خارجه است.\n",
    "\n",
    "عراقچی امروز صبح وارد وین شد .\n",
    "\n",
    "\n",
    "\n",
    "4-\n",
    "به گزارش خبرگزاری فارس، تیم ملی <font color=blue|red|green|pink|yellow>ایران</font> در دیدار مقابل کره جنوبی در مقدماتی راه\n",
    "یابی به جام جهانی 2022 به تساوی یک بر یک دست یافت.\n",
    "\n",
    "تک گل تساوی بخش ایران را علیرضا جهانبخش به زیبایی به ثمررساند.\n",
    "\n",
    "وی در پایان این دیدار به عنوان برترین بازیکن میدان معرفی شد.\n",
    "\n",
    "\n",
    "\n",
    "5-\n",
    "به گزارش خبرگزاری فارس، دیدار تیم های فوتبال <font color=blue|red|green|pink|yellow>ایران</font> و کره جنوبی از مرحله\n",
    "مقدماتی راه یابی به جاک جهانی فردا ساعت 17 آغاز می شود.\n",
    "\n",
    "بر این اساس قضاوت این دیدار به احمد الکاف داور عمانی سپرده شد.\n",
    "\n",
    "تیم ملی ایران با 9 امتیاز در صدر گروه A قرار دارد و کره جنوبی هم با 7 امتیاز\n",
    "در رده دوم است.\n",
    "\n",
    "انتهای پیام/"
   ]
  },
  {
   "cell_type": "code",
   "execution_count": 88,
   "metadata": {},
   "outputs": [
    {
     "name": "stdout",
     "output_type": "stream",
     "text": [
      "WordEmbedding (MY Model) \n",
      "\n",
      "\n",
      "ایران  precision@1 =  1.0\n",
      "ایران  precision@5 =  1.0\n",
      "تهران  precision@1 =  1.0\n",
      "تهران  precision@5 =  1.0\n",
      "کشور  precision@1 =  1.0\n",
      "کشور  precision@5 =  1.0\n",
      "دانشگاه  precision@1 =  1.0\n",
      "دانشگاه  precision@5 =  1.0\n",
      "MAP =  1.0\n",
      "MRR =  1.0\n"
     ]
    }
   ],
   "source": [
    "print(\"WordEmbedding (MY Model) \\n\\n\")\n",
    "sum_avarege_precision=0\n",
    "sum_reciprocal_rank =0 \n",
    "for q in queries:\n",
    "    real_result = Query(query_text=q).separated_intersection_search()\n",
    "    machine_result = W2VecModelQuery(my_doc_embedding , q).get_result()\n",
    "    sum_avarege_precision += find_avarege_precision(real_result=real_result , machine_result=machine_result ,k=K)\n",
    "    sum_reciprocal_rank += find_reciprocal_rank(real_result=real_result , machine_result=machine_result)\n",
    "    print(q,f\" precision@1 = \" ,find_precision_k(real_result=real_result , machine_result=machine_result ,k=1))\n",
    "    print(q,f\" precision@5 = \" ,find_precision_k(real_result=real_result , machine_result=machine_result ,k=5))\n",
    "    \n",
    "\n",
    "print(f\"MAP = \" ,sum_avarege_precision/4)\n",
    "print(f\"MRR = \" ,sum_reciprocal_rank/4)"
   ]
  },
  {
   "cell_type": "code",
   "execution_count": 90,
   "metadata": {},
   "outputs": [
    {
     "name": "stdout",
     "output_type": "stream",
     "text": [
      "WordEmbedding (Parsivar Model) \n",
      "\n",
      "\n",
      "ایران  precision@1 =  1.0\n",
      "ایران  precision@5 =  1.0\n",
      "تهران  precision@1 =  1.0\n",
      "تهران  precision@5 =  0.8\n",
      "کشور  precision@1 =  1.0\n",
      "کشور  precision@5 =  1.0\n",
      "دانشگاه  precision@1 =  1.0\n",
      "دانشگاه  precision@5 =  1.0\n",
      "MAP =  0.9510416666666667\n",
      "MRR =  1.0\n"
     ]
    }
   ],
   "source": [
    "print(\"WordEmbedding (Parsivar Model) \\n\\n\")\n",
    "sum_avarege_precision=0\n",
    "sum_reciprocal_rank =0 \n",
    "for q in queries:\n",
    "    real_result = Query(query_text=q).separated_intersection_search()\n",
    "    machine_result = W2VecModelQuery(parsivar_doc_embedding , q).get_result()\n",
    "    sum_avarege_precision += find_avarege_precision(real_result=real_result , machine_result=machine_result ,k=K)\n",
    "    sum_reciprocal_rank += find_reciprocal_rank(real_result=real_result , machine_result=machine_result)\n",
    "    print(q,f\" precision@1 = \" ,find_precision_k(real_result=real_result , machine_result=machine_result ,k=1))\n",
    "    print(q,f\" precision@5 = \" ,find_precision_k(real_result=real_result , machine_result=machine_result ,k=5))\n",
    "    \n",
    "\n",
    "print(f\"MAP = \" ,sum_avarege_precision/4)\n",
    "print(f\"MRR = \" ,sum_reciprocal_rank/4)"
   ]
  },
  {
   "cell_type": "markdown",
   "metadata": {},
   "source": [
    "# ب\n",
    "###  یک پرسمان ساده چند کلمه ای"
   ]
  },
  {
   "cell_type": "code",
   "execution_count": 99,
   "metadata": {},
   "outputs": [],
   "source": [
    "queries = [\"کشور ایران\" ,\"شهر تهران\" , \"امام حسین\" , \"دانشگاه صنعتی امیرکبیر\"]\n",
    "K=5"
   ]
  },
  {
   "cell_type": "code",
   "execution_count": 92,
   "metadata": {},
   "outputs": [
    {
     "name": "stdout",
     "output_type": "stream",
     "text": [
      "TFIDF \n",
      "\n",
      "\n",
      "کشور ایران  precision@1 =  1.0\n",
      "کشور ایران  precision@5 =  0.6\n",
      "شهر تهران  precision@1 =  1.0\n",
      "شهر تهران  precision@5 =  0.6\n",
      "امام حسین  precision@1 =  0.0\n",
      "امام حسین  precision@5 =  0.6\n",
      "دانشگاه صنعتی امیرکبیر  precision@1 =  0.0\n",
      "دانشگاه صنعتی امیرکبیر  precision@5 =  0.2\n",
      "MAP =  0.6347222222222223\n",
      "MRR =  0.675\n"
     ]
    }
   ],
   "source": [
    "print(\"TFIDF \\n\\n\")\n",
    "sum_avarege_precision=0\n",
    "sum_reciprocal_rank =0 \n",
    "for q in queries:\n",
    "    real_result = Query(query_text=q).separated_intersection_search()\n",
    "    machine_result = IndexEliminateQuery(q).get_result()\n",
    "    sum_avarege_precision += find_avarege_precision(real_result=real_result , machine_result=machine_result ,k=K)\n",
    "    sum_reciprocal_rank += find_reciprocal_rank(real_result=real_result , machine_result=machine_result)\n",
    "    print(q,f\" precision@1 = \" ,find_precision_k(real_result=real_result , machine_result=machine_result ,k=1))\n",
    "    print(q,f\" precision@5 = \" ,find_precision_k(real_result=real_result , machine_result=machine_result ,k=5))\n",
    "    \n",
    "\n",
    "print(f\"MAP = \" ,sum_avarege_precision/4)\n",
    "print(f\"MRR = \" ,sum_reciprocal_rank/4)"
   ]
  },
  {
   "cell_type": "code",
   "execution_count": 98,
   "metadata": {},
   "outputs": [
    {
     "name": "stdout",
     "output_type": "stream",
     "text": [
      "ج ۵تا جواب برای پرسمان اول \n",
      "دانشگاه صنعتی امیرکبیر\n"
     ]
    },
    {
     "data": {
      "text/plain": [
       "[3396, 4469, 4932, 2224, 2793]"
      ]
     },
     "execution_count": 98,
     "metadata": {},
     "output_type": "execute_result"
    }
   ],
   "source": [
    "print(\"ج ۵تا جواب برای پرسمان اول \")\n",
    "print(queries[3])\n",
    "IndexEliminateQuery(queries[3]).get_result()[:5]\n",
    "# print('\\n\\n'.join([ ORIGIN_DATA[i]['content'] for i in IndexEliminateQuery(queries[3]).get_result()[:5]]))"
   ]
  },
  {
   "cell_type": "markdown",
   "metadata": {},
   "source": [
    "ج ۵تا جواب برای پرسمان اول \n",
    "دانشگاه صنعتی امیرکبیر\n",
    "\n",
    "1-\n",
    "به گزارش خبرگزاری فارس، آیت الله [سید ابراهیم\n",
    "فرهاد رهبر متولد ۱۳۳۸ سمنان و دانش آموخته دکترای اقتصاد نظری است که ریاست\n",
    "سازمان مدیریت و برنامه ریزی، ریاست  <font color=blue|red|green|pink|yellow>دانشگاه</font> آزاد\n",
    " <font color=blue|red|green|pink|yellow>دانشگاه</font> آزاد اسلامی و ریاست دانشگاه\n",
    "تهران را در کارنامه اجرایی و مدیریتی خود دارد.\n",
    "\n",
    "\n",
    "\n",
    "2-\n",
    "حجت‌الله فیروزی در گفت‌وگو با ایسنا با اشاره به جلسه عصر امروز (یکشنبه)\n",
    "کمیسیون صنایع و معادن، گفت: دستور کار نخست امروز کمیسیون بررسی طرح دانش بنیان\n",
    "بود؛ این طرح به کمیته فناوری اطلاعات کمیسیون ارجاع و مقرر شد تصمیمات موردنظر\n",
    "در این حوزه در این کمیته اخذ شود.\n",
    "وی افزود: دومین دستور کار امروز کمیسیون صنایع و معادن، بررسی مشکلات صنایع کوچک\n",
    "و شهرک‌های <font color=blue|red|green|pink|yellow>صنعتی</font> با حضور مدیرعامل سازمان صنایع کوچک و شهرک های <font color=blue|red|green|pink|yellow>صنعتی</font> بود.\n",
    "فیروزی با بیان اینکه ۸۲ درصد واحدهای <font color=blue|red|green|pink|yellow>صنعتی</font> داخل شهرک صنعتی فعال هستند، ادامه\n",
    "داد: واحدهایی که با وجود انعقاد قرارداد، تاکنون اقدامی برای راه‌اندازی انجام\n",
    "نداده‌اند و راکد و بلاتکلیف هستند شرایط برای فسخ قرارداد آنها، بازپس گرفتن\n",
    "زمین و واگذاری زمین به فرد دیگر فراهم می‌شود.\n",
    "سخنگوی کمیسیون صنایع کمبود آب و برق را یکی از مشکلات شهرک‌های <font color=blue|red|green|pink|yellow>صنعتی</font> دانست،\n",
    "تصریح کرد: هرچند برخی از خدمات مورد نیاز شهرک‌های <font color=blue|red|green|pink|yellow>صنعتی</font> مانند آب، برق، جاده،\n",
    "اینترنت و... کامل است اما بیشتر شهرک‌های <font color=blue|red|green|pink|yellow>صنعتی</font> از نظر این خدمات کامل نیستند.\n",
    "\n",
    "\n",
    "\n",
    "\n",
    "3-\n",
    "حجت‌الله فیروزی در گفت‌وگو با ایسنا با اشاره به جلسه عصر امروز (یکشنبه)\n",
    "کمیسیون صنایع و معادن، گفت: دستور کار نخست امروز کمیسیون بررسی طرح دانش بنیان\n",
    "بود؛ این طرح به کمیته فناوری اطلاعات کمیسیون ارجاع و مقرر شد تصمیمات موردنظر\n",
    "در این حوزه در این کمیته اخذ شود.\n",
    "وی افزود: دومین دستور کار امروز کمیسیون صنایع و معادن، بررسی مشکلات صنایع کوچک\n",
    "و شهرک‌های <font color=blue|red|green|pink|yellow>صنعتی</font> با حضور مدیرعامل سازمان صنایع کوچک و شهرک های <font color=blue|red|green|pink|yellow>صنعتی</font> بود.\n",
    "فیروزی با بیان اینکه ۸۲ درصد واحدهای <font color=blue|red|green|pink|yellow>صنعتی</font> داخل شهرک <font color=blue|red|green|pink|yellow>صنعتی</font> فعال هستند، ادامه\n",
    "داد: واحدهایی که با وجود انعقاد قرارداد، تاکنون اقدامی برای راه‌اندازی انجام\n",
    "نداده‌اند و راکد و بلاتکلیف هستند شرایط برای فسخ قرارداد آنها، بازپس گرفتن\n",
    "زمین و واگذاری زمین به فرد دیگر فراهم می‌شود.\n",
    "سخنگوی کمیسیون صنایع کمبود آب و برق را یکی از مشکلات شهرک‌های <font color=blue|red|green|pink|yellow>صنعتی</font> دانست،\n",
    "تصریح کرد: هرچند برخی از خدمات مورد نیاز شهرک‌های <font color=blue|red|green|pink|yellow>صنعتی</font> مانند آب، برق، جاده،\n",
    "اینترنت و... کامل است اما بیشتر شهرک‌های <font color=blue|red|green|pink|yellow>صنعتی</font> از نظر این خدمات کامل نیستند.\n",
    "\n",
    "\n",
    "\n",
    "\n",
    "4-\n",
    "به گزارش حوزه دولت خبرگزاری فارس، مراسم آغاز سال تحصیلی ۱۴۰۱-۱۴۰۰ دانشگاه‌ها،\n",
    "مراکز آموزش عالی، پژوهشی و فناوری کشور با حضور آیت‌الله [سید ابراهیم\n",
    "رئیسی](https://www.farsnews.ir/special/سید ابراهیم رئیسی) رییس جمهوری اسلامی\n",
    "ایران در <font color=blue|red|green|pink|yellow>دانشگاه</font> تهران شروع شد.\n",
    "قرار است در این مراسم سید محمد مقیمی سرپرست <font color=blue|red|green|pink|yellow>دانشگاه</font>‌ تهران و حسین قناعتی رییس\n",
    "<font color=blue|red|green|pink|yellow>دانشگاه</font> علوم پزشکی تهران سخنرانی کنند.\n",
    "همچنین طبق برنامه ریزی انجام شده، قرار است یک استاد به نمایندگی از استادان\n",
    "<font color=blue|red|green|pink|yellow>دانشگاه</font>‌ها و یک دانشجو نیز به نمایندگی از دانشجویان کشور و یکی از کارمندان\n",
    "<font color=blue|red|green|pink|yellow>دانشگاه</font> تهران در حضور رییس جمهوری سخنرانی کنند.\n",
    "به دلیل شرایط کرونایی این برنامه بدون حضور دانشجویان برگزار می‌شود.\n",
    "\n",
    "\n",
    "\n",
    "5-\n",
    "به گزارش خبرنگار تشکل‌های <font color=blue|red|green|pink|yellow>دانشگاه</font> خبرگزاری فارس، سیداحمد معتمدی رئیس <font color=blue|red|green|pink|yellow>دانشگاه</font>\n",
    "<font color=blue|red|green|pink|yellow>صنعتی</font> <font color=blue|red|green|pink|yellow>امیرکبیر</font>(https://search.farsnews.ir/?q=دانشگاه صنعتی امیرکبیر&o=on) در\n",
    "نشستی که به همت نهاد نمایندگی مقام معظم رهبری در <font color=blue|red|green|pink|yellow>دانشگاه</font> ها به مناسبت فرارسیدن\n",
    "هفته دفاع مقدس برگزار شد درباره نقش آموزش عالی در حفظ و نگهداری خاطرات دوران\n",
    "دفاع مقدس و یاد و خاطره شهدای جنگ تحمیلی گفت: این موضوع خیلی مهم هست که بدانیم\n",
    "[دانشگاهیان](https://www.farsnews.ir/special/دانشگاهیان) در تاریخ انقلاب و\n",
    "دوران دفاع مقدس چه نقشی داشتند و جدای از آن وظیفه اصلی که از آنها انتظار\n",
    "می‌رفت و تحصیل در <font color=blue|red|green|pink|yellow>دانشگاه</font> است، چه اقداماتی برای جامعه و انقلاب داشته اند.\n",
    "معتمدی تصریح کرد: برخی فکر می‌کنند وقتی وارد <font color=blue|red|green|pink|yellow>دانشگاه</font> می شوند فقط باید درس\n",
    "بخوانند که البته این کار اصلی دانشجو است و ما همواره بر این مسئله تاکید داریم\n",
    "ولی در کنار این موضوع دانشجوی که فارغ التحصیل می شود هر چقدر با مسائل اجتماعی،\n",
    "سیاسی، فرهنگی جامعه آشناتر باشد می تواند نقش موثرتری را در کنار کارهای علمی در\n",
    "جامعه ایفا کند.\n",
    "وی افزود: وقتی دانشجو وارد <font color=blue|red|green|pink|yellow>دانشگاه</font> می شود باید بداند <font color=blue|red|green|pink|yellow>دانشگاه</font> و <font color=blue|red|green|pink|yellow>دانشگاه</font> که در\n",
    "آن تحصیل می کند در جامعه و مبارزات قبل از انقلاب چه نقشی داشته است. بسیاری از\n",
    "کسانی که با حکومت طاغوت مبارزه کردند از همین <font color=blue|red|green|pink|yellow>دانشگاه</font> ها بودند. دانشجویان و\n",
    "جوانان در دوران انقلاب نقش ویژه‌ای داشتند. بسیاری از فیلم‌ها و مستندات را که\n",
    "نگاه می‌کنیم می بینیم اکثرا جوانان نقش داشتند. حفظ انقلاب هم بر دوش جوانان\n",
    "است.\n",
    "رئیس دانشگاه <font color=blue|red|green|pink|yellow>امیرکبیر</font> در ادامه با اشاره به نقش دانشجویان و جوانان در تشکیل\n",
    "نیروهای [بسیج](https://www.farsnews.ir/special/بسیج) و سپاه گفت: وقتی خاطرات\n",
    "فرماندهان بزرگ را مشاهده می‌کنیم می‌بینیم که آنها دانشجویانی بودند که به جبهه\n",
    "های دفاع مقدس رفتند و در مقابل دشمن ایستادند.\n",
    "معتمدی افزود: اگر بخواهیم در مورد نقش دانشجو و <font color=blue|red|green|pink|yellow>دانشگاه</font> در جبهه های جنگ و در\n",
    "دوران دفاع مقدس صحبت کنیم نیاز به یک کار تحقیقاتی است که توصیه می‌کنم به این\n",
    "کار پرداخته شود.\n",
    "وی افزود: بیش از ۹۰ شهید دوران دفاع مقدس از <font color=blue|red|green|pink|yellow>دانشگاه</font> امیرک<font color=blue|red|green|pink|yellow>امیرکبیر</font>بیر بودند، یعنی در\n",
    "زمانی که <font color=blue|red|green|pink|yellow>دانشگاه</font> حدود ۱۲۰۰ دانشجو داشت <font color=blue|red|green|pink|yellow>دانشگاه</font> ایین <font color=blue|red|green|pink|yellow>دانشگاه</font> این گونه در\n",
    "خدمت جبهه و جنگ بودند.\n",
    "معتمدی تاکید کرد: ثبت خاطرات دانشجویان در دوران دفاع مقدس جهت انتقال به نسل\n",
    "جدید بسیار اهمیت دارد البته در بخش های مختلف این اتفاق افتاده و اگر یک تیم\n",
    "محقق بنشیند و خدمات <font color=blue|red|green|pink|yellow>دانشگاه</font> در زمان جنگ تحمیلی را ثبت کنند کار بسیار\n",
    "[خوبی](https://search.farsnews.ir/?q=خوبی&o=on) انجام خواهد شد.\n",
    "\n",
    "انتهای پیام/"
   ]
  },
  {
   "cell_type": "code",
   "execution_count": 102,
   "metadata": {},
   "outputs": [
    {
     "name": "stdout",
     "output_type": "stream",
     "text": [
      "WordEmbedding (MY Model) \n",
      "\n",
      "\n",
      "کشور ایران  precision@1 =  1.0\n",
      "کشور ایران  precision@5 =  1.0\n",
      "شهر تهران  precision@1 =  1.0\n",
      "شهر تهران  precision@5 =  1.0\n",
      "امام حسین  precision@1 =  0.0\n",
      "امام حسین  precision@5 =  0.6\n",
      "دانشگاه صنعتی امیرکبیر  precision@1 =  0.0\n",
      "دانشگاه صنعتی امیرکبیر  precision@5 =  0.0\n",
      "MAP =  0.6194444444444445\n",
      "MRR =  0.5833333333333334\n"
     ]
    }
   ],
   "source": [
    "print(\"WordEmbedding (MY Model) \\n\\n\")\n",
    "sum_avarege_precision=0\n",
    "sum_reciprocal_rank =0 \n",
    "for q in queries:\n",
    "    real_result = Query(query_text=q).separated_intersection_search()\n",
    "    machine_result = W2VecModelQuery(my_doc_embedding , q).get_result()\n",
    "    sum_avarege_precision += find_avarege_precision(real_result=real_result , machine_result=machine_result ,k=K)\n",
    "    sum_reciprocal_rank += find_reciprocal_rank(real_result=real_result , machine_result=machine_result)\n",
    "    print(q,f\" precision@1 = \" ,find_precision_k(real_result=real_result , machine_result=machine_result ,k=1))\n",
    "    print(q,f\" precision@5 = \" ,find_precision_k(real_result=real_result , machine_result=machine_result ,k=5))\n",
    "    \n",
    "\n",
    "print(f\"MAP = \" ,sum_avarege_precision/4)\n",
    "print(f\"MRR = \" ,sum_reciprocal_rank/4)"
   ]
  },
  {
   "cell_type": "code",
   "execution_count": 103,
   "metadata": {},
   "outputs": [
    {
     "name": "stdout",
     "output_type": "stream",
     "text": [
      "WordEmbedding (Parsivar Model) \n",
      "\n",
      "\n",
      "کشور ایران  precision@1 =  1.0\n",
      "کشور ایران  precision@5 =  1.0\n",
      "شهر تهران  precision@1 =  1.0\n",
      "شهر تهران  precision@5 =  1.0\n",
      "امام حسین  precision@1 =  1.0\n",
      "امام حسین  precision@5 =  0.4\n",
      "دانشگاه صنعتی امیرکبیر  precision@1 =  0.0\n",
      "دانشگاه صنعتی امیرکبیر  precision@5 =  0.0\n",
      "MAP =  0.6875\n",
      "MRR =  0.75\n"
     ]
    }
   ],
   "source": [
    "print(\"WordEmbedding (Parsivar Model) \\n\\n\")\n",
    "sum_avarege_precision=0\n",
    "sum_reciprocal_rank =0 \n",
    "for q in queries:\n",
    "    real_result = Query(query_text=q).separated_intersection_search()\n",
    "    machine_result = W2VecModelQuery(parsivar_doc_embedding , q).get_result()\n",
    "    sum_avarege_precision += find_avarege_precision(real_result=real_result , machine_result=machine_result ,k=K)\n",
    "    sum_reciprocal_rank += find_reciprocal_rank(real_result=real_result , machine_result=machine_result)\n",
    "    print(q,f\" precision@1 = \" ,find_precision_k(real_result=real_result , machine_result=machine_result ,k=1))\n",
    "    print(q,f\" precision@5 = \" ,find_precision_k(real_result=real_result , machine_result=machine_result ,k=5))\n",
    "    \n",
    "\n",
    "print(f\"MAP = \" ,sum_avarege_precision/4)\n",
    "print(f\"MRR = \" ,sum_reciprocal_rank/4)"
   ]
  },
  {
   "cell_type": "markdown",
   "metadata": {},
   "source": [
    "# ج\n",
    "###  یک پرسمان سخت یک کلمه ای"
   ]
  },
  {
   "cell_type": "code",
   "execution_count": 108,
   "metadata": {},
   "outputs": [],
   "source": [
    "queries = [\"آسترازنکا\" ,\"مالزی\" , \"علیپور\" , \"یزد\"]\n",
    "K=5"
   ]
  },
  {
   "cell_type": "code",
   "execution_count": 109,
   "metadata": {},
   "outputs": [
    {
     "name": "stdout",
     "output_type": "stream",
     "text": [
      "TFIDF \n",
      "\n",
      "\n",
      "آسترازنکا  precision@1 =  1.0\n",
      "آسترازنکا  precision@5 =  1.0\n",
      "مالزی  precision@1 =  1.0\n",
      "مالزی  precision@5 =  1.0\n",
      "علیپور  precision@1 =  1.0\n",
      "علیپور  precision@5 =  1.0\n",
      "یزد  precision@1 =  1.0\n",
      "یزد  precision@5 =  1.0\n",
      "MAP =  1.0\n",
      "MRR =  1.0\n"
     ]
    }
   ],
   "source": [
    "print(\"TFIDF \\n\\n\")\n",
    "sum_avarege_precision=0\n",
    "sum_reciprocal_rank =0 \n",
    "for q in queries:\n",
    "    real_result = Query(query_text=q).separated_intersection_search()\n",
    "    machine_result = IndexEliminateQuery(q).get_result()\n",
    "    sum_avarege_precision += find_avarege_precision(real_result=real_result , machine_result=machine_result ,k=K)\n",
    "    sum_reciprocal_rank += find_reciprocal_rank(real_result=real_result , machine_result=machine_result)\n",
    "    print(q,f\" precision@1 = \" ,find_precision_k(real_result=real_result , machine_result=machine_result ,k=1))\n",
    "    print(q,f\" precision@5 = \" ,find_precision_k(real_result=real_result , machine_result=machine_result ,k=5))\n",
    "    \n",
    "\n",
    "print(f\"MAP = \" ,sum_avarege_precision/4)\n",
    "print(f\"MRR = \" ,sum_reciprocal_rank/4)"
   ]
  },
  {
   "cell_type": "code",
   "execution_count": 110,
   "metadata": {},
   "outputs": [
    {
     "name": "stdout",
     "output_type": "stream",
     "text": [
      "WordEmbedding (MY Model) \n",
      "\n",
      "\n",
      "آسترازنکا  precision@1 =  0.0\n",
      "آسترازنکا  precision@5 =  0.0\n",
      "مالزی  precision@1 =  0.0\n",
      "مالزی  precision@5 =  0.0\n",
      "علیپور  precision@1 =  0.0\n",
      "علیپور  precision@5 =  0.0\n",
      "یزد  precision@1 =  1.0\n",
      "یزد  precision@5 =  1.0\n",
      "MAP =  0.25\n",
      "MRR =  0.25\n"
     ]
    }
   ],
   "source": [
    "print(\"WordEmbedding (MY Model) \\n\\n\")\n",
    "sum_avarege_precision=0\n",
    "sum_reciprocal_rank =0 \n",
    "for q in queries:\n",
    "    real_result = Query(query_text=q).separated_intersection_search()\n",
    "    machine_result = W2VecModelQuery(my_doc_embedding , q).get_result()\n",
    "    sum_avarege_precision += find_avarege_precision(real_result=real_result , machine_result=machine_result ,k=K)\n",
    "    sum_reciprocal_rank += find_reciprocal_rank(real_result=real_result , machine_result=machine_result)\n",
    "    print(q,f\" precision@1 = \" ,find_precision_k(real_result=real_result , machine_result=machine_result ,k=1))\n",
    "    print(q,f\" precision@5 = \" ,find_precision_k(real_result=real_result , machine_result=machine_result ,k=5))\n",
    "    \n",
    "\n",
    "print(f\"MAP = \" ,sum_avarege_precision/4)\n",
    "print(f\"MRR = \" ,sum_reciprocal_rank/4)"
   ]
  },
  {
   "cell_type": "code",
   "execution_count": 112,
   "metadata": {},
   "outputs": [
    {
     "name": "stdout",
     "output_type": "stream",
     "text": [
      "WordEmbedding (Parsivar Model) \n",
      "\n",
      "\n",
      "آسترازنکا  precision@1 =  0.0\n",
      "آسترازنکا  precision@5 =  0.0\n",
      "مالزی  precision@1 =  0.0\n",
      "مالزی  precision@5 =  0.0\n",
      "علیپور  precision@1 =  0.0\n",
      "علیپور  precision@5 =  0.0\n",
      "یزد  precision@1 =  1.0\n",
      "یزد  precision@5 =  0.8\n",
      "MAP =  0.25\n",
      "MRR =  0.25\n"
     ]
    }
   ],
   "source": [
    "print(\"WordEmbedding (Parsivar Model) \\n\\n\")\n",
    "sum_avarege_precision=0\n",
    "sum_reciprocal_rank =0 \n",
    "for q in queries:\n",
    "    real_result = Query(query_text=q).separated_intersection_search()\n",
    "    machine_result = W2VecModelQuery(parsivar_doc_embedding , q).get_result()\n",
    "    sum_avarege_precision += find_avarege_precision(real_result=real_result , machine_result=machine_result ,k=K)\n",
    "    sum_reciprocal_rank += find_reciprocal_rank(real_result=real_result , machine_result=machine_result)\n",
    "    print(q,f\" precision@1 = \" ,find_precision_k(real_result=real_result , machine_result=machine_result ,k=1))\n",
    "    print(q,f\" precision@5 = \" ,find_precision_k(real_result=real_result , machine_result=machine_result ,k=5))\n",
    "    \n",
    "\n",
    "print(f\"MAP = \" ,sum_avarege_precision/4)\n",
    "print(f\"MRR = \" ,sum_reciprocal_rank/4)"
   ]
  },
  {
   "cell_type": "markdown",
   "metadata": {},
   "source": [
    "# د\n",
    "###  یک پرسمان سخت چند کلمه ای"
   ]
  },
  {
   "cell_type": "code",
   "execution_count": 135,
   "metadata": {},
   "outputs": [],
   "source": [
    "queries = [\"آیا جودو ورزش مناسبی است\" ,\"کشور مالزی کجاست\" , \"علیپور کیست\" , \"آثار باستانی\"]\n",
    "K=5"
   ]
  },
  {
   "cell_type": "code",
   "execution_count": 136,
   "metadata": {},
   "outputs": [
    {
     "name": "stdout",
     "output_type": "stream",
     "text": [
      "TFIDF \n",
      "\n",
      "\n",
      "آیا جودو ورزش مناسبی است  precision@1 =  0.0\n",
      "آیا جودو ورزش مناسبی است  precision@5 =  0.0\n",
      "کشور مالزی کجاست  precision@1 =  0.0\n",
      "کشور مالزی کجاست  precision@5 =  0.0\n",
      "علیپور کیست  precision@1 =  0.0\n",
      "علیپور کیست  precision@5 =  0.0\n",
      "آثار باستانی  precision@1 =  0.0\n",
      "آثار باستانی  precision@5 =  0.0\n",
      "MAP =  0.0\n",
      "MRR =  0.0\n"
     ]
    }
   ],
   "source": [
    "print(\"TFIDF \\n\\n\")\n",
    "sum_avarege_precision=0\n",
    "sum_reciprocal_rank =0 \n",
    "for q in queries:\n",
    "    real_result = Query(query_text=q).separated_intersection_search()\n",
    "    machine_result = IndexEliminateQuery(q).get_result()\n",
    "    sum_avarege_precision += find_avarege_precision(real_result=real_result , machine_result=machine_result ,k=K)\n",
    "    sum_reciprocal_rank += find_reciprocal_rank(real_result=real_result , machine_result=machine_result)\n",
    "    print(q,f\" precision@1 = \" ,find_precision_k(real_result=real_result , machine_result=machine_result ,k=1))\n",
    "    print(q,f\" precision@5 = \" ,find_precision_k(real_result=real_result , machine_result=machine_result ,k=5))\n",
    "    \n",
    "\n",
    "print(f\"MAP = \" ,sum_avarege_precision/4)\n",
    "print(f\"MRR = \" ,sum_reciprocal_rank/4)"
   ]
  },
  {
   "cell_type": "code",
   "execution_count": 138,
   "metadata": {},
   "outputs": [
    {
     "name": "stdout",
     "output_type": "stream",
     "text": [
      "WordEmbedding (MY Model) \n",
      "\n",
      "\n"
     ]
    },
    {
     "data": {
      "text/plain": [
       "[470, 4080, 1582, 998, 390, 3541, 3696, 3859, 393, 1001]"
      ]
     },
     "execution_count": 138,
     "metadata": {},
     "output_type": "execute_result"
    }
   ],
   "source": [
    "print(\"WordEmbedding (MY Model) \\n\\n\")\n",
    "W2VecModelQuery(my_doc_embedding , 'آیا جودو ورزش مناسبی است').get_result()"
   ]
  },
  {
   "cell_type": "markdown",
   "metadata": {},
   "source": [
    "## با توجه به اینکه از مدل داریم استفاده میکنیم و پرسمان ما چند کلمه ای است بهتر است برای این پرسمان ها به صورت دستی تگ بزنیم\n",
    "\n",
    "این کار را برای پرسمان '\"آثار باستانی یزد' انجام میدهیم\n"
   ]
  },
  {
   "cell_type": "code",
   "execution_count": 139,
   "metadata": {},
   "outputs": [
    {
     "name": "stdout",
     "output_type": "stream",
     "text": [
      "به گزارش خبرنگار ورزشی خبرگزاری فارس، مراسم تجلیل از پیشکسوتان بولینگ و\n",
      "بیلیارد امروز در آکادمی ملی المپیک برگزار شد.\n",
      "\n",
      "* در این مراسم [حمید سجادی](https://www.farsnews.ir/special/حمید سجادی) وزیر ورزش و سیدرضا صالحی امیری رئیس [کمیته ملی المپیک](https://www.farsnews.ir/special/کمیته ملی المپیک) حضور داشتند.\n",
      "\n",
      "* جمعی از پیشکسوتان کشتی، قایقرانی، بوکس، دوومیدانی و همچنین برخی از مدیران وزارت ورزش هم شرکت داشتند.\n",
      "\n",
      "صالحی‌امیری در این مراسم، عنوان کرد: از پیشکسوتان تشکر می کنم که با وجود سختی\n",
      "در این مراسم شرکت کردید تا به فرزندان خود یاد بدهید پیشکسوتان را تکریم کنیم.\n",
      "پیشکسوتان روح ورزش ایران هستند. ما به پیشکسوتان نیاز داریم و آنها به ما نیاز\n",
      "ندارند. دیدار با پیشکسوتان برای من زیارت است. ما از [تالار\n",
      "مشاهیر](https://search.farsnews.ir/?q=تالار مشاهیر&o=on) فوتبال رونمایی می\n",
      "کنیم تا نسل جدید پیشکسوتان را فراموش نکنند. باید تلاش کنیم پیشکسوتان را\n",
      "ماندگار کنیم چون حیات ما به حیاتشان گره خورده است.\n",
      "\n",
      "* [حمید سجادی](https://search.farsnews.ir/?q=حمید سجادی&o=on) وزیر ورزش و جوانان در این مراسم، گفت: هفته‌ای که آغاز کردیم با روز ملی پارالمپیک شروع شد. پیش از این جلسه‌ای با رئیس فدراسیون بولینگ داشتیم که از آن زمان تعداد باشگاه‌ها افزایش یافته است. در حال حاضر ۳۷ باشگاه فعال بولینگ داریم اما اگر دنبال تعداد مدال‌های زیاد این رشته و رشته‌های پایه هستیم باید آنها را توسعه دهیم.\n",
      "\n",
      "* وی افزود: خیلی‌ها بولینگ را تفریحی دنبال می‌کنند، بیلیارد هم همین‌طور. وقتی چنین رشته‌ای خیلی‌ها را سرگرم می‌کند پس صف مقدمی برای توسعه ورزش همگانی خواهد بود.\n",
      "\n",
      "سجادی در خصوص حمایت از پیشکسوتان، عنوان کرد: بازنگری‌هایی در آیین‌نامه لازم\n",
      "است و منابع مالی هم باید جذب شود اما ما با صندوق حمایت از پیشکسوتان نیز صحبت\n",
      "کردیم تا برنامه‌ای خوب و وسیع خودمان را برای خدمت به این قشر انجام دهیم.\n",
      "\n",
      "* جهانبانی از پیشکسوتان اسنوکر چوب خود را که از آن ۴۰ نمونه در دنیا وجود دارد، به موزه ملی ورزش اهدا کرد. این قدیمی‌ترین چوب حاضر در ایران و مربوط به ۶۵ سال قبل است.\n",
      "\n",
      "انتهای پیام/\n",
      "\n",
      "\n",
      "\n",
      "\n",
      "مراسم استقبال از هاشمیه متقیان‌معاوی تنها بانوی کاروان پارا دو و میدانی ایران\n",
      "در پارالمپیک توکیو، امروز (جمعه) با حضور مدیرکل ورزش و جوانان خوزستان، مجتبی\n",
      "یوسفی نماینده اهواز، معاون توسعه ورزش و معاون بانوان اداره‌کل ورزش و مدیرعامل\n",
      "باشگاه ملی‌حفاری در فرودگاه اهواز برگزار شد. سیدمحسن موسوی‌زاده عضو شورای شهر\n",
      "اهواز و امینی معاون فرهنگی اجتماعی شهرداری اهواز نیز در این مراسم حضور داشتند.\n",
      "\n",
      "به گزارش ایسنا، در این مراسم، هاشمیه متقیان‌معاوی صاحب مدال طلای پارالمپیک\n",
      "۲۰۲۰ و زهرا کرم‌زاده مربی او با استقبال پرشور مردم و مسئولان وارد سالن فرودگاه\n",
      "اهواز شدند و با اهدای گل و حلقه گل، مورد استقبال قرار گرفتند.\n",
      "\n",
      "متقیان‌معاوی چند روز پیش در پرتاب نیزه کلاس ادغامی F۵۵ و F۵۶ با ثبت رکورد ۲۴\n",
      "متر و ۵۰ سانتی متر به نشان طلا در بخش بانوان رسید و رکورد جهان در این رشته را\n",
      "نیز ارتقا بخشید. او تنها بانوی کاروان دو و میدانی ایران است که موفق شد اولین\n",
      "مدال طلای تاریخ ورزش بانوان ایران در این رشته در پارالمپیک را نیز به دست آورد.\n",
      "\n",
      "این ورزشکار که کارنامه درخشانی دارد، پیش از این نیز برای ۲ بار سهمیه پارالمپیک\n",
      "را کسب کرده‌ بود. همچنین به ۲ مدال نقره پرتاب دیسک و نیزه بازی‌های پاراآسیایی،\n",
      "۲ مدال طلای دیسک و نیزه مسابقات آسیایی امارات، مدال نقره پرتاب نیزه ۲۰۱۷ جهان،\n",
      "مدال طلای پرتاب دیسک و نقره پرتاب نیزه پاراآسیایی جاکارتا و مدال نقره پرتاب\n",
      "نیزه ۲۰۱۹ جهان دست پیدا کرده بود.\n",
      "\n",
      "**مجتبی یوسفی، نماینده اهواز** در گفت‌وگو با هاشمیه متقیان معاوی، گفت: به برکت\n",
      "عزت‌آفرینی شما قول یک زمین چمن مصنوعی در ملاشیه را به شما می‌دهم. من قولی\n",
      "نمی‌دهم که عملی نشود.\n",
      "\n",
      "همچنین **ابراهیم نصیری معاون توسعه ورزش اداره‌کل ورزش و جوانان خوزستان** با\n",
      "تبریک این مدال‌آوری در جمع خبرنگاران، اظهارکرد: مدال خانم متقیان معاوی توانست\n",
      "بارقه‌هایی از توانمندی و شایستگی‌های دختران خوزستان را به نمایش بگذارد. پیش از\n",
      "این‌که ورزشکاران پارالمپیکی و المپیکی خوزستان راهی این رقابت‌ها شوند، مبلع ۳۰\n",
      "میلیون تومان در مراسم بدرقه به این عزیزان تقدیم کردیم و بعد از آن هم در\n",
      "جلسه‌ای که مجددا با این ورزشکاران داشتیم، مدیرکل ورزش و جوانان خوزستان قول\n",
      "جایزه به آن‌ها در صورت مدال‌آوری داد که امیدواریم در اسرع وقت نیز جایزه خانم\n",
      "متقیان‌معاوی و آقای پاپی را تقدیم کنیم. البته هنوز کار ورزشکاران ما در\n",
      "پارالمپیک توکیو تمام نشده است.\n",
      "\n",
      "به گزارش ایسنا، امان‌الله پاپی، دیگر ورزشکار خوزستان عضو تیم‌ملی پارا دو و\n",
      "میدانی که در پرتاب نیزه پارالمپیک توکیو موفق به کسب نشان نقره شد، روز چهارشنبه\n",
      "وارد خوزستان شد که در شهر اندیمشک مورد استقبال مسئولان این شهر قرار گرفت.\n",
      "\n",
      "انتهای پیام\n",
      "\n",
      "\n",
      "\n",
      "\n",
      "به گزارش خبرگزاری فارس، ساختمان [وزارت ورزش و\n",
      "جوانان](https://www.farsnews.ir/special/وزارت ورزش و جوانان) میزبان جلسه تخصصى\n",
      "[حمید سجادی](https://www.farsnews.ir/special/حمید سجادی) وزیر ورزش و جوانان با\n",
      "مسئولان فدراسیون ووشو و اعضای [کادر](https://search.farsnews.ir/?q=کادر&o=on)\n",
      "فنی تیم‌های ملی بود.\n",
      "\n",
      "در این نشست علاوه بر سجادی، مهدی علی‌نژاد معاون توسعه ورزش قهرمانی و حرفه‌ای،\n",
      "على رغبتى مدیرکل دفتر برنامه ریزى، مبینى مدیرکل دفتر آموزش و استعدادیابى، امیر\n",
      "صدیقی رئیس فدراسیون ووشو، حسین اوجاقی و زهرا ناطقى نواب رئیس، علی صدیقی دبیر\n",
      "فدراسیون و اعضای کادر فنی تیم‌های ملی و همچنین سایر مسئولان وزارت ورزش حضور\n",
      "داشتند.\n",
      "\n",
      "سجادی در این دیدار ضمن ابراز خرسندی از شرایط فدراسیون ووشو و برنامه ریزى‌هاى\n",
      "صورت گرفته گفت: امید زیادی به درخشش ووشو و کوراش کاران در بازی‌های آسیایی 2022\n",
      "هانگژو [چین](https://www.farsnews.ir/special/چین) داریم و می‌دانیم که این\n",
      "فدراسیون می‌تواند سهم مهمى در سبد مدال‌آوری کاروان ایران داشته باشد.\n",
      "\n",
      "وی ادامه داد: باید شرایط لازم برای تحقق اهداف پیش‌رو فراهم شود و این موضوع\n",
      "بدون همکاری مسئولان وزارت ورزش، [کمیته ملی\n",
      "المپیک](https://www.farsnews.ir/special/کمیته ملی المپیک) و فدراسیون ووشو و\n",
      "البته تلاش ورزشکاران محقق نخواهد شد.\n",
      "\n",
      "کوروش خسرویار دبیر انجمن کوراش، فرشاد عربی و‌ محبوبه کریمی مربیان تیم‌های ملی\n",
      "تالو آقایان و‌بانوان نیز در این نشست حضور داشتند. گفتنى است در دور قبلى بازى\n",
      "هاى آسیایى دو رشته ووشو و کوراش در مجموع ٣ مدال طلا، ٥ نقره و ٢ برنز کسب کرده\n",
      "اند.\n",
      "\n",
      "انتهای پیام/\n",
      "\n",
      "\n",
      "\n",
      "\n",
      "به گزارش خبرنگار ورزشی خبرگزاری فارس، غلامرضا شعبانی‌بهار در حاشیه مراسم تجلیل\n",
      "از زهرا نعمتی و مدال‌آوران پارالمپیکی اظهار داشت: تشکر می کنم از خانم خزعلی\n",
      "معاون محترم رئیس جمهور که برای ارزش‌گذاری به قهرمانی این قهرمانان حضور پیدا\n",
      "کردند و توانستیم در [خانواده](https://www.farsnews.ir/special/خانواده)\n",
      "تیروکمان از این مدال‌آوران تقدیر کنیم. ان‌شاءالله که این تقدیرها باعث تشویق و\n",
      "ترغیب سایر ورزشکاران این رشته باشد که فدراسیون، [کمیته ملی\n",
      "المپیک](https://www.farsnews.ir/special/کمیته ملی المپیک) و وزارت ورزش قدردان\n",
      "زحمات و افتخارآفرینی این عزیزان خواهد بود.\n",
      "\n",
      "وی در مورد اینکه قهرمانان پارالمپیکی و المپیکی دغدغه‌ زیادی در مورد تجهیزات\n",
      "خود دارند و اینکه این تجهیزات گران است و با تجهیزات کنونی نمی‌توانند تمرینات\n",
      "مناسب داشته باشند، عنوان کرد: در بحث خود کمان طبیعتاً نتوانستیم کمکی بکنیم ولی\n",
      "در ارتباط با تجهیزات این وزشکاران تمام تجهیزات‌شان را از خود فدراسیون،\n",
      "کمیته‌های پارالمپیک و المپیک پرداخت می‌کنیم.\n",
      "\n",
      "انتهای پیام/\n",
      "\n",
      "\n",
      "\n",
      "\n",
      "به گزارش خبرنگار ورزشی خبرگزاری فارس، مراسم تجلیل از ورزشکاران المپیک،\n",
      "پارالمپیک و کستی‌گیران مدال‌آور جهانی امروز توسط [دانشگاه آزاد\n",
      "اسلامی](https://www.farsnews.ir/special/دانشگاه آزاد اسلامی) برگزار شد.\n",
      "\n",
      "* مهدی علی‌نژاد معاون حرفه‌ای و قهرمانی وزارت ورزش، محمود خسروی‌وفا رئیس کمیته پارالمپیک، سیدرضا صالحی امیری رئیس کمیته ملی المپیک، کیکاووس سعیدی دبیر کل کمیته، [علیرضا دبیر](https://search.farsnews.ir/?q=علیرضا دبیر&o=on) رئیس فدراسیون کشتی، علی دادگر سرپرست فدراسیون تیراندازی، [علی مرادی](https://search.farsnews.ir/?q=علی مرادی&o=on) رئیس فدراسیون وزنه‌برداری و [محمدمهدی طهرانچی](https://www.farsnews.ir/special/محمدمهدی طهرانچی) رئیس دانشگاه آزاد در مراسم تجلیل حضور داشتند.\n",
      "\n",
      "![](https://media.farsnews.ir/Uploaded/Files/Images/1400/07/28/14000728000178_Test_NewPhotoFree.jpg)\n",
      "\n",
      "* مهدی علی‌نژاد در این مراسم گفت: ما ورزشکاران را باید برای یک زندگی آماده کنیم نه فقط ورزش قهرمانی.\n",
      "\n",
      "* محمدرضا گرایی دارنده مدال طلای المپیک، محمدهادی ساروی دارنده مدال طلای جهانی، میثم دلخانی، پژمان پشتام، سجاد گنج‌زاده، جواد فروغی، زهرا نعمتی، ساره جوانمردی از ورزشکاران حاضر در مراسم بودند.\n",
      "\n",
      "![](https://media.farsnews.ir/Uploaded/Files/Images/1400/07/28/14000728000175_Test_NewPhotoFree.jpg)\n",
      "\n",
      "* سیدرضا صالحی امیری رئیس [کمیته ملی المپیک](https://www.farsnews.ir/special/کمیته ملی المپیک) در این مراسم گفت: المپیک در شرایطی آغاز شد که ما یک سال و نیم در وضعیت قرمز بودیم و در سخت ترین شرایط اردوی ملی‌پوشان دنبال شد‌‌. ما تعدادی از ورزشکاران را به دلیل آسیب دیدگی نداشتیم و حداقل چند مدال قطعی را از ما گرفت. شرایط روانی برای برگزاری المپیک هم مطرح بود چون ژاپنی‌ها برای برگزاری بازی‌های توکیو مطمئن نبودند.\n",
      "\n",
      "![](https://media.farsnews.ir/Uploaded/Files/Images/1400/07/28/14000728000174_Test_NewPhotoFree.jpg)\n",
      "\n",
      "* طهرانچی رئیس دانشگاه آزاد گفت: دانشگاه آزاد اسلامی و ورزش پیوند نزدیکی با هم دارند.\n",
      "\n",
      "* در این مراسم تجلیل به مدال‌آوران جوایز نقدی اهدا شد.\n",
      "\n",
      "*محمد مهدی طهرانچی نیز در این مراسم عنوان کرد: دانشگاه آزاد اسلامی و ورزش پیوند بسیار نزدیکی دارند. دکتر سجادی وزیر ورزش و دکتر صالحی امیری رئیس کمیته ملی المپیک از اعضای هیئت علمی دانشگاه هستند. هویت ما با افتخارآفرینی و بالارفتن پرچم کشورمان معنا پیدا می‌کند و اثرگذاری آن از ۱۰۰ کلاس بالاتر است. سر کلاس، دانش می‌دهد و صحنه ورزش، باور را ایجاد می‌کند. ورزش در خلق دانش اجتماعی و انتقال آن به دانشجو حرف اول را می‌زند. اگر جوانان باهمت نباشد، توانمند نمی‌شود. رفتارسازی یک فرهنگ است و فرهنگ آن از جریان‌سازی، نمادسازی و گفت‌وگو سازی ایجاد می‌‌شود و قهرمانان در کانون این فرهنگ‌سازی هستند که باید قدر خود را بدانند. دانشگاه به ورزش به عنوان مار حاشیه‌ای نگاه نمی‌کند و نگاه متنی دارد و ما به حضور قهرمانان در محیط دانشگاه نیاز داریم. نباید فقط در اوج به باد ورزشکار باشیم و دانشگاه به دنبال فضایی است که در دوران پسااوج نیز در خدمت ورزشکاران باشد و برای این دوران نیز به فکر قهرمانان تجربه این قهرمانان است.\n",
      "\n",
      "انتهای پیام/\n",
      "\n",
      "\n",
      "\n",
      "\n",
      "به گزارش ایسنا، رافائل سانتونجا بعد از دیدار با رییس کمیته ملی المپیک ایران\n",
      "درباره سفر خود به تهران اظهار کرد: خرسند هستیم که در تهران حضور پیدا کردیم.\n",
      "همچنین از ملاقات با رییس کمیته ملی المپیک خوشحالم. ایرانی ها عاشق ورزش هستند؛\n",
      "به ویژه در رشته بدنسازی که وضعیت خوبی هم در این رشته دارند.\n",
      "\n",
      "وی افزود: فدراسیون جهانی ما بیش از ۲۰۲ عضو دارد. فعالیت های ما در بخش آموزش\n",
      "باید در بخش جوانان متمرکز باشد چون آن ها فعالیت در این رشته را خیلی دوست\n",
      "دارند. رویکرد ما نسبت به فدراسیون ایران حمایتی است و امیدوارم در کنار کمیته\n",
      "ملی المپیک بتوانیم به این رشته در ایران کمک کنیم.\n",
      "\n",
      "رییس فدراسیون جهانی پرورش اندام در پاسخ به این سوال که ایران چقدر برای کسب\n",
      "میزبانی مسابقات جهانی شانس دارد، تصریح کرد: کاملا این موضوع محتمل است. ما روی\n",
      "این موضوع کار می کنیم تا بعد از بررسی جزییات و حمایت کمیته ملی المپیک و\n",
      "فدراسیون ایران در سال ۲۰۲۳ مسابقات جهانی را در کشور ایران برگزار کنیم.\n",
      "\n",
      "سانتونجا در خصوص بحث مبارزه با دوپینگ و عزم IFBB برای اشاعه ورزش پاک گفت:\n",
      "ایران به عنوان یکی از اعضای فدراسیون جهانی بدنسازی بسیار به این موضوع وفادار\n",
      "است. ما در مسیر مبارزه با دوپینگ با فدراسیون ایران هم راستا هستیم. باور داریم\n",
      "بدنسازی ساختن فیزیک مناسب از طریق تامین سلامت و تغذیه سالم است. یک پیغام برای\n",
      "جوانان ایران دارم که سخت تلاش کنید و صحیح تغذیه داشته باشید تا بتوانید قهرمان\n",
      "شوید.\n",
      "\n",
      "انتهای پیام\n",
      "\n",
      "\n",
      "\n",
      "\n",
      "به گزارش ایسنا، امامعلی حبیبی زاده ۵ خردادماه ۱۳۱۰ در درزی کلای بابل، دارنده\n",
      "مدال طلای المپیک ۱۹۵۶ ملبورن و سه مدال طلای جهان در سال های ۱۹۵۹ تهران، ۱۹۶۱\n",
      "یوکوهاما و ۱۹۶۲ تولیدو و مدال طلای بازی های آسیایی ۱۹۵۸ توکیو یکی از بهترین\n",
      "کشتی گیران آزادکار جهان محسوب می شود که سرعت و مهارت خاصی در اجرای فنون مختلف\n",
      "کشتی داشت.\n",
      "\n",
      "مراسم تولد ۹۰ سالگی این قهرمان بزرگ کشتی ایران به همت دوست داران این پیشکسوت\n",
      "قدیمی ورزش ایران برگزار شد که محمد نصیری قهرمان وزنه برداری المپیک و جهان، علی\n",
      "اکبر حیدری سرمربی تیم ملی کشتی آزاد پیشکسوتان و دارنده مدال برنز المپیک و علی\n",
      "اکبر جیرسرایی رئیس کمیته پیشکسوتان نیز به نمایندگی از فدراسیون کشتی در این\n",
      "مراسم حضور داشتند.\n",
      "\n",
      "![](https://cdn.isna.ir/d/2021/05/27/0/61937138.gif)\n",
      "\n",
      "رئیس فدراسیون کشتی نیز در این مراسم به صورت تلفنی تولد این کشتی گیر پرافتخار\n",
      "مازندرانی را به وی تبریک گفت.\n",
      "\n",
      "حبیبی در المپیک ۱۹۵۶ ملبورن اولین مدال طلای تاریخ ورزش ایران در بازیهای المپیک\n",
      "را بدست آورد. در همان مسابقات جهان پهلوان غلامرضا تختی نیز چند ساعت پس از\n",
      "حبیبی مدال طلای المپیک را بر گردن انداخت.\n",
      "\n",
      "انتهای پیام\n",
      "\n",
      "\n",
      "\n",
      "\n",
      "به گزارش ایسنا، حسن رنگرز با اهدای سکه طلا از ملی‌پوشان مازندرانی اعزامی به\n",
      "بازی‌های المپیک توکیو قدردانی بعمل آورد.\n",
      "\n",
      "هفته آینده نیز از سوی اداره کل ورزش و جوانان استان مازندران، مراسم تجلیل دیگری\n",
      "از کشتی‌گیران اعزامی به رقابت‌های المپیک توکیو بعمل خواهد آمد.\n",
      "\n",
      "انتهای پیام\n",
      "\n",
      "\n",
      "\n",
      "\n",
      "به گزارش خبرنگار ورزشی خبرگزاری فارس، [امیرمحمد\n",
      "یزدانی](https://search.farsnews.ir/?q=امیرمحمد یزدانی&o=on) در مراسم تجلیل از\n",
      "ورزشکاران، عنوان کرد: از دانشگاه آزاد برای برگزاری چنین مراسمی تشکر می‌کنم.\n",
      "چنین مراسمی انگیزه ما را برای مسیر قهرمانی دوچندان می‌کند.  \n",
      "  \n",
      "دارنده مدال نقره جهان، خاطرنشان کرد: عوامل هم کمک کردند من بتوانم تحصیلاتم را\n",
      "ادامه دهم اما الان بیشتر روی ورزش تمرکز دارم و پدر و مادرم در تحصیل کمک\n",
      "می‌کنند.  \n",
      "  \n",
      "یزدانی همچنین در خصوص فینال مسابقات جهانی و مبارزه با حریف روسی، یادآور شد:\n",
      "مسابقات جهانی خوب بود اما در فینال فکر کردم امتیاز را به من می‌دهند اما این\n",
      "طور نشد، البته ناداوری نبود. این کشتی‌گیر ‌روس را آنالیز کرده بودم اما او در\n",
      "فینال سبک دیگری کشتی می‌گرفت و او تغییر کرده بود.  \n",
      "  \n",
      "وی در پاسخ به این‌ سوال که برخی می‌گویند احساسی کشتی می‌گیری، گفت: هر کسی یک\n",
      "[سبک زندگی](https://search.farsnews.ir/?q=سبک زندگی&o=on) دارد، ورزش هم همین\n",
      "طور است و نمی‌توانیم ورزشکاران را مقایسه کنیم. من هم تلاش می‌کنم این نقص را\n",
      "برطرف کنم.  \n",
      "وی همچنین از تغییر وزن و کشتی در وزن ۷۰ کیلوگرم خبر داد.  \n",
      "انتهای پیام/\n",
      "\n",
      "\n",
      "\n",
      "\n",
      "به گزارش خبرنگار ورزشی خبرگزاری فارس ، سیدرضا صالحی امیری در حاشیه مراسم تقدیر\n",
      "از قهرمانان پارالمپیکی تیر و کمان در جمع خبرنگاران اظهار داشت: مدیون جانبازان\n",
      "و شهدا هستیم همه ما جیره خوار سفره شهدا هستیم. اگر در فضای باز و آزاد احساس\n",
      "امنیت می‌کنیم بدانیم که عده زیادی از فرزندان ما در این سرزمین خون‌شان را اهدا\n",
      "کردند. در کنارش قشری به نام معلولین داریم که کمتر دیده می شوند.خوشبختانه در\n",
      "حوزه ورزش ایران زمین توجه جدی به این عزیزان شده است. فدراسیون پارالمپیک یک\n",
      "فدراسیون پیشران، مقتدر و با عزت و افتخار در عرصه جهانی است.\n",
      "\n",
      "صالحی امیری ادامه داد: بعد از المپیک ما رقابت‌های پارالمپیک را داشتیم. یک گروه\n",
      "هستند که باید از آنها قدردانی کنیم. اولین گروه عزیزان پارالمپیک ما هستند که حق\n",
      "بزرگی بر گردن من داشته و دارند. همیشه قدردان‌شان هستیم. من در همه محافل‌شان\n",
      "سعی می‌کنم حاضر شوم و مراتب تقدیر و قدردانی را به آنها اعلام کنیم. گروه دوم\n",
      "قهرمانان ملی ما هستند که بعد از این مراسم ما با آقای شعبانی‌بهار عازم فرودگاه\n",
      "هستیم برای استقبال از کشتی‌گیران ما که کشتی هویت ما است، کشتی فقط یک ورزش نیست\n",
      "بخشی از هویت ملی ما است و ورزش امروز در شرایط سخت کرونایی که مردم دغدغه و\n",
      "ناامنی دارند، بیماری‌های مختلف دارند و فشار اقتصادی ورزش از قاب\n",
      "[تلویزیون](https://www.farsnews.ir/special/تلویزیون) به خانه‌ها راه پیدا\n",
      "می‌کند و نشاط و شادابی را وارد خانواده‌ها می‌کند.\n",
      "\n",
      "وی افزود: فوتبال از یک طرف، کشتی از یک طرف؛ شما شاهد بودید در توکیو عزیزان ما\n",
      "به شدت تلاش کردند تا مدال‌های طلا، نقره و برنز به دست آورند. در پارالمپیک زهرا\n",
      "نعمتی ما برای سومین بار به سکو رفته است و درخشید. دیگران عزیزان‌مان هم\n",
      "همین‌طور.\n",
      "\n",
      "رئیس [کمیته ملی المپیک](https://www.farsnews.ir/special/کمیته ملی المپیک)\n",
      "افزود: یک نکته اینجا فراموش می‌شود که می‌خواهم [آن\n",
      "را](https://search.farsnews.ir/?q=آن را&o=on) متذکر شوم اگر یک نفر به سکو\n",
      "می‌رود بیش از 100 نفر در عقبه در حال کمک هستند باور کنید این را از نزدیک شاهد\n",
      "هستیم باید آنها را یاد کنیم. همین آقای شعبانی بهار که امروز شما او را می‌بینید\n",
      "و مربیان‌شان و [کادر](https://search.farsnews.ir/?q=کادر&o=on) فنی و مجموعه‌ها\n",
      "هیأت‌ها ورزشی در سراسر کشور همه تلاش کردند تا زهرا نعمتی به سکو برسد. آنها را\n",
      "باید یاد کنیم که امروز در جمع ما نیستند و در استان‌ها و شهرستان‌ها حضور دارند.\n",
      "\n",
      "![](https://media.farsnews.ir/Uploaded/Files/Images/1400/07/19/14000719000842_Test_NewPhotoFree.jpg)\n",
      "\n",
      "صالحی امیری ادامه داد: نکته آخر اینکه باید تلاش کنیم از طریق رسانه‌ها این فضای\n",
      "سخت با برگزاری رویدادهای مختلف کام ملت را بیشتر شیرین کنیم. ان‌شاءالله این کار\n",
      "را تداوم خواهیم بخشد. رسالت ما و وزارت ورزش هم حمایت است. تعهد کرده‌‌ایم در\n",
      "رسانه ملی و امشب هم باز هم این تعهد را تکرار می‌کنیم و همه توان‌مان را برای\n",
      "حمایت از فدراسیون‌های پنجاه گانه خواهیم داد. امروز سؤال کشتی را مطرح کردید قبل\n",
      "از اعزام کشتی‌گیران به المپیک، سازمان برنامه و بودجه و وزارت ورزش و کمیته ملی\n",
      "المپیک مجموعاً حدود 50 میلیارد تومان کمک کردیم البته ناچیز است باید اسپانسرها\n",
      "و نهادهای دیگر هم به کمک بیایند و در مجموع ورزش قهرمانی ما ان‌شاءالله بدرخشد.\n",
      "\n",
      "انتهای پیام/\n",
      "\n",
      "\n",
      "\n",
      "\n"
     ]
    }
   ],
   "source": [
    "print('\\n'.join([ORIGIN_DATA[i]['content']+\"\\n\\n\" for i in W2VecModelQuery(my_doc_embedding , \"آیا جودو ورزش مناسبی است\").get_result()]))"
   ]
  },
  {
   "cell_type": "code",
   "execution_count": 141,
   "metadata": {},
   "outputs": [
    {
     "name": "stdout",
     "output_type": "stream",
     "text": [
      "PARSIVAR MODEL\n",
      "به گزارش ایسنا، راهنمای گام دوم مبارزه با کووید ۱۹ فاصله گذاری اجتماعی و\n",
      "الزامات سلامت محیط و کار در تمرینات، مسابقات تیم ملی و لیگ برتر رشته های ورزشی\n",
      "مختلف نظیر بسکتبال، وزنه‌برداری، ورزش‌های راکتی شامل تنیس، تنیس روی‌میز،\n",
      "اسکواش، بدمینتون، ورزش‌های رزمی شامل ورزش های رزمی، تکواندو، کونگ فو، ووشو،\n",
      "جودو، هنرهای رزمی و کاراته، اسکی، شنا، فوتبال، دوومیدانی، فوتسال، کشتی آزاد و\n",
      "فرنگی، هندبال، والیبال ساحلی، والیبال سالنی و نیز پروتکل سلامت مراکز و\n",
      "باشگاه‌های ورزشی با همکاری ستاد مقابله با کرونا در ورزش و فدراسیون پزشکی ورزشی\n",
      "و وزارت بهداشت، درمان و آموزش پزشکی تدوین و ابلاغ شد.\n",
      "\n",
      "پروتکل‌های سلامت رشته‌های ورزشی مختلف به همراه پروتکل سلامت مراکز و باشگاه‌های\n",
      "ورزشی در ادامه آمده است:\n",
      "\n",
      "برای مشاهده راهنمای گام دوم مبارزه با کووید ۱۹ فاصله گذاری اجتماعی و الزامات\n",
      "سلامت محیط و کار در تمرینات، مسابقات تیم ملی و لیگ برتر بسکتبال[ اینجا کلیک\n",
      "کنید. ](https://cdn.isna.ir/d/2021/03/19/0/61883656.pdf)\n",
      "\n",
      "برای مشاهده راهنمای گام دوم مبارزه با کووید ۱۹ فاصله گذاری اجتماعی و الزامات\n",
      "سلامت محیط و کار در تمرینات، مسابقات تیم ملی و لیگ برتر وزنه برداری [اینجا\n",
      "کلیک کنید. ](https://cdn.isna.ir/d/2021/03/19/0/61883668.pdf)\n",
      "\n",
      "برای مشاهده راهنمای گام دوم مبارزه با کووید ۱۹ فاصله گذاری اجتماعی و الزامات\n",
      "سلامت محیط و کار در تمرینات، مسابقات تیم ملی و لیگ برتر ورزش های رزمی(ورزش های\n",
      "رزمی، تکواندو، کونگ فو، ووشو، جودو، هنرهای رزمی، کاراته) [اینجا کلیک کنید.\n",
      "](https://cdn.isna.ir/d/2021/03/19/0/61883660.pdf)\n",
      "\n",
      "برای مشاهده راهنمای گام دوم مبارزه با کووید ۱۹ فاصله گذاری اجتماعی و الزامات\n",
      "سلامت محیط و کار در تمرینات، مسابقات تیم ملی و لیگ برتر ورزش های راکتی(تنیس،\n",
      "تنیس روی میز، اسکواش، بدمینتون) [اینجا کلیک کنید.\n",
      "](https://cdn.isna.ir/d/2021/03/19/0/61883659.pdf)\n",
      "\n",
      "برای مشاهده راهنمای گام دوم مبارزه با کووید ۱۹ فاصله گذاری اجتماعی و الزامات\n",
      "سلامت محیط و کار در تمرینات، مسابقات تیم ملی و لیگ برتر اسکی [اینجا کلیک کنید.\n",
      "](https://cdn.isna.ir/d/2021/03/19/0/61883654.pdf)\n",
      "\n",
      "برای مشاهده راهنمای گام دوم مبارزه با کووید ۱۹ فاصله گذاری اجتماعی و الزامات\n",
      "سلامت محیط و کار استخرهای شنا [اینجا کلیک کنید.\n",
      "](https://cdn.isna.ir/d/2021/03/19/0/61883661.pdf)\n",
      "\n",
      "برای مشاهده راهنمای گام دوم مبارزه با کووید ۱۹ فاصله گذاری اجتماعی و الزامات\n",
      "سلامت محیط و کار در مراکز و باشگاه های ورزشی [اینجا کلیک کنید.\n",
      "](https://cdn.isna.ir/d/2021/03/19/0/61883655.pdf)\n",
      "\n",
      "برای مشاهده راهنمای گام دوم مبارزه با کووید ۱۹ فاصله گذاری اجتماعی و الزامات\n",
      "سلامت محیط و کار در تمرینات، مسابقات تیم ملی و لیگ برتر دو ومیدانی [اینجا کلیک\n",
      "کنید. ](https://cdn.isna.ir/d/2021/03/19/0/61883657.pdf)\n",
      "\n",
      "برای مشاهده راهنمای گام دوم مبارزه با کووید ۱۹ فاصله گذاری اجتماعی و الزامات\n",
      "سلامت محیط و کار در مسابقات تیم ملی فوتسال [اینجا کلیک کنید.\n",
      "](https://cdn.isna.ir/d/2021/03/19/0/61883663.pdf)\n",
      "\n",
      "برای مشاهده راهنمای گام دوم مبارزه با کووید ۱۹ فاصله گذاری اجتماعی و الزامات\n",
      "سلامت محیط و کار در تمرینات، مسابقات تیم ملی و لیگ برتر کشتی (آزاد و فرنگی)\n",
      "[اینجا کلیک کنید. ](https://cdn.isna.ir/d/2021/03/19/0/61883664.pdf)\n",
      "\n",
      "برای مشاهده راهنمای گام دوم مبارزه با کووید ۱۹ فاصله گذاری اجتماعی و الزامات\n",
      "سلامت محیط و کار در تمرینات، مسابقات تیم ملی و لیگ هندبال [اینجا کلیک کنید.\n",
      "](https://cdn.isna.ir/d/2021/03/19/0/61883665.pdf)\n",
      "\n",
      "برای مشاهده راهنمای گام دوم مبارزه با کووید ۱۹ فاصله گذاری اجتماعی و الزامات\n",
      "سلامت محیط و کار در تمرینات، مسابقات تیم ملی و لیگ والیبال ساحلی [اینجا کلیک\n",
      "کنید. ](https://cdn.isna.ir/d/2021/03/19/0/61883666.pdf)\n",
      "\n",
      "برای مشاهده راهنمای گام دوم مبارزه با کووید ۱۹ فاصله گذاری اجتماعی و الزامات\n",
      "سلامت محیط و کار در درتمرینات، مسابقات تیم ملی و لیگ والیبال سالنی [اینجا کلیک\n",
      "کنید. ](https://cdn.isna.ir/d/2021/03/19/0/61883667.pdf)\n",
      "\n",
      "برای مشاهده راهنمای گام دوم مبارزه با کووید ۱۹ فاصله گذاری اجتماعی و الزامات\n",
      "سلامت محیط لیگ فوتبال [اینجا کلیک کنید.\n",
      "](https://cdn.isna.ir/d/2021/03/19/0/61883662.pdf)\n",
      "\n",
      "در مورد رشته فوتبال باید در نظر داشت که بر اساس توافق دو طرفه بین فدراسیون\n",
      "پزشکی ورزشی و فدراسیون فوتبال، اجرای پروتکل سلامت لیگ‌های فوتبال ایران در فصل\n",
      "بیستم لیگ برتر فوتبال، همانند فصل پیش از آن، بنابر درخواست ارائه شده بر عهده\n",
      "فدراسیون فوتبال گذاشته شد. با این وجود تنها نسخه اولیه راهنمای گام دوم مبارزه\n",
      "با کووید ۱۹ فاصله گذاری اجتماعی و الزامات سلامت محیط لیگ فوتبال که از سوی\n",
      "فدراسیون پزشکی ورزشی مدنظر قرار گرفت، در دسترس است و از دستورالعمل به روز شده\n",
      "و جدید مقابله با کرونا در فوتبال خبری نبوده و مشخص نیست که مفاد تغییر یافته\n",
      "این دستورالعمل چیست و صرفا به صورت جسته و گریخته از سوی برخی مسئولان در مورد\n",
      "تصمیمات جدید این ستاد اطلاع رسانی می‌شود.\n",
      "\n",
      "انتهای پیام\n",
      "\n",
      "\n",
      "\n",
      "\n",
      "به گزارش ایسنا، بر اساس آخرین اصلاحیه طرح مدیریت هوشمند محدودیت های متناسب با\n",
      "وضعیت و روند بیماری کووید-۱۹ در شهرهای کشور، مصوبه پنجاه و دومین جلسه ستاد ملی\n",
      "مبارزه با کرونا، مشاغل گروه یک (مجاز به فعالیت در تمام شهرستان‌ها حتی در شرایط\n",
      "قرمز)، مشاغل گروه دو (مجاز به فعالیت در شهرهای نارنجی)، مشاغل گروه سه (مجاز به\n",
      "فعالیت در شهرهای زرد) و مشاغل گروه چهار (مجاز به فعالیت تنها در شهرهای آبی)\n",
      "هستند.\n",
      "\n",
      "بر اساس اعلام وزارت بهداشت، درمان و آموزش پزشکی، جدیدترین آمار رنگ‌ بندی\n",
      "شهرستان‌ها تا پایان هفته جاری مصادف با ۳۱ تیرماه این گونه است که ۱۶۹ شهرستان\n",
      "در وضعیت قرمز، ۱۶۶ شهرستان در وضعیت نارنجی و ۱۱۳ شهرستان نیز در وضعیت زرد از\n",
      "نظر شیوع ویروس کرونا، قرار خواهند داشت.\n",
      "\n",
      "**گروه بندی جدید مشاغل ورزشی**\n",
      "\n",
      "طبق بازنگری و ویرایش طرح جامع هوشمند محدودیت، فهرست تغییرات ایجاد شده در\n",
      "گروه‌بندی مشاغل مرتبط با فعالیت باشگاه‌های ورزشی گروه اول شامل استخر روباز،\n",
      "تیراندازی (اهداف پروازی، فضای باز)، تیروکمان، چوگان، دوومیدانی، سوارکاری،\n",
      "قایقرانی (به‌جز دراگون بوت)، کوهنوردی، موتورسواری و اتومبیل‌رانی، دوچرخه سواری\n",
      "است.\n",
      "\n",
      "گروه دوم را بدنسازی و پرورش اندام، اسکی، بولینگ و بیلیارد، تنیس روی میز (داخل\n",
      "سالن)، شمشیربازی (سالنی)، ورزش‌های سه گانه، تیراندازی سالنی، بدمینتون، فوتبال\n",
      "سالنی، ورزش‌های روستایی (سالنی)، والیبال (سالنی) قایقرانی دراگون بوت تشکیل می\n",
      "دهد و گروه سوم شامل انجمن ورزش‌های رزمی، بوکس (سالنی) شنا (استخرهای سرپوشیده و\n",
      "پارک‌های آبی) تکواندو (سالنی) جانبازان و معلولین، ژیمناستیک (سالنی)\n",
      "هاکی(سالنی) کاراته (سالنی) کبدی (سالنی) کشتی (سالنی) کونگ فو و هنرهای رزمی\n",
      "(سالنی) نابینایان، ناشنوایان، نجات غریق (سالنی) ورزش‌های رزمی، ووشو (سالنی) و\n",
      "ورزش‌های زور خانه‌ای (سالنی) می شود.\n",
      "\n",
      "**ورزش های آزاد در مناطق زرد، نارنجی و قرمز**\n",
      "\n",
      "با اعلام رنگ بندی جدید شهرها به تبعیت از وضعیت کرونا، فعالیت در بخش استخر\n",
      "روباز، تیراندازی (اهداف پروازی، فضای باز)، تیروکمان، چوگان، دوومیدانی،\n",
      "سوارکاری، قایقرانی (به‌جز دراگون بوت)، کوهنوردی، موتورسواری و اتومبیل‌رانی و\n",
      "دوچرخه سواری در تمامی شهرهای کشور حتی شهرهای با وضعیت قرمز کرونا منعی ندارد.\n",
      "\n",
      "**ورزش های آزاد در مناطق نارنجی و زرد**\n",
      "\n",
      "بر اساس تغییرات جدید صورت گرفته، فعالیت در حوزه مشاغل بدنسازی و پرورش اندام،\n",
      "اسکی، بولینگ و بیلیارد، تنیس روی میز (داخل سالن)، شمشیربازی (سالنی)، ورزش‌های\n",
      "سه گانه، تیراندازی سالنی، بدمینتون، فوتبال سالنی، ورزش‌های روستایی (سالنی)،\n",
      "والیبال (سالنی) قایقرانی دراگون بوت در شهرهای با رنگ نارنجی از نظر شیوع ویروس\n",
      "کرونا آزاد است و این رشته ها صرفا مجوز فعالیت در شهرهای قرمز را نخواهند داشت.\n",
      "\n",
      "**ورزش های آزاد در مناطق زرد**\n",
      "\n",
      "همچنین طبق فهرست جدید تغییرات ایجاد شده در گروه‌بندی مشاغل مرتبط با فعالیت\n",
      "باشگاه‌های ورزشی، رشته های مربوط به انجمن ورزش‌های رزمی، بوکس (سالنی) شنا\n",
      "(استخرهای سرپوشیده و پارک‌های آبی) تکواندو (سالنی) جانبازان و معلولین،\n",
      "ژیمناستیک (سالنی) هاکی (سالنی) کاراته (سالنی) کبدی (سالنی) کشتی (سالنی) کونگ\n",
      "فو و هنرهای رزمی (سالنی) نابینایان، ناشنوایان، نجات غریق (سالنی) ورزش‌های\n",
      "رزمی، ووشو (سالنی) و ورزش‌های زور خانه‌ای (سالنی) صرفا در شهرهای با رنگ زرد از\n",
      "نظر شیوع ویروس کرونا امکان بازگشایی دارند و فعالیت آن ها در شهرهای با رنگ\n",
      "نارنجی و قرمز ممنوع است.\n",
      "\n",
      "**وضعیت تعطیلی های ورزش در تهران**\n",
      "\n",
      "با توجه به اینکه استان تهران در شهرستان های اسلامشهر، بهارستان، پاکدشت، پردیس،\n",
      "تهران، دماوند، ری، شمیرانات، فیروزکوه، قرچک، ورامین، قدس، ملارد، پیشوا با\n",
      "وضعیت قرمز کرونایی تا پایان هفته جاری مواجه شده است، فعالیت باشگاه‌های ورزشی\n",
      "گروه اول شامل استخر روباز، تیراندازی (اهداف پروازی، فضای باز)، تیروکمان،\n",
      "چوگان، دوومیدانی، سوارکاری، قایقرانی (به‌جز دراگون بوت)، کوهنوردی، موتورسواری\n",
      "و اتومبیل‌رانی، دوچرخه سواری در این شهرها آزاد است.\n",
      "\n",
      "**تیم‌های ملی و لیگ‌ها**\n",
      "\n",
      "باید خاطرنشان کرد بر اساس اعلام ستاد مقابله با کرونا در ورزش به ایسنا، مصوبه\n",
      "مربوط به مجاز بودن فعالیت تیم‌های ملی و لیگ‌ها در سطح لیگ‌برتر در رشته‌های\n",
      "مختلف در تمامی شهرستان‌های کشور، کماکان به قوت خود باقی است.\n",
      "\n",
      "![](https://cdn.isna.ir/d/2021/07/18/3/61981987.jpg)\n",
      "\n",
      "انتهای پیام\n",
      "\n",
      "\n",
      "\n",
      "\n",
      "به گزارش ایسنا، رافائل سانتونجا بعد از دیدار با رییس کمیته ملی المپیک ایران\n",
      "درباره سفر خود به تهران اظهار کرد: خرسند هستیم که در تهران حضور پیدا کردیم.\n",
      "همچنین از ملاقات با رییس کمیته ملی المپیک خوشحالم. ایرانی ها عاشق ورزش هستند؛\n",
      "به ویژه در رشته بدنسازی که وضعیت خوبی هم در این رشته دارند.\n",
      "\n",
      "وی افزود: فدراسیون جهانی ما بیش از ۲۰۲ عضو دارد. فعالیت های ما در بخش آموزش\n",
      "باید در بخش جوانان متمرکز باشد چون آن ها فعالیت در این رشته را خیلی دوست\n",
      "دارند. رویکرد ما نسبت به فدراسیون ایران حمایتی است و امیدوارم در کنار کمیته\n",
      "ملی المپیک بتوانیم به این رشته در ایران کمک کنیم.\n",
      "\n",
      "رییس فدراسیون جهانی پرورش اندام در پاسخ به این سوال که ایران چقدر برای کسب\n",
      "میزبانی مسابقات جهانی شانس دارد، تصریح کرد: کاملا این موضوع محتمل است. ما روی\n",
      "این موضوع کار می کنیم تا بعد از بررسی جزییات و حمایت کمیته ملی المپیک و\n",
      "فدراسیون ایران در سال ۲۰۲۳ مسابقات جهانی را در کشور ایران برگزار کنیم.\n",
      "\n",
      "سانتونجا در خصوص بحث مبارزه با دوپینگ و عزم IFBB برای اشاعه ورزش پاک گفت:\n",
      "ایران به عنوان یکی از اعضای فدراسیون جهانی بدنسازی بسیار به این موضوع وفادار\n",
      "است. ما در مسیر مبارزه با دوپینگ با فدراسیون ایران هم راستا هستیم. باور داریم\n",
      "بدنسازی ساختن فیزیک مناسب از طریق تامین سلامت و تغذیه سالم است. یک پیغام برای\n",
      "جوانان ایران دارم که سخت تلاش کنید و صحیح تغذیه داشته باشید تا بتوانید قهرمان\n",
      "شوید.\n",
      "\n",
      "انتهای پیام\n",
      "\n",
      "\n",
      "\n",
      "\n",
      "به گزارش ایسنا، طبق جدول گروه‌های شغلی، مراکز تمرین و انجام مسابقات ورزشی در\n",
      "گروه شغلی دو، استخرهای سرپوشیده به عنوان گروه شغلی سه و باشگاه‌های ورزشی\n",
      "ورزش‌های پربرخورد از جمله کشتی، کاراته و جودو و نیز باشگاه ورزشی سالنی به\n",
      "عنوان گروه شغلی چهار تعیین شده‌اند.\n",
      "\n",
      "ورزش در مناطق قرمز\n",
      "\n",
      "بر اساس اعلام رنگ بندی شهرها از نظر شیوع ویروس کرونا، مشاغل دو، سه و چهار یعنی\n",
      "فعالیت استخرهای سرپوشیده، باشگاه‌های ورزشی ورزش‌های پربرخورد از جمله کشتی،\n",
      "کاراته و جودو و نیز باشگاه ورزشی سالنی در مناطق قرمز ممنوع است.\n",
      "\n",
      "ورزش در مناطق نارنجی\n",
      "\n",
      "در وضعیت نارنجی یا سطح هشدار ۲ محدودیت‌های مشاغل سطح ۳ و ۴ در آن ها اجرا\n",
      "می‌شود؛ بنابراین استخرهای سرپوشیده به عنوان گروه شغلی سه و باشگاه‌های ورزشی\n",
      "ورزش‌های پربرخورد از جمله کشتی، کاراته و جودو و نیز باشگاه ورزشی سالنی به\n",
      "عنوان گروه شغلی چهار در مناطق نارنجی مجاز به فعالیت نیستند.\n",
      "\n",
      "ورزش در مناطق زرد\n",
      "\n",
      "همچنین مناطقی که در وضعیت زرد قرار دارند شامل محدودیت در سطح شغلی ۴ هستند که\n",
      "به باشگاه‌های ورزشی ورزش‌های پربرخورد از جمله کشتی، کاراته و جودو و نیز باشگاه\n",
      "ورزشی سالنی مربوط می شود.\n",
      "\n",
      "جدیدترین وضعیت شهرها و استان‌های قرمز و نارنجی از نظر شیوع ویروس کرونا در\n",
      "ادامه آمده است:\n",
      "\n",
      "![](https://cdn.isna.ir/d/2021/03/24/3/61885935.jpg)\n",
      "\n",
      "![](https://cdn.isna.ir/d/2021/03/24/3/61885936.jpg)\n",
      "\n",
      "انتهای پیام\n",
      "\n",
      "\n",
      "\n",
      "\n",
      "به گزارش ایسنا، بر اساس آخرین اصلاحیه طرح مدیریت هوشمند محدودیت‌های متناسب با\n",
      "وضعیت و روند بیماری کووید-۱۹ در شهرهای کشور، مصوبه پنجاه و دومین جلسه ستاد ملی\n",
      "مبارزه با کرونا، مشاغل گروه یک (مجاز به فعالیت در تمام شهرستان‌ها حتی در شرایط\n",
      "قرمز)، مشاغل گروه دو (مجاز به فعالیت در شهرهای نارنجی)، مشاغل گروه سه (مجاز به\n",
      "فعالیت در شهرهای زرد) و مشاغل گروه چهار (مجاز به فعالیت تنها در شهرهای آبی)\n",
      "هستند.\n",
      "\n",
      "بر اساس جدیدترین اعلام وزارت بهداشت، درمان و آموزش پزشکی، جدیدترین آمار\n",
      "رنگ‌بندی شهرستان‌ها تا پایان ۹ مهر این گونه است که ۲۹ شهرستان قرمز، ۲۲۴\n",
      "شهرستان نارنجی، ۱۶۵ شهرستان زرد و ۳۰ شهرستان آبی قرار دارند.\n",
      "\n",
      "**گروه‌بندی جدید مشاغل ورزشی**\n",
      "\n",
      "طبق بازنگری و ویرایش طرح جامع هوشمند محدودیت، فهرست تغییرات ایجاد شده در\n",
      "گروه‌بندی مشاغل مرتبط با فعالیت باشگاه‌های ورزشی گروه اول شامل استخر روباز،\n",
      "تیراندازی (اهداف پروازی، فضای باز)، تیروکمان، چوگان، دوومیدانی، سوارکاری،\n",
      "قایقرانی (به‌جز دراگون بوت)، کوهنوردی، موتورسواری و اتومبیل‌رانی، دوچرخه‌سواری\n",
      "است.\n",
      "\n",
      "گروه دوم را بدنسازی و پرورش اندام، اسکی، بولینگ و بیلیارد، تنیس روی میز (داخل\n",
      "سالن)، شمشیربازی (سالنی)، ورزش‌های سه گانه، تیراندازی سالنی، بدمینتون، فوتبال\n",
      "سالنی، ورزش‌های روستایی (سالنی)، والیبال (سالنی) قایقرانی دراگون بوت تشکیل\n",
      "می‌دهد و گروه سوم شامل انجمن ورزش‌های رزمی، بوکس (سالنی) شنا (استخرهای\n",
      "سرپوشیده و پارک‌های آبی) تکواندو (سالنی) جانبازان و معلولان، ژیمناستیک (سالنی)\n",
      "هاکی(سالنی) کاراته (سالنی) کبدی (سالنی) کشتی (سالنی) کونگ فو و هنرهای رزمی\n",
      "(سالنی) نابینایان، ناشنوایان، نجات غریق (سالنی) ورزش‌های رزمی، ووشو (سالنی) و\n",
      "ورزش‌های زور خانه‌ای (سالنی) تشکیل می‌دهند.\n",
      "\n",
      "**ورزش‌های آزاد در مناطق زرد، نارنجی و قرمز**\n",
      "\n",
      "با اعلام رنگ‌بندی جدید شهرها به تبعیت از وضعیت کرونا، فعالیت در بخش استخر\n",
      "روباز، تیراندازی (اهداف پروازی، فضای باز)، تیروکمان، چوگان، دوومیدانی،\n",
      "سوارکاری، قایقرانی (به جز دراگون بوت)، کوهنوردی، موتورسواری و اتومبیل‌رانی و\n",
      "دوچرخه سواری در تمامی شهرهای کشور حتی شهرهای با وضعیت قرمز کرونا منعی ندارد.\n",
      "\n",
      "**ورزش‌های آزاد در مناطق نارنجی و زرد**\n",
      "\n",
      "بر اساس تغییرات جدید صورت گرفته، فعالیت در حوزه مشاغل بدنسازی و پرورش اندام،\n",
      "اسکی، بولینگ و بیلیارد، تنیس روی میز (داخل سالن)، شمشیربازی (سالنی)، ورزش‌های\n",
      "سه گانه، تیراندازی سالنی، بدمینتون، فوتبال سالنی، ورزش‌های روستایی (سالنی)،\n",
      "والیبال (سالنی) و قایقرانی دراگون بوت در شهرهای با رنگ نارنجی از نظر شیوع\n",
      "ویروس کرونا آزاد است و این رشته ها صرفا مجوز فعالیت در شهرهای قرمز را نخواهند\n",
      "داشت.\n",
      "\n",
      "**ورزش‌های آزاد در مناطق زرد**\n",
      "\n",
      "همچنین طبق فهرست جدید تغییرات ایجاد شده در گروه‌بندی مشاغل مرتبط با فعالیت\n",
      "باشگاه‌های ورزشی، رشته‌های مربوط به انجمن ورزش‌های رزمی، بوکس (سالنی) شنا\n",
      "(استخرهای سرپوشیده و پارک‌های آبی) تکواندو (سالنی) جانبازان و معلولین،\n",
      "ژیمناستیک (سالنی) هاکی (سالنی) کاراته (سالنی) کبدی (سالنی) کشتی (سالنی) کونگ\n",
      "فو و هنرهای رزمی (سالنی) نابینایان، ناشنوایان، نجات غریق (سالنی) ورزش‌های\n",
      "رزمی، ووشو (سالنی) و ورزش‌های زور خانه‌ای (سالنی) صرفا در شهرهای با رنگ زرد از\n",
      "نظر شیوع ویروس کرونا امکان بازگشایی دارند و فعالیت آن‌ها در شهرهای با رنگ\n",
      "نارنجی و قرمز ممنوع است.\n",
      "\n",
      "**تیم‌های ملی و لیگ‌های برتر**\n",
      "\n",
      "باید خاطرنشان کرد که بر اساس اعلام ستاد مقابله با کرونا در ورزش به ایسنا،\n",
      "مصوبه مربوط به مجاز بودن فعالیت تیم‌های ملی و لیگ‌ها در سطح لیگ‌برتر در\n",
      "رشته‌های مختلف در تمامی شهرستان‌های کشور، کماکان به قوت خود باقی است.\n",
      "\n",
      "**کدام شهرستان ها قرمز هستند؟**\n",
      "\n",
      "شهرستان‌های تبریز، ملکان (آذربایجان شرقی)، ارومیه، اشنویه، بوکان، تکاب، خوی،\n",
      "سردشت، شاهین دژ، مهاباد، میاندوآب، نقده (آذربایجان غربی)، بانه، دهگلان،\n",
      "دیواندره، سقز، سنندج، کامیاران، مریوان (کردستان)، اسلام آباد غرب، پاوه،\n",
      "جوانرود، روانسر، سرپل ذهاب، کرمانشاه، گیلانغرب، هرسین (کرمانشاه)، ساوه، محلات\n",
      "(مرکزی) همچنان در وضعیت قرمز هستند و بر این اساس صرفا مشاغل مرتبط با فعالیت\n",
      "باشگاه‌های ورزشی گروه اول شامل استخر روباز، تیراندازی (اهداف پروازی، فضای\n",
      "باز)، تیروکمان، چوگان، دوومیدانی، سوارکاری، قایقرانی (به‌جز دراگون بوت)،\n",
      "کوهنوردی، موتورسواری و اتومبیل‌رانی و دوچرخه‌سواری امکان فعالیت دارند.\n",
      "\n",
      "**وضعیت فعالیت های ورزشی در پایتخت**\n",
      "\n",
      "رشته‌های مربوط به انجمن ورزش‌های رزمی، بوکس (سالنی) شنا (استخرهای سرپوشیده و\n",
      "پارک‌های آبی) تکواندو (سالنی) جانبازان و معلولین، ژیمناستیک (سالنی) هاکی\n",
      "(سالنی) کاراته (سالنی) کبدی (سالنی) کشتی (سالنی) کونگ فو و هنرهای رزمی (سالنی)\n",
      "نابینایان، ناشنوایان، نجات غریق (سالنی) ورزش‌های رزمی، ووشو (سالنی) و ورزش‌های\n",
      "زور خانه‌ای (سالنی) صرفا در شهرهای با رنگ زرد از نظر شیوع ویروس کرونا امکان\n",
      "بازگشایی دارند و فعالیت آن‌ها در شهرهای با رنگ نارنجی و قرمز ممنوع است و با\n",
      "توجه به تغییر رنگ بندی شیوع ویروس کرونا در پایتخت از قرمز به نارنجی از پنجم\n",
      "شهریورماه سال جاری تا زمان نارنجی بودن تهران، هر گونه بازگشایی از سوی این\n",
      "رشته‌ها و باشگاه‌های ورزشی غیرقانونی است.\n",
      "\n",
      "انتهای پیام\n",
      "\n",
      "\n",
      "\n",
      "\n",
      "به گزارش خبرنگار ورزشی خبرگزاری فارس، [حمید\n",
      "سجادی](https://www.farsnews.ir/special/حمید سجادی) در جمع خبرنگاران در برنامه\n",
      "حضور در بازدید از اردوی تیم جوانان جودو اظهار داشت: امروز بیش از ۴۰ سال از\n",
      "انقلابی می گذرد که شما ندیده پایش ایستاده اید این برای ما ارزش است. ما\n",
      "[خانواده](https://www.farsnews.ir/special/خانواده) ورزش به سهم خودمان دین\n",
      "داریم . من و تمام ورزشی ها نقش و مسئولیتی در قبال انقلاب داریم. پیشرفت های\n",
      "ورزشی در دنیا بسیار زیاد است سهم ما هم این است که در مسابقات مختلف بدرخشیم.\n",
      "\n",
      "وی خطاب به ورزشکاران و جودوکاران نوجوان و جوان حاضر در سالن مسابقات گفت: آیا\n",
      "کسی در این جمع باور ندارد که در این جمع جودوکاران قهرمان آسیا و جهان و المپیک\n",
      "خواهیم داشت؟ ما تاکنون در جودو ۵ مقام پنجمی المپیک کسب کرده ایم و می توان در\n",
      "آینده انتظار کسب مدال المپیک در جودو را داشت.\n",
      "\n",
      "به گزارش فارس، [حمید سجادی](https://search.farsnews.ir/?q=حمید سجادی&o=on)\n",
      "وزیر ورزش و جوانان که در مراسم افتتاحیه مسابقات جودو نوجوانان و جوانان قهرمانی\n",
      "کشور در سالن جودو [ورزشگاه تختی](https://search.farsnews.ir/?q=ورزشگاه\n",
      "تختی&o=on) حضور پیدا کرده بود در حاشیه مسابقات از پدر و عموی شهید لندی تجلیل\n",
      "کرد.\n",
      "\n",
      "![](https://media.farsnews.ir/Uploaded/Files/Images/1400/07/21/14000721000667_Test_NewPhotoFree.jpg)\n",
      "\n",
      "![](https://media.farsnews.ir/Uploaded/Files/Images/1400/07/21/14000721000668_Test_NewPhotoFree.jpg)\n",
      "\n",
      "انتهای پیام/\n",
      "\n",
      "\n",
      "\n",
      "\n",
      "به گزارش ایسنا، در پی اعلام رسمی فدراسیون جهانی مینی فوتبال مبنی بر برگزاری\n",
      "مسابقات جام‌جهانی مینی فوتبال بانوان و مسابقات جام جهانی زیر ۲۳ سال مردان در\n",
      "سال ۲۰۲۱، با موافقت فدراسیون ورزش های همگانی، انجمن مینی فوتبال برای شرکت تیم\n",
      "های ملی ایران در این مسابقات رسما اعلام آمادگی کرد.\n",
      "\n",
      "کریم مقدم، رییس انجمن مینی فوتبال فدراسیون ورزش های همگانی با اعلام این خبر به\n",
      "ایسنا، اظهار کرد: با وجود پاندمی ویروس کرونا در کشور، حمایت های همه جانبه\n",
      "فدراسیون ورزش های همگانی باعث شد تا علی رغم گذشت تنها شش ماه از تاسیس این\n",
      "انجمن، فعالیت ها بسیار موفق پیش رود تا آن جا که رییس فدراسیون جهانی فعالیت های\n",
      "انجمن مینی فوتبال ایران را الگویی برای تمام فدراسیون های جهان اعلام کرد.\n",
      "\n",
      "مقدم افزود: جام جهانی زنان و مردان زیر ۲۳ سال مرداد ماه سال جاری در شهر کیف\n",
      "پایتخت اوکراین برگزار می شود و ۱۶ کشور در آن شرکت خواهند کرد.\n",
      "\n",
      "رییس انجمن مینی فوتبال فدراسیون ورزش های همگانی با اشاره به عملکرد مطلوب وزارت\n",
      "ورزش و جوانان در احداث ۲۵۰۰ زمین چمن مصنوعی مینی فوتبال در سراسر کشور، گفت:\n",
      "قطعا می توانیم با برگزاری مسابقات، بازیکنان نخبه را به بهترین شکل ممکن شناسایی\n",
      "و به تیم های ملی مردان و زنان دعوت کنیم و همچنین به زودی نحوه برگزاری مسابقات\n",
      "قهرمانی مینی فوتبال کشور و انتخابی تیم های ملی را اطلاع رسانی خواهیم کرد.\n",
      "\n",
      "انتهای پیام\n",
      "\n",
      "\n",
      "\n",
      "\n",
      "به گزارش ایسنا، محمد درخشان رئیس سابق فدراسیون جودو و عضو کمیته برگزاری\n",
      "مسابقات فدراسیون جهانی جودو، جهت حضور در رقابت‌های جهانی ۲۰۲۱ وارد مجارستان\n",
      "شد.\n",
      "\n",
      "طبق برنامه اعلام شده از سوی کمیته برگزاری این رقابت ها، قرعه کشی این دوره از\n",
      "مسابقات امروز(شنبه) به صورت آنلاین برگزار شد و جودوکاران از فردا مبارزات خود\n",
      "را آغاز می‌کنند.  \n",
      "  \n",
      "در هر روز از پیکارهای این دوره مبارزات یک وزن از مردان و یک وزن از زنان برگزار\n",
      "می شود و در پایان نیز رقابت های میکس تیمی برگزار خواهد شد.  \n",
      "  \n",
      "باتوجه به تعلیق ۴ ساله فدراسیون جودوی ایران و ضرورت عقب نماندن جامعه جودوی\n",
      "ایران از جودوی روز جهان، می توان از حضور درخشان در جریان رقابت های جهانی\n",
      "مجارستان به عنوان عضو کمیته برگزاری مسابقات فدراسیون جهانی کمک گرفت و با\n",
      "برگزاری دوره های آموزشی، زمینه انتقال نکات روز جودوی جهان به مربیان، ورزشکاران\n",
      "و داوران ایرانی توسط محمد درخشان عضو کمیته برگزاری مسابقات فدراسیون جهانی را\n",
      "فراهم کرد.  \n",
      "انتهای پیام  \n",
      "\n",
      "\n",
      "\n",
      "\n",
      "به گزارش ایسنا، مسعود روشنی، سخنگوی فدراسیون بدنسازی و پرورش اندام گفت: در\n",
      "شانزدهمین دوره مسابقات پرورش اندام قهرمانی کشور دو ورزشکار به دلیل ارتکاب\n",
      "دوپینگ و دیگری امتناع از دادن تست دوپینگ با محرومیت چهار ساله روبرو شدند.\n",
      "\n",
      "او خاطرنشان کرد: این دو ورزشکار مهرداد زند و حمید سقایی بودند. نفر اول از دادن\n",
      "تست دوپینگ امتناع کرد و تست دوپینگ نفر دوم مثبت اعلام شد.\n",
      "\n",
      "روشنی در خاتمه درباره میزان محرومیت این ورزشکاران تصریح کرد: فدراسیون بدنسازی\n",
      "و پرورش اندام با توجه به شعار سلامت محورکردن رقابت ها و مبارزه با دوپینگ، تمام\n",
      "تلاش خود را برای کنترل هرچه بیشتر دراین مورد خواهد داشت و با خاطیان بر اساس به\n",
      "قوانین برخورد خواهد کرد. به همین منظور این دو ورزشکار به خاطر تخلفات رخ داده\n",
      "به مدت چهار سال از حضور در مسابقات محروم خواهند بود.\n",
      "\n",
      "انتهای پیام\n",
      "\n",
      "\n",
      "\n",
      "\n",
      "به گزارش ایسنا، مهدی علی نژاد درباره مثبت شدن تست دوپینگ یکی از ملی پوشان\n",
      "کاراته ایران در المپیک توکیو، گفت: متاسفانه دوپینگ یکی از ورزشکاران خوب ما\n",
      "مثبت اعلام شد. او برای بیماری خود به پزشک خانوادگی شان مراجعه کرده و پزشک هم\n",
      "مطلع نبوده که داروی تجویزی جزو دوپینگ محسوب می شود. با اینکه بارها تاکید شده\n",
      "بود ورزشکاران بدون هماهنگی به پزشکان بیرون مراجعه نکنند متاسفانه این اتفاق رخ\n",
      "داد و موجب مثبت شدن تست دوپینگ این ورزشکار شد.\n",
      "\n",
      "معاون ورزش قهرمانی وزارت ورزش، افزود: فدراسیون کاراته وکیل خوبی استخدام کرده و\n",
      "به دنبال این است اگر بشود در محرومیت این ورزشکار با توجه به غیر عمدی بودن\n",
      "دوپینگ تخفیف بگیرد.\n",
      "\n",
      "وی در پاسخ به سوال ایسنا مبنی بر شرایط تیم های کاراته، تکواندو و وزنه برداری\n",
      "ایران برای حضور در المپیک، گفت: درباره کاراته غیر از موضوعی که به دوپینگ منجر\n",
      "شد، ۳ ورزشکار دیگر ما شرایط خوبی برای حضور در المپیک دارند. در تکواندو نیز\n",
      "باخت میرهاشم حسینی در رقابت های آسیایی بر اثر حادثه بود و ممکن است این اتفاق\n",
      "برای بهترین های دنیا نیز رخ بدهد. آرمین هادی پور دیگر المپیکی تکواندوی ایران\n",
      "نیز با وجود مصدومیت نتیجه خوبی در رقابت های آسیایی گرفت. به نظر من حضور او در\n",
      "این رقابت ها تصمیم خوبی بود و باعث شد اعتماد به نفس وی پیش از المپیک بالاتر\n",
      "برود. در بخش بانوان نیز ناهید کیانی جزو ورزشکاران خوب ما محسوب می شود.\n",
      "\n",
      "علی نژاد ادامه داد: در وزنه برداری هم اگر ورزشکاران ما رکوردهای خودشان را\n",
      "بزنند قطعا امیدواری زیادی برای کسب مدال المپیک خواهیم داشت.\n",
      "\n",
      "معاون ورزش قهرمانی وزارت ورزش در پاسخ به سوال ایسنا درباره احتمال لغو قانون\n",
      "منع جذب بازیکنان و مربیان خارجی در لیگ برتر فوتبال برای فصل بعد گفت: تصمیمی\n",
      "است که به صورت کلی مطرح شده و فدراسیون باید جزییات آن را اعلام کند. قرار است\n",
      "این موضوع بررسی شود. اگر قرار باشد این قانون اجرایی شود حتما باید به شکلی باشد\n",
      "که به فوتبال ما آسیبی نرسد.\n",
      "\n",
      "وی درباره دیدار با تیم های عربستانی نیز گفت: باید بینیم ای اف سی چه تصمیمی می\n",
      "گیرد. شایعات مبنی بر این است که در زمین بی طرف برگزار می شود. باید ببینیم\n",
      "فدراسیون در اینباره چه تصمیمی می گیرد.\n",
      "\n",
      "علی نژاد در ادامه در پاسخ به این سوال که گفته می شود اتحادیه جهانی دوچرخه\n",
      "سواری نامه ای به کمیته ملی المپیک ایران ارسال کرده و خواستار توضیح درباره نحوه\n",
      "برگزاری انتخابات این فدراسیون شده است، تاکید کرد: هیچ نامه ای از فدراسیون\n",
      "جهانی دوچرخه سواری ارسال نشده است.\n",
      "\n",
      "معاون ورزش قهرمانی وزارت ورزش در ادامه درباره سطح برگزاری اولین دوره لیگ\n",
      "پاورلیفتینگ گفت: رویداد خوبی بود که باعث شد قهرمانان خوب ما رقابت نزدیکی با هم\n",
      "داشته باشند و شاهد رکوردهای خوبی بودیم. ما در این رشته صاحب مدال در آسیا و\n",
      "جهان هستیم و امیدوارم شاهد روزهای خوبی در این رشته باشیم.\n",
      "\n",
      "وی در پایان درباره احتمال المپیکی شدن این رشته گفت: راه المپیکی شدن یک رشته\n",
      "دشوار است. در قسمت اول باید یک رشته توسط کمیته بین المللی المپیک به رسمیت\n",
      "شناخته شود. تلاش ما این است این رشته به همراه بدنسازی ابتدا وارد بازی های\n",
      "آسیایی شود. اتفاقا درباره ورود این رشته ها صحبت هایی انجام شده است و امیدوارم\n",
      "اتفاقات خوبی در اینباره رخ بدهد. انتهای پیام\n",
      "\n",
      "\n",
      "\n",
      "\n"
     ]
    }
   ],
   "source": [
    "print(\"PARSIVAR MODEL\")\n",
    "print('\\n'.join([ORIGIN_DATA[i]['content']+\"\\n\\n\" for i in W2VecModelQuery(parsivar_doc_embedding , \"آیا جودو ورزش مناسبی است\").get_result()]))"
   ]
  },
  {
   "cell_type": "markdown",
   "metadata": {},
   "source": [
    "همانطور ک میبینیم هر دو مدل تقریبا  مرتبط میاورند ولی  در جواب های مدلی ک خودمان  آموزش داده ایم حتی یک بار  هم \n",
    "کلمه جودو نیامده است و همه معیار ها برای آن ۰ است زیرا  با کلمات کمی آموزش داده شده است ولی  همانطور که میبینیم برای مدل دوم به وفور کلمات جودو دیده میشود زیرا مدل پارسیور از دیتاست بزرگی استفاده کرده استو معیار های آن  به شکل \n",
    "زیر است \n",
    "\n",
    "\n",
    "به ترتیب سند های بازگردانی شده :\n",
    " مرتبط  نامرتبط مرتبط  نامرتبط مرتبط  نامرتبط  مرتبط\n",
    " \n",
    " هستند\n",
    "پس\n",
    "\n",
    "\n",
    "precision@1 =1\n",
    "\n",
    "precision@5 = 0.4\n",
    "\n",
    "avarege_precision = 0.70952381\n",
    "\n",
    "reciprocal_rank = 1"
   ]
  },
  {
   "cell_type": "code",
   "execution_count": null,
   "metadata": {},
   "outputs": [],
   "source": []
  },
  {
   "cell_type": "code",
   "execution_count": null,
   "metadata": {},
   "outputs": [],
   "source": []
  }
 ],
 "metadata": {
  "kernelspec": {
   "display_name": "venv",
   "language": "python",
   "name": "venv"
  },
  "language_info": {
   "codemirror_mode": {
    "name": "ipython",
    "version": 3
   },
   "file_extension": ".py",
   "mimetype": "text/x-python",
   "name": "python",
   "nbconvert_exporter": "python",
   "pygments_lexer": "ipython3",
   "version": "3.8.10"
  }
 },
 "nbformat": 4,
 "nbformat_minor": 4
}
