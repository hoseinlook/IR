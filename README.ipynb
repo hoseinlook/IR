{
 "cells": [
  {
   "cell_type": "code",
   "execution_count": 1,
   "metadata": {},
   "outputs": [],
   "source": [
    "from main import load_or_create_the_index ,ORIGIN_DATA ,InvertedIndex\n",
    "from query import Query"
   ]
  },
  {
   "cell_type": "code",
   "execution_count": 2,
   "metadata": {},
   "outputs": [
    {
     "name": "stdout",
     "output_type": "stream",
     "text": [
      "loading index from file\n"
     ]
    }
   ],
   "source": [
    "load_or_create_the_index()"
   ]
  },
  {
   "cell_type": "code",
   "execution_count": 3,
   "metadata": {},
   "outputs": [],
   "source": [
    "def print_origin_new(res):\n",
    "     for i,j in enumerate(res):\n",
    "            \n",
    "            print(ORIGIN_DATA[j]['title'] +\" -- \"+str(i+1))\n",
    "            print(\"doc_id =\",j,\"                        \")\n",
    "            print()\n",
    "            print()\n",
    "        "
   ]
  },
  {
   "cell_type": "markdown",
   "metadata": {
    "direction": "rtl"
   },
   "source": [
    "# سوال۱ \n",
    "ابتدا متن را گرفته و لینک هارو از ان حذف میکنیم با ریجکس\n",
    "\n",
    "سپس حروف های اضافه مانند ()!*# و.. را حذف میکنیم\n",
    "حالا متن ما نرمال شده\n",
    "سپس توکنایز میکنیم \n",
    "و بعد توکن های پرتکرار یا همان stopwords هارو حذف میکنیم و در نهایت  ریشه یابی رو روی توکن ها انجام میدهیم"
   ]
  },
  {
   "cell_type": "markdown",
   "metadata": {
    "direction": "rtl"
   },
   "source": [
    "# سوال2 \n",
    "اگر  کلمات پر تکرار را حذف نکنیم"
   ]
  },
  {
   "cell_type": "code",
   "execution_count": 10,
   "metadata": {},
   "outputs": [
    {
     "data": {
      "image/png": "[encoded data removed]",
      "text/plain": [
       "<Figure size 432x288 with 1 Axes>"
      ]
     },
     "metadata": {
      "needs_background": "light"
     },
     "output_type": "display_data"
    }
   ],
   "source": [
    "import matplotlib.pyplot as plt\n",
    "import math\n",
    "With_stops_INDEX = './data/without_stops_index'\n",
    "\n",
    "InvertedIndex.load(Without_stops_INDEX)\n",
    "\n",
    "x= InvertedIndex.get_counts()\n",
    "len_key = len(list(x.keys()))\n",
    "values = list(x.values())\n",
    "values.sort(key=lambda t:t,reverse=True)\n",
    "\n",
    "\n",
    "max_number = values[0]\n",
    "\n",
    "l = []\n",
    "l2 = []\n",
    "l3 = []\n",
    "for i in values:\n",
    "    l3.append(math.log(i, 10))\n",
    "\n",
    "for i in range(len_key):\n",
    "    l.append(math.log(i+1, 10))\n",
    "    l2.append(math.log(max_number/(i+1), 10))\n",
    "\n",
    "plt.plot(l, l2)\n",
    "plt.plot(l, l3)\n",
    "plt.show()\n",
    "\n"
   ]
  },
  {
   "cell_type": "markdown",
   "metadata": {
    "direction": "rtl"
   },
   "source": [
    "و اگر  کلمات پر تکرار را حذف کنیم"
   ]
  },
  {
   "cell_type": "code",
   "execution_count": 11,
   "metadata": {},
   "outputs": [
    {
     "data": {
      "image/png": "[encoded data removed]",
      "text/plain": [
       "<Figure size 432x288 with 1 Axes>"
      ]
     },
     "metadata": {
      "needs_background": "light"
     },
     "output_type": "display_data"
    }
   ],
   "source": [
    "import matplotlib.pyplot as plt\n",
    "import math\n",
    "NORMAL_INDEX = './data/index'\n",
    "\n",
    "InvertedIndex.load(NORMAL_INDEX)\n",
    "\n",
    "x= InvertedIndex.get_counts()\n",
    "len_key = len(list(x.keys()))\n",
    "values = list(x.values())\n",
    "values.sort(key=lambda t:t,reverse=True)\n",
    "\n",
    "\n",
    "max_number = values[0]\n",
    "\n",
    "l = []\n",
    "l2 = []\n",
    "l3 = []\n",
    "for i in values:\n",
    "    l3.append(math.log(i, 10))\n",
    "\n",
    "for i in range(len_key):\n",
    "    l.append(math.log(i+1, 10))\n",
    "    l2.append(math.log(max_number/(i+1), 10))\n",
    "\n",
    "plt.plot(l, l2)\n",
    "plt.plot(l, l3)\n",
    "plt.show()\n",
    "\n"
   ]
  },
  {
   "cell_type": "markdown",
   "metadata": {
    "direction": "rtl"
   },
   "source": [
    "اگر در نمودار اول دقت کنیم دو خط در نمودار به هم نزدیک تر هستند پس خط آبی یا همون تخمین ما دقیق تر بوده است و تخمین بهتری است\n",
    "\n",
    "ما کلمات پرتکرار را در اون حالت حذف نکرده ایم پس تخمینمون طبق قانون zipf خواهد بود"
   ]
  },
  {
   "cell_type": "markdown",
   "metadata": {
    "direction": "rtl"
   },
   "source": [
    "# سوال۳"
   ]
  },
  {
   "cell_type": "code",
   "execution_count": null,
   "metadata": {},
   "outputs": [],
   "source": []
  },
  {
   "cell_type": "markdown",
   "metadata": {
    "direction": "rtl"
   },
   "source": [
    "# سوال 4"
   ]
  },
  {
   "cell_type": "markdown",
   "metadata": {
    "direction": "rtl"
   },
   "source": [
    "۱ در بعضی از حالات نمیخواهیم ریشه یابی انجام شود برای مثال کلمه \"مردم\" و فعل \"مردم\" که به \"مرد\" ریشه یابی میشوند\n",
    "\n",
    "۲ بعضی از   ضعف های کتابخانه هضم که برای مثال کلمه \"پیام\" رو به \"پیا\" ریشه یابی میکرد\n",
    "\n",
    "۳ ریشه برخی کلمات دوحرفی  هستند و با کلمات پر تکرار اشتباه میشوند مانند دریدن که ریشه آن در است"
   ]
  },
  {
   "cell_type": "code",
   "execution_count": null,
   "metadata": {},
   "outputs": [],
   "source": []
  },
  {
   "cell_type": "code",
   "execution_count": null,
   "metadata": {},
   "outputs": [],
   "source": []
  },
  {
   "cell_type": "markdown",
   "metadata": {
    "direction": "rtl"
   },
   "source": [
    "# توضیحاتی در مورد کلاس  Query\n",
    "\n",
    "این کلاس دارای سه متد است که :\n",
    "\n",
    "best_Search برای ما بهترین و دقیق‌ترین سرچ را انجام میدهد و داک هایی را برمیگرداند که دقیقا به همان ترتیب سرچ و پشت‌سر هم در متن امده است و این جواب‌ها دقیقا با خواسته کاربر مطابقت دارند\n",
    "\n",
    "sub_search تمام زیر حالت های ممکن از کلمات را ساخته و سرچ میکند ( اول زیر ترکیب های بزرگتر سپس کوچکتر را برمیگرداند)\n",
    "\n",
    "full_search ابتدا best_search را صدا میزند و جواب هارو در لیست ریخته سپس sub_search  را صدا میزند و جوابها را به ته آن لیست اضافه میکند و در آخر با حفظ اولویت تکراری هارا حذف میکند"
   ]
  },
  {
   "cell_type": "markdown",
   "metadata": {
    "direction": "rtl"
   },
   "source": [
    "# سوال ۵"
   ]
  },
  {
   "cell_type": "markdown",
   "metadata": {},
   "source": [
    "###   الف) بین‌الملل"
   ]
  },
  {
   "cell_type": "code",
   "execution_count": null,
   "metadata": {},
   "outputs": [],
   "source": [
    "res =Query('بین‌الملل').best_search()\n",
    "print_origin_new(res)"
   ]
  },
  {
   "cell_type": "markdown",
   "metadata": {},
   "source": [
    "###   ب) دانشگاه امیرکبیر"
   ]
  },
  {
   "cell_type": "code",
   "execution_count": null,
   "metadata": {},
   "outputs": [],
   "source": [
    "res =Query('دانشگاه امیرکبیر').best_search()\n",
    "print_origin_new(res)"
   ]
  },
  {
   "cell_type": "code",
   "execution_count": null,
   "metadata": {},
   "outputs": [],
   "source": [
    "res =Query('دانشگاه امیرکبیر').full_search()\n",
    "print_origin_new(res)"
   ]
  },
  {
   "cell_type": "markdown",
   "metadata": {},
   "source": [
    "### پ)\n",
    "### دانشگاه صنعتی امیرکبیر، سازمان ملل متحد، جمهوری اسلامی ایران"
   ]
  },
  {
   "cell_type": "code",
   "execution_count": null,
   "metadata": {},
   "outputs": [],
   "source": [
    "res =Query('دانشگاه صنعتی امیرکبیر').best_search()\n",
    "print_origin_new(res)"
   ]
  },
  {
   "cell_type": "code",
   "execution_count": null,
   "metadata": {},
   "outputs": [],
   "source": [
    "res =Query('دانشگاه صنعتی امیرکبیر').full_search()\n",
    "print_origin_new(res)"
   ]
  },
  {
   "cell_type": "code",
   "execution_count": null,
   "metadata": {},
   "outputs": [],
   "source": [
    "res =Query('سازمان ملل متحد').best_search()\n",
    "print_origin_new(res)"
   ]
  },
  {
   "cell_type": "code",
   "execution_count": null,
   "metadata": {},
   "outputs": [],
   "source": [
    "res =Query('جمهوری اسلامی ایران').best_search()\n",
    "print_origin_new(res)"
   ]
  },
  {
   "cell_type": "markdown",
   "metadata": {},
   "source": [
    "###   ت) ژیمناستیک "
   ]
  },
  {
   "cell_type": "code",
   "execution_count": null,
   "metadata": {},
   "outputs": [],
   "source": [
    "res =Query('ژیمناستیک').best_search()\n",
    "print_origin_new(res)"
   ]
  },
  {
   "cell_type": "markdown",
   "metadata": {},
   "source": [
    "###   ث) واکسن آسترازنکا "
   ]
  },
  {
   "cell_type": "code",
   "execution_count": null,
   "metadata": {},
   "outputs": [],
   "source": [
    "res =Query('واکسن آسترازنکا').best_search()\n",
    "print_origin_new(res)\n"
   ]
  },
  {
   "cell_type": "code",
   "execution_count": null,
   "metadata": {},
   "outputs": [],
   "source": [
    "res =Query('واکسن آسترازنکا').full_search()\n",
    "print_origin_new(res)\n"
   ]
  },
  {
   "cell_type": "code",
   "execution_count": null,
   "metadata": {},
   "outputs": [],
   "source": []
  }
 ],
 "metadata": {
  "kernelspec": {
   "display_name": "venv",
   "language": "python",
   "name": "venv"
  },
  "language_info": {
   "codemirror_mode": {
    "name": "ipython",
    "version": 3
   },
   "file_extension": ".py",
   "mimetype": "text/x-python",
   "name": "python",
   "nbconvert_exporter": "python",
   "pygments_lexer": "ipython3",
   "version": "3.8.5"
  }
 },
 "nbformat": 4,
 "nbformat_minor": 4
}
